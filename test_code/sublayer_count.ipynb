{
 "cells": [
  {
   "cell_type": "code",
   "execution_count": 1,
   "metadata": {},
   "outputs": [],
   "source": [
    "import numpy as np\n",
    "\n",
    "from ase.visualize import view\n",
    "\n",
    "from Core import Nanoparticle as NP\n",
    "from MCMC.monte_carlo_etop import run_monte_carlo\n",
    "from Core.GlobalFeatureClassifier import ExtendedTopologicalFeaturesClassifier as ETOP\n",
    "from Core.EnergyCalculator import BayesianRRCalculator"
   ]
  },
  {
   "cell_type": "code",
   "execution_count": 7,
   "metadata": {},
   "outputs": [],
   "source": [
    "etops = []\n",
    "for i in range(6):\n",
    "    p = NP.Nanoparticle()\n",
    "    p.read(f'D:/work/POSCAR_{i}')\n",
    "    etop = ETOP(p.get_all_symbols())\n",
    "    etop.compute_feature_vector(p)\n",
    "    etops.append(p.get_feature_vector('ETOP'))\n"
   ]
  },
  {
   "cell_type": "code",
   "execution_count": 20,
   "metadata": {},
   "outputs": [
    {
     "name": "stdout",
     "output_type": "stream",
     "text": [
      "2.0\n",
      "4.0\n",
      "8.0\n",
      "2.0\n",
      "6.0\n",
      "break\n",
      "2.0\n",
      "6.0\n",
      "0.0\n",
      "4.0\n",
      "break\n",
      "4.0\n",
      "2.0\n",
      "2.0\n",
      "break\n",
      "6.0\n",
      "2.0\n",
      "break\n",
      "4.0\n",
      "break\n",
      "break\n"
     ]
    }
   ],
   "source": [
    "g = 1\n",
    "for f in etops:\n",
    "    for i in etops[g:]:\n",
    "        print(sum(abs(f-i)))\n",
    "    print(\n",
    "        'break'\n",
    "    )\n",
    "    g+=1"
   ]
  },
  {
   "cell_type": "code",
   "execution_count": 5,
   "metadata": {},
   "outputs": [
    {
     "ename": "NameError",
     "evalue": "name 'etop' is not defined",
     "output_type": "error",
     "traceback": [
      "\u001b[1;31m---------------------------------------------------------------------------\u001b[0m",
      "\u001b[1;31mNameError\u001b[0m                                 Traceback (most recent call last)",
      "Cell \u001b[1;32mIn[5], line 1\u001b[0m\n\u001b[1;32m----> 1\u001b[0m \u001b[43metop\u001b[49m\u001b[38;5;241m.\u001b[39msublayer_indices\u001b[38;5;241m.\u001b[39msum()\n",
      "\u001b[1;31mNameError\u001b[0m: name 'etop' is not defined"
     ]
    }
   ],
   "source": [
    "etop.sublayer_indices.sum()"
   ]
  },
  {
   "cell_type": "code",
   "execution_count": 6,
   "metadata": {},
   "outputs": [
    {
     "data": {
      "text/plain": [
       "[148.0,\n",
       " 928.0,\n",
       " 0.0,\n",
       " 928.0,\n",
       " 12.0,\n",
       " 0.0,\n",
       " 79.0,\n",
       " 43.0,\n",
       " 0.0,\n",
       " 0.0,\n",
       " 0.0,\n",
       " 0.0,\n",
       " 0.0,\n",
       " 0.0,\n",
       " 0.0,\n",
       " 0.0,\n",
       " 0.0,\n",
       " 0.0,\n",
       " 0.0,\n",
       " 0.0,\n",
       " 0.0,\n",
       " 102.0,\n",
       " 0.0,\n",
       " 0.0,\n",
       " 0.0,\n",
       " 0.0,\n",
       " 0.0,\n",
       " 0.0,\n",
       " 24.0,\n",
       " 60.0,\n",
       " 24.0,\n",
       " 96.0,\n",
       " 0.0,\n",
       " 0.0,\n",
       " 98.0,\n",
       " 0.0,\n",
       " 0.0,\n",
       " 0.0,\n",
       " 0.0,\n",
       " 0.0,\n",
       " 0.0,\n",
       " 0.0,\n",
       " 0.0,\n",
       " 0.0,\n",
       " 0.0,\n",
       " 0.0,\n",
       " 0.0,\n",
       " 1.0]"
      ]
     },
     "execution_count": 6,
     "metadata": {},
     "output_type": "execute_result"
    }
   ],
   "source": [
    "etop = ETOP(p.get_all_symbols())\n",
    "etop.compute_feature_vector(p)\n",
    "p.get_feature_vector('ETOP').tolist()\n"
   ]
  },
  {
   "cell_type": "code",
   "execution_count": 3,
   "metadata": {},
   "outputs": [],
   "source": [
    "def get_sublayer_indices(partile):\n",
    "\n",
    "    sublayer_indices = np.zeros(partile.get_n_atoms())\n",
    "    for index in partile.get_indices():\n",
    "        if len(partile.neighbor_list[index]) < 12:\n",
    "            for sub_index in partile.neighbor_list[index]:\n",
    "                if len(partile.neighbor_list[sub_index]) == 12:\n",
    "                    sublayer_indices[sub_index] = 1\n",
    "\n",
    "    return sublayer_indices\n",
    "\n",
    "sublayer_indices = get_sublayer_indices(p)\n"
   ]
  },
  {
   "cell_type": "code",
   "execution_count": 4,
   "metadata": {},
   "outputs": [],
   "source": [
    "ind_feature_vector = {p.get_all_symbols()[x] : x for x in range(len(p.get_all_symbols()))}"
   ]
  },
  {
   "cell_type": "code",
   "execution_count": 5,
   "metadata": {},
   "outputs": [],
   "source": [
    "ind_feature_vector = {p.get_all_symbols()[x] : x for x in range(len(p.get_all_symbols()))}\n",
    "\n",
    "tot_features = np.empty((140,3))\n",
    "for f in p.get_indices():\n",
    "    atom_feature = np.zeros(len(ind_feature_vector))\n",
    "    symb = p.get_symbol(f)\n",
    "    atom_feature[ind_feature_vector[symb]] = sublayer_indices[f]\n",
    "    tot_features[f] = atom_feature"
   ]
  },
  {
   "cell_type": "code",
   "execution_count": 9,
   "metadata": {},
   "outputs": [
    {
     "data": {
      "text/plain": [
       "array([13., 15., 10.])"
      ]
     },
     "execution_count": 9,
     "metadata": {},
     "output_type": "execute_result"
    }
   ],
   "source": [
    "tot_features.sum(axis=0)"
   ]
  },
  {
   "cell_type": "code",
   "execution_count": 6,
   "metadata": {},
   "outputs": [
    {
     "data": {
      "text/plain": [
       "'Ni'"
      ]
     },
     "execution_count": 6,
     "metadata": {},
     "output_type": "execute_result"
    }
   ],
   "source": [
    "p.get_symbol(12)"
   ]
  },
  {
   "cell_type": "code",
   "execution_count": 61,
   "metadata": {},
   "outputs": [
    {
     "data": {
      "text/plain": [
       "array([1., 0., 0.])"
      ]
     },
     "execution_count": 61,
     "metadata": {},
     "output_type": "execute_result"
    }
   ],
   "source": [
    "tot_features[12]"
   ]
  },
  {
   "cell_type": "code",
   "execution_count": null,
   "metadata": {},
   "outputs": [],
   "source": []
  }
 ],
 "metadata": {
  "kernelspec": {
   "display_name": "Python 3.8.5 ('npl')",
   "language": "python",
   "name": "python3"
  },
  "language_info": {
   "codemirror_mode": {
    "name": "ipython",
    "version": 3
   },
   "file_extension": ".py",
   "mimetype": "text/x-python",
   "name": "python",
   "nbconvert_exporter": "python",
   "pygments_lexer": "ipython3",
   "version": "3.8.5"
  },
  "orig_nbformat": 4,
  "vscode": {
   "interpreter": {
    "hash": "71a9c43f358d61bfff628550127d5d36a9f1c496986c94c6493e65597dc906fc"
   }
  }
 },
 "nbformat": 4,
 "nbformat_minor": 2
}
