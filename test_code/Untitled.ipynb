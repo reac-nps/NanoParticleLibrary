{
 "cells": [
  {
   "cell_type": "code",
   "execution_count": 1,
   "id": "972564d8-d097-4387-bd65-e688c2d25617",
   "metadata": {},
   "outputs": [],
   "source": [
    "%load_ext autoreload\n",
    "\n",
    "%autoreload 2"
   ]
  },
  {
   "cell_type": "code",
   "execution_count": 2,
   "id": "dedaa057",
   "metadata": {},
   "outputs": [
    {
     "name": "stdout",
     "output_type": "stream",
     "text": [
      "Resulting stoichiometry: {'Au': 47, 'Ni': 47, 'Pt': 46}\n"
     ]
    }
   ],
   "source": [
    "import numpy as np\n",
    "\n",
    "from Core import Nanoparticle as NP\n",
    "from MCMC.monte_carlo_etop import run_monte_carlo\n",
    "from Core.GlobalFeatureClassifier import ExtendedTopologicalFeaturesClassifier as ETOP\n",
    "from Core.EnergyCalculator import BayesianRRCalculator\n",
    "\n",
    "p = NP.Nanoparticle()\n",
    "p.truncated_octahedron(6,1,{'Au' : 0.33,'Ni' : 0.34,'Pt' : 0.33})\n",
    "etop = ETOP(p.get_all_symbols())\n",
    "energy_calculator = BayesianRRCalculator(etop.feature_key)\n",
    "energy_calculator.set_coefficients(np.random.rand(45))\n",
    "best, _ = run_monte_carlo(20,20, p, energy_calculator, etop)"
   ]
  },
  {
   "cell_type": "code",
   "execution_count": 13,
   "id": "e801383b-9936-4832-a4cc-72d938a3869e",
   "metadata": {},
   "outputs": [],
   "source": [
    "import sys\n",
    "sys.path.append('/home/riccardo/Projects/NanoParticleLibrary/')"
   ]
  },
  {
   "cell_type": "code",
   "execution_count": 39,
   "id": "c5b29cba-33fa-47de-ad6d-56d9c1029c42",
   "metadata": {},
   "outputs": [
    {
     "name": "stdout",
     "output_type": "stream",
     "text": [
      "Resulting stoichiometry: {'Pt': 146}\n"
     ]
    }
   ],
   "source": [
    "from Core import Nanoparticle as NP\n",
    "import numpy as np\n",
    "p = NP.Nanoparticle()\n",
    "\n",
    "p.truncated_octahedron(6,0,{'Pt':1})\n",
    "p.construct_adsorption_list()\n",
    "list_ads = p.get_adsorption_as_list()\n",
    "\n",
    "site_and_generalized_coordination_number = np.zeros(p.get_total_number_of_sites())\n",
    "\n",
    "for i,ads_site_atom_indices in enumerate(list_ads):\n",
    "        site_and_generalized_coordination_number[i] = p.get_generalized_coordination_number(ads_site_atom_indices)"
   ]
  },
  {
   "cell_type": "code",
   "execution_count": 40,
   "id": "fd9b563a-ff33-44e9-8917-b58517a6a432",
   "metadata": {},
   "outputs": [],
   "source": [
    "all_generalized_coordination_number = list(p.get_generalized_coordination_numbers(list_ads).keys())"
   ]
  },
  {
   "cell_type": "code",
   "execution_count": 50,
   "id": "2f9dedda-ab82-40a6-8978-683f26065782",
   "metadata": {},
   "outputs": [
    {
     "data": {
      "text/plain": [
       "array([0., 2., 2., 1., 2., 1., 1., 0., 3., 0., 3., 4., 1., 5., 2., 6., 2.,\n",
       "       3., 0., 1., 1.])"
      ]
     },
     "execution_count": 50,
     "metadata": {},
     "output_type": "execute_result"
    }
   ],
   "source": [
    "p.random_occupation(40)\n",
    "occupation_generalized_coordination_number = np.zeros(len(all_generalized_coordination_number))\n",
    "for f in p.get_indices_of_adsorbates():   \n",
    "    index = all_generalized_coordination_number.index(site_and_generalized_coordination_number[f])\n",
    "    occupation_generalized_coordination_number[index] += 1\n",
    "occupation_generalized_coordination_number"
   ]
  },
  {
   "cell_type": "code",
   "execution_count": 52,
   "id": "3cb505db-ac8e-431a-b66d-da9aff81370a",
   "metadata": {},
   "outputs": [
    {
     "data": {
      "text/plain": [
       "0.0"
      ]
     },
     "execution_count": 52,
     "metadata": {},
     "output_type": "execute_result"
    }
   ],
   "source": [
    "occupation_generalized_coordination_number[0]*10"
   ]
  },
  {
   "cell_type": "code",
   "execution_count": 85,
   "id": "eca45183-9375-4b2f-b85a-2b248c6f3e70",
   "metadata": {},
   "outputs": [
    {
     "name": "stdout",
     "output_type": "stream",
     "text": [
      "[ 19  51  68  74  81  91 108 114 124 130 135 157 188 194 196 199 203 215\n",
      " 217 227 233 260 309 310 321 324 325 345 348 385 397 407 412 416 423 425\n",
      " 451 466 477 500]\n"
     ]
    },
    {
     "data": {
      "text/plain": [
       "array([0., 1., 1., 2., 2., 4., 0., 3., 5., 1., 3., 3., 2., 4., 1., 6., 0.,\n",
       "       1., 1., 0., 0.])"
      ]
     },
     "execution_count": 85,
     "metadata": {},
     "output_type": "execute_result"
    }
   ],
   "source": [
    "from Core.GlobalFeatureClassifier import GeneralizedCoordinationNumber\n",
    "gcn_calculator = GeneralizedCoordinationNumber(p)\n",
    "p.random_occupation(40)\n",
    "gcn_calculator.compute_feature_vector(p)\n",
    "p.get_feature_vector('GCN')"
   ]
  },
  {
   "cell_type": "code",
   "execution_count": 80,
   "id": "21a0960e-3725-4210-a413-09fa146ca57a",
   "metadata": {},
   "outputs": [
    {
     "data": {
      "text/plain": [
       "0"
      ]
     },
     "execution_count": 80,
     "metadata": {},
     "output_type": "execute_result"
    }
   ],
   "source": [
    "gcn_calculator.all_gcn.index(2.33)"
   ]
  },
  {
   "cell_type": "code",
   "execution_count": 82,
   "id": "dd291205-2af8-4b17-9280-1677af552b8d",
   "metadata": {},
   "outputs": [
    {
     "data": {
      "text/plain": [
       "array([ 13,  17,  19,  25,  26,  77,  92, 104, 114, 128, 131, 134, 171,\n",
       "       174, 222, 234, 245, 260, 264, 280, 295, 328, 360, 370, 381, 395,\n",
       "       420, 433, 440, 441, 458, 470, 479, 501, 502, 509, 550, 553, 574,\n",
       "       587])"
      ]
     },
     "execution_count": 82,
     "metadata": {},
     "output_type": "execute_result"
    }
   ],
   "source": [
    "p.random_occupation(40)\n",
    "    p.get_indices_of_adsorbates()"
   ]
  },
  {
   "cell_type": "code",
   "execution_count": null,
   "id": "fe425600-767c-4fb5-912f-8a6fbcba6fcc",
   "metadata": {},
   "outputs": [],
   "source": []
  }
 ],
 "metadata": {
  "kernelspec": {
   "display_name": "Python 3.8.5 ('npl')",
   "language": "python",
   "name": "python3"
  },
  "language_info": {
   "codemirror_mode": {
    "name": "ipython",
    "version": 3
   },
   "file_extension": ".py",
   "mimetype": "text/x-python",
   "name": "python",
   "nbconvert_exporter": "python",
   "pygments_lexer": "ipython3",
   "version": "3.8.5"
  },
  "vscode": {
   "interpreter": {
    "hash": "71a9c43f358d61bfff628550127d5d36a9f1c496986c94c6493e65597dc906fc"
   }
  }
 },
 "nbformat": 4,
 "nbformat_minor": 5
}
