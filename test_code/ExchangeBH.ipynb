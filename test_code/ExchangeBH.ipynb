{
 "cells": [
  {
   "cell_type": "code",
   "execution_count": 2,
   "metadata": {},
   "outputs": [],
   "source": [
    "%load_ext autoreload\n",
    "\n",
    "%autoreload 2"
   ]
  },
  {
   "cell_type": "code",
   "execution_count": 3,
   "metadata": {},
   "outputs": [],
   "source": [
    "from Core import Nanoparticle as NP\n",
    "from Core import EnergyCalculator as EC\n",
    "\n",
    "from LocalOpt.GarbageExchangeOperator import GuidedExchangeOperator\n",
    "from Core.LocalEnvironmentCalculator import NeighborCountingEnvironmentCalculator\n",
    "from Core.LocalEnvironmentFeatureClassifier import TopologicalEnvironmentClassifier\n",
    "\n",
    "from Core.GlobalFeatureClassifier import TopologicalFeatureClassifier as TFC\n",
    "\n",
    "import copy\n",
    "import pickle\n"
   ]
  },
  {
   "cell_type": "code",
   "execution_count": 4,
   "metadata": {},
   "outputs": [],
   "source": [
    "with open('/media/riccardo/HardDisk/PORTALHOME/PtAu_PtCu_201/Global_Opt/energy_calculators/energy_calculator_PtCu_TEC.pkl', 'rb') as inp:\n",
    "    energy_calculator = pickle.load(inp)"
   ]
  },
  {
   "cell_type": "code",
   "execution_count": 5,
   "metadata": {},
   "outputs": [
    {
     "name": "stdout",
     "output_type": "stream",
     "text": [
      "Resulting stoichiometry: {'Au': 101, 'Pt': 100}\n"
     ]
    }
   ],
   "source": [
    "initial_p = NP.Nanoparticle()\n",
    "initial_p.truncated_octahedron(7,2,{'Pt':0.5,'Au':0.5})"
   ]
  },
  {
   "cell_type": "code",
   "execution_count": 6,
   "metadata": {},
   "outputs": [],
   "source": [
    "symbols = sorted(initial_p.atoms.get_all_symbols())\n",
    "local_env_calculator = NeighborCountingEnvironmentCalculator(symbols)\n",
    "local_feature_classifier = TopologicalEnvironmentClassifier(local_env_calculator, symbols)"
   ]
  },
  {
   "cell_type": "code",
   "execution_count": 7,
   "metadata": {},
   "outputs": [],
   "source": [
    "local_feature_classifier.compute_feature_vector(initial_p, recompute_local_environments = True)"
   ]
  },
  {
   "cell_type": "code",
   "execution_count": 18,
   "metadata": {},
   "outputs": [
    {
     "name": "stdout",
     "output_type": "stream",
     "text": [
      "Resulting stoichiometry: {'Cu': 320, 'Pt': 320}\n",
      "Energy after local_opt: 128.809, lowest 128.809\n",
      "Energy after local_opt: 127.781, lowest 127.781\n",
      "Energy after local_opt: 127.631, lowest 127.567\n",
      "Energy after local_opt: 127.949, lowest 127.519\n",
      "Energy after local_opt: 127.738, lowest 127.519\n",
      "Lowest energy: 127.394\n"
     ]
    }
   ],
   "source": [
    "from Core import Nanoparticle as NP\n",
    "from Core.LocalEnvironmentCalculator import NeighborCountingEnvironmentCalculator\n",
    "from Core.LocalEnvironmentFeatureClassifier import TopologicalEnvironmentClassifier\n",
    "from BH.BasinHopping import run_basin_hopping\n",
    "\n",
    "start_particle = NP.Nanoparticle()\n",
    "start_particle.truncated_octahedron(10,2,{'Pt':0.5,'Cu':0.5})\n",
    "\n",
    "symbols = sorted(start_particle.atoms.get_all_symbols())\n",
    "local_env_calculator = NeighborCountingEnvironmentCalculator(symbols)\n",
    "local_feature_classifier = TopologicalEnvironmentClassifier(local_env_calculator, symbols)\n",
    "\n",
    "with open('/media/riccardo/HardDisk/PORTALHOME/PtAu_PtCu_201/Global_Opt/energy_calculators/energy_calculator_PtCu_TEC.pkl', 'rb') as inp:\n",
    "    energy_calculator = pickle.load(inp)\n",
    "    environment_energies = energy_calculator.get_coefficients()\n",
    "\n",
    "[best_particle, lowest_energies, dio_porco_list] = run_basin_hopping(start_particle, energy_calculator, environment_energies, 100,30,\n",
    "                      local_feature_classifier=None)"
   ]
  },
  {
   "cell_type": "code",
   "execution_count": 23,
   "metadata": {},
   "outputs": [
    {
     "data": {
      "text/plain": [
       "<Popen: returncode: None args: ['/home/riccardo/anaconda3/bin/python', '-m',...>"
      ]
     },
     "execution_count": 23,
     "metadata": {},
     "output_type": "execute_result"
    }
   ],
   "source": [
    "from ase.visualize import view\n",
    "\n",
    "view(best_particle.get_ase_atoms())"
   ]
  },
  {
   "cell_type": "code",
   "execution_count": 20,
   "metadata": {},
   "outputs": [
    {
     "name": "stdout",
     "output_type": "stream",
     "text": [
      "      Step     Time          Energy         fmax\n",
      "BFGS:    0 17:19:11      151.083193        2.3974\n",
      "BFGS:    1 17:19:12      144.171737        2.2117\n",
      "BFGS:    2 17:19:12      116.029393        1.4211\n",
      "BFGS:    3 17:19:13      111.652138        2.5963\n",
      "BFGS:    4 17:19:14      108.223138        1.8634\n",
      "BFGS:    5 17:19:15       95.204118        1.0709\n",
      "BFGS:    6 17:19:16       89.720817        1.8128\n",
      "BFGS:    7 17:19:16       86.583214        1.9184\n",
      "BFGS:    8 17:19:17       78.348444        1.6575\n",
      "BFGS:    9 17:19:18       74.361121        1.1484\n",
      "BFGS:   10 17:19:19       71.417350        1.3374\n",
      "BFGS:   11 17:19:20       69.665501        1.3877\n",
      "BFGS:   12 17:19:21       65.070410        0.8605\n",
      "BFGS:   13 17:19:21       63.565451        0.8259\n",
      "BFGS:   14 17:19:22       62.244172        0.9002\n",
      "BFGS:   15 17:19:23       61.402370        0.6887\n",
      "BFGS:   16 17:19:24       60.724922        0.3984\n",
      "BFGS:   17 17:19:25       60.394736        0.3951\n",
      "BFGS:   18 17:19:26       60.242218        0.4235\n",
      "BFGS:   19 17:19:26       60.137503        0.2533\n",
      "BFGS:   20 17:19:27       60.037822        0.1787\n",
      "BFGS:   21 17:19:28       59.971488        0.2794\n",
      "BFGS:   22 17:19:29       59.917293        0.3361\n",
      "BFGS:   23 17:19:30       59.857975        0.2571\n",
      "BFGS:   24 17:19:31       59.793222        0.1688\n",
      "BFGS:   25 17:19:31       59.736017        0.1604\n",
      "BFGS:   26 17:19:32       59.688341        0.2492\n",
      "BFGS:   27 17:19:33       59.641280        0.2241\n",
      "BFGS:   28 17:19:34       59.591221        0.1868\n",
      "BFGS:   29 17:19:35       59.549166        0.1527\n",
      "BFGS:   30 17:19:36       59.520663        0.1849\n",
      "BFGS:   31 17:19:37       59.498332        0.1785\n",
      "BFGS:   32 17:19:37       59.476923        0.0939\n",
      "BFGS:   33 17:19:38       59.459632        0.0660\n",
      "BFGS:   34 17:19:39       59.448586        0.1029\n",
      "BFGS:   35 17:19:40       59.441189        0.0992\n",
      "BFGS:   36 17:19:41       59.434779        0.0582\n",
      "BFGS:   37 17:19:42       59.429648        0.0519\n",
      "BFGS:   38 17:19:43       59.426469        0.0623\n",
      "BFGS:   39 17:19:43       59.424339        0.0617\n",
      "BFGS:   40 17:19:44       59.422333        0.0328\n"
     ]
    },
    {
     "data": {
      "text/plain": [
       "True"
      ]
     },
     "execution_count": 20,
     "metadata": {},
     "output_type": "execute_result"
    }
   ],
   "source": [
    "from ase.calculators.emt import EMT\n",
    "from ase.optimize import BFGS\n",
    "\n",
    "atoms = best_particle.get_ase_atoms()\n",
    "atoms.calc = EMT()\n",
    "dyn = BFGS(atoms)\n",
    "dyn.run(steps=100, fmax=0.05)"
   ]
  },
  {
   "cell_type": "code",
   "execution_count": 103,
   "metadata": {},
   "outputs": [
    {
     "data": {
      "text/plain": [
       "<matplotlib.collections.PathCollection at 0x7ff0f0391a00>"
      ]
     },
     "execution_count": 103,
     "metadata": {},
     "output_type": "execute_result"
    },
    {
     "data": {
      "image/png": "[encoded data removed]",
      "text/plain": [
       "<Figure size 432x288 with 1 Axes>"
      ]
     },
     "metadata": {
      "needs_background": "light"
     },
     "output_type": "display_data"
    }
   ],
   "source": [
    "import matplotlib.pyplot as plt\n",
    "plt.scatter([x[0] for x in dio_porco_list], [x[1] for x in dio_porco_list])"
   ]
  },
  {
   "cell_type": "code",
   "execution_count": 307,
   "metadata": {},
   "outputs": [
    {
     "name": "stdout",
     "output_type": "stream",
     "text": [
      "0.02133283293178795\n"
     ]
    }
   ],
   "source": [
    "self = p_list[0][1]\n",
    "particle = p_list[0][0]\n",
    "atom_features = particle.get_atom_features('TEC')\n",
    "feature = atom_features[10]\n",
    "new_exchange_energy = self.env_energy_differences[self.env_from_feature(feature)]\n",
    "\n",
    "energy_change = 0\n",
    "for neigh_idx in particle.get_coordination_atoms(10):\n",
    "    neigh_feature = atom_features[neigh_idx]\n",
    "    energy_change -= self.neigh_energy_difference[neigh_feature-1]\n",
    "\n",
    "print(-new_exchange_energy + energy_change)"
   ]
  },
  {
   "cell_type": "code",
   "execution_count": 305,
   "metadata": {},
   "outputs": [
    {
     "name": "stdout",
     "output_type": "stream",
     "text": [
      "-0.07618079522257848 -0.07618079522257848\n",
      "-0.0010733459568072895 -0.0010733459568072895\n",
      "-0.03184662151090556 -0.03184662151090556\n",
      "-0.0068523687691876 -0.0068523687691876\n",
      "-0.06218839905860009 -0.06218839905860009\n",
      "-0.1906807508604167 -0.1906807508604167\n",
      "0.02133283293178795 0.008643576319709134\n",
      "-0.07755008060702405 -0.10009029791307235\n",
      "-0.13348034654402444 -0.06133721180024872\n",
      "-0.0789902101966506 -0.08616918813967518\n",
      "-0.06185000394029243 0.06666777884188867\n",
      "-0.026774490112065397 -0.026774490112065397\n",
      "-0.045165935363284615 0.00815620371418968\n",
      "-0.17593213587716014 -0.03149713258479861\n",
      "-0.0927259961711715 0.051951780149859794\n",
      "0.051951780149859794 0.01302304014239447\n",
      "0.01302304014239447 -0.20380340141124054\n",
      "-0.20380340141124054 -0.15254302319786678\n",
      "-0.15254302319786678 -0.047841125449395755\n",
      "-0.047841125449395755 0.020546029486071482\n",
      "0.07780577373718253 -0.19487070284613384\n",
      "-0.19487070284613384 -0.11310906186341127\n",
      "-0.11310906186341127 0.03496429617788474\n",
      "0.09335002390495784 -0.14481951190167733\n",
      "-0.14481951190167733 0.049400204678113624\n",
      "0.049400204678113624 -0.0528374451616645\n",
      "-0.0528374451616645 -0.14233728719496033\n",
      "-0.1451742685820593 0.07783230667799469\n",
      "0.08613880609183412 -0.08132441771490374\n",
      "-0.08132441771490374 0.1460346800124976\n",
      "0.15065462035922694 0.13252239762387538\n",
      "0.13252239762387538 0.031595773722149334\n",
      "0.046066674762848175 0.11861799547714216\n",
      "0.1168370973642934 0.17940055715774403\n",
      "0.19075358004429296 0.15336982544131825\n",
      "0.15336982544131825 0.004007076531988063\n",
      "0.004007076531988063 0.04793907419931054\n",
      "0.04793907419931054 -0.038896931603278395\n",
      "-0.038896931603278395 0.010756752364322386\n",
      "0.010591753728168313 0.021324103102903197\n",
      "0.021324103102903197 -0.06607072149567433\n",
      "-0.06607072149567433 0.11986714786235589\n",
      "0.0237143238783189 -0.04078447319536273\n",
      "-0.03639378905038214 0.157130683465346\n",
      "0.05812984900835555 0.014784726718018226\n",
      "0.014784726718018226 -0.0622920916999343\n",
      "-0.027817033917519385 -0.11379466255158426\n",
      "-0.11379466255158426 -0.03399154209804009\n",
      "-0.03399154209804009 0.03694113330134757\n",
      "0.03694113330134757 0.026045807944029744\n",
      "0.026045807944029744 -0.04797538389692152\n",
      "-0.04797538389692152 0.20136072156525125\n",
      "0.20136072156525125 -0.02471124743653666\n",
      "-0.02471124743653666 -0.08867856755533945\n",
      "-0.08867856755533945 -0.05150087300543735\n",
      "-0.05150087300543735 0.1626043748124652\n",
      "0.17762228919694878 -0.029281696945188368\n",
      "-0.02257028197454422 -0.05712537305768477\n",
      "-0.05712537305768477 0.29984751530762943\n",
      "0.3215180642412466 0.21004963870151164\n",
      "0.26040968105449525 0.09467484771098172\n",
      "0.09467484771098172 0.21871433820751815\n",
      "0.21871433820751815 0.032772020717965894\n",
      "0.032772020717965894 -0.05707434498805633\n",
      "-0.05707434498805633 0.18966266045725677\n",
      "0.20668738562411448 0.06093397790813353\n",
      "0.06093397790813353 0.34182688355045515\n",
      "0.40230473808233563 0.25422428211703685\n",
      "0.35048322262537346 0.3464970644723663\n",
      "0.25422428211703685 0.006720900400489761\n",
      "0.3464970644723663 0.17816150001713033\n",
      "0.006720900400489761 0.1783166129142985\n",
      "0.17816150001713033 0.07690131836599459\n",
      "0.20733871701929152 -0.03104737228333722\n",
      "0.09090550808650402 0.0644228273160958\n",
      "-0.03104737228333722 0.10489817849439073\n",
      "0.0701205176227658 -0.1229586366286053\n",
      "0.10489817849439073 -0.10028077267009387\n",
      "-0.1229586366286053 0.01704974349490651\n",
      "-0.10028077267009387 0.06514581746797293\n",
      "0.01704974349490651 0.1361339505589812\n",
      "0.0650870370464624 0.14004403679793218\n",
      "0.12977548150600537 0.10236242181396274\n",
      "0.14478358367902927 0.09909716134861773\n",
      "0.10033177330290516 -0.03719628291630239\n",
      "0.09909716134861773 0.31783610241019383\n",
      "-0.03719628291630239 0.16563131568224293\n",
      "0.31783610241019383 0.07310059646690084\n",
      "0.16563131568224293 0.04413752507683405\n",
      "0.07682641868402379 -0.04164847736393912\n",
      "0.042165656987287 0.049439841315645494\n",
      "-0.04164847736393912 -0.017837050256207326\n",
      "0.05615125628628964 -0.15696334264721104\n",
      "-0.005427944978893179 -0.08088167666753848\n",
      "-0.15696334264721104 -0.028338538309721606\n",
      "-0.08088167666753848 -0.024544109909272444\n",
      "-0.028338538309721606 0.00028843954179857967\n",
      "-0.024544109909272444 -0.08132066181690864\n",
      "0.00028843954179857967 0.028085605834782257\n",
      "-0.08132066181690864 0.40230473808233563\n",
      "0.028085605834782257 0.33070152132323316\n"
     ]
    }
   ],
   "source": [
    "p = p_list[0][0]\n",
    "exchange_operator = GuidedExchangeOperator(energy_calculator.get_coefficients(), 'TEC')\n",
    "exchange_operator.bind_particle(p)\n",
    "\n",
    "for f,i in zip(exchange_operator.symbol1_exchange_energies.values(), p_list[0][1].symbol1_exchange_energies.values()):\n",
    "    print(f,i)"
   ]
  },
  {
   "cell_type": "code",
   "execution_count": 219,
   "metadata": {},
   "outputs": [
    {
     "name": "stdout",
     "output_type": "stream",
     "text": [
      "42.787356908859664\n"
     ]
    }
   ],
   "source": [
    "local_feature_classifier.compute_feature_vector(p, recompute_atom_features=True, recompute_local_environments=True)\n",
    "energy_calculator.compute_energy(p)\n",
    "initial_energy = p.get_energy('BRR')\n",
    "print(initial_energy)"
   ]
  },
  {
   "cell_type": "code",
   "execution_count": 220,
   "metadata": {},
   "outputs": [
    {
     "data": {
      "text/plain": [
       "-0.5360991555254842"
      ]
     },
     "execution_count": 220,
     "metadata": {},
     "output_type": "execute_result"
    }
   ],
   "source": [
    "symbol1_index, symbol2_index = exchange_operator.guided_exchange(p)\n",
    "local_feature_classifier.compute_feature_vector(p, recompute_atom_features=True, recompute_local_environments=True)\n",
    "energy_calculator.compute_energy(p)\n",
    "p.get_energy('BRR') - initial_energy\n"
   ]
  },
  {
   "cell_type": "code",
   "execution_count": 245,
   "metadata": {},
   "outputs": [
    {
     "name": "stdout",
     "output_type": "stream",
     "text": [
      "85\n",
      "144\n",
      "48\n",
      "34\n",
      "86\n",
      "143\n",
      "25\n",
      "33\n",
      "178\n"
     ]
    }
   ],
   "source": [
    "p = p_list[0]\n",
    "local_feature_classifier.compute_feature_vector(p, recompute_atom_features=True, recompute_local_environments=True)\n",
    "atom_feature = p.get_atom_features('TEC')\n",
    "for f in p.get_coordination_atoms(23):\n",
    "    print(atom_feature[f])"
   ]
  },
  {
   "cell_type": "code",
   "execution_count": 244,
   "metadata": {},
   "outputs": [
    {
     "name": "stdout",
     "output_type": "stream",
     "text": [
      "85\n",
      "144\n",
      "48\n",
      "34\n",
      "86\n",
      "143\n",
      "25\n",
      "33\n",
      "178\n"
     ]
    }
   ],
   "source": [
    "p_t0 = p_list[0]\n",
    "#local_feature_classifier.compute_feature_vector(p_t0, recompute_atom_features=True, recompute_local_environments=True)\n",
    "atom_feature = p_t0.get_atom_features('TEC')\n",
    "for f in p_t0.get_coordination_atoms(23):\n",
    "    print(atom_feature[f])"
   ]
  },
  {
   "cell_type": "code",
   "execution_count": 28,
   "metadata": {},
   "outputs": [],
   "source": [
    "def update_atomic_features(index1, index2, local_env_calculator, local_feature_classifier, particle):\n",
    "    neighborhood = {index1, index2}\n",
    "    neighborhood = neighborhood.union(particle.neighbor_list[index1])\n",
    "    neighborhood = neighborhood.union(particle.neighbor_list[index2])\n",
    "\n",
    "    for index in neighborhood:\n",
    "        local_env_calculator.compute_local_environment(particle, index)\n",
    "        local_feature_classifier.compute_atom_feature(particle, index)\n",
    "    \n",
    "    local_feature_classifier.compute_feature_vector(particle, recompute_atom_features=False)\n",
    "    return particle, neighborhood"
   ]
  },
  {
   "cell_type": "code",
   "execution_count": 10,
   "metadata": {},
   "outputs": [
    {
     "name": "stdout",
     "output_type": "stream",
     "text": [
      "32 [4 3] -0.10561742448827949\n",
      "141 [5 4] 0.0082829596557224\n",
      "47 [2 7] 4.379716564512082e-05\n",
      "24 [3 3] 0.0021400494416750626\n",
      "86 [8 4] 0.0023647757551949478\n",
      "116 [4 2] 0.020419678981577316\n",
      "84 [6 6] -0.0012520023403504998\n",
      "133 [6 2] 0.012289202421318798\n",
      "0.06746994720347682\n",
      "124 [5 2] -0.12091283267077335\n",
      "50 [5 4] -0.0003955375498602143\n",
      "133 [6 2] 0.012289202421318798\n",
      "86 [8 4] 0.0023647757551949478\n",
      "25 [4 2] 0.0029237782249300903\n",
      "115 [3 3] 0.01595458877362005\n",
      "49 [4 5] -0.0008764468990414831\n",
      "84 [6 6] -0.0012520023403504998\n",
      "-0.08990447428496166\n",
      "0.06746994720347682\n",
      "-0.08990447428496166\n"
     ]
    }
   ],
   "source": [
    "particle = copy.deepcopy(initial_p)\n",
    "exchange_operator = GuidedExchangeOperator(energy_calculator.get_coefficients(), 'TEC')\n",
    "exchange_operator.bind_particle(particle)\n",
    "\n",
    "energy_calculator.compute_energy(particle)\n",
    "initial_energy = particle.get_energy('BRR')\n",
    "\n",
    "featuers = particle.get_atom_features('TEC')\n",
    "\n",
    "exchange_indices = (exchange_operator.symbol1_indices[0], exchange_operator.symbol2_indices[0])\n",
    "exchange_indices = (1,30)\n",
    "for index in exchange_indices:\n",
    "    flip = 0\n",
    "    if particle.get_symbol(index) == 'Au':\n",
    "        i = -1\n",
    "        g = -1\n",
    "    else:\n",
    "        i = 1\n",
    "        g = 0\n",
    "    print(featuers[index], particle.get_local_environment(index), exchange_operator.env_energy_differences[exchange_operator.env_from_feature(featuers[index])])\n",
    "    flip += exchange_operator.env_energy_differences[exchange_operator.env_from_feature(featuers[index])] * i\n",
    "    for neigh in particle.neighbor_list[index]:\n",
    "        print(featuers[neigh], particle.get_local_environment(neigh), exchange_operator.neigh_energy_difference[featuers[neigh]])\n",
    "        flip += exchange_operator.neigh_energy_difference[featuers[neigh]+g] * i\n",
    "    print(flip)\n",
    "\n",
    "\n",
    "print(exchange_operator.symbol1_exchange_energies[exchange_indices[0]])\n",
    "print(exchange_operator.symbol2_exchange_energies[exchange_indices[1]])"
   ]
  },
  {
   "cell_type": "code",
   "execution_count": 29,
   "metadata": {},
   "outputs": [
    {
     "name": "stdout",
     "output_type": "stream",
     "text": [
      "-2.6645352591003757e-15\n",
      "5.329070518200751e-15\n",
      "-2.7755575615628914e-15\n",
      "2.55351295663786e-15\n",
      "-3.885780586188048e-16\n",
      "4.551914400963142e-15\n",
      "0.004890181555743334\n",
      "-0.019043606241363253\n",
      "-1.9984014443252818e-15\n",
      "0.0012814543256636224\n",
      "7.105427357601002e-15\n",
      "-8.659739592076221e-15\n",
      "-1.887379141862766e-15\n",
      "7.438494264988549e-15\n",
      "1.4432899320127035e-15\n",
      "-8.659739592076221e-15\n",
      "-2.4424906541753444e-15\n",
      "-0.012303660923031257\n",
      "2.914335439641036e-15\n",
      "1.27675647831893e-15\n"
     ]
    }
   ],
   "source": [
    "particle = copy.deepcopy(initial_p)\n",
    "exchange_operator = GuidedExchangeOperator(energy_calculator.get_coefficients(), 'TEC')\n",
    "exchange_operator.bind_particle(particle)\n",
    "\n",
    "\n",
    "\n",
    "featuers = particle.get_atom_features('TEC')\n",
    "\n",
    "feature_vectors = []\n",
    "feature_vectors_recomp = []\n",
    "\n",
    "for _ in range(20):\n",
    "    energy_calculator.compute_energy(particle)\n",
    "    initial_energy = particle.get_energy('BRR')\n",
    "    symbol1_index, symbol2_index = exchange_operator.guided_exchange(particle)\n",
    "    exchange_indices = [symbol1_index, symbol2_index]\n",
    "    for index in exchange_indices:\n",
    "        local_env_calculator.compute_local_environment(particle, index)\n",
    "        local_feature_classifier.compute_atom_feature(particle, index)\n",
    "        for neigh in particle.neighbor_list[index]:\n",
    "            local_env_calculator.compute_local_environment(particle, neigh)\n",
    "            local_feature_classifier.compute_atom_feature(particle, neigh)\n",
    "        \n",
    "    local_feature_classifier.compute_feature_vector(particle, recompute_atom_features=False)\n",
    "    feature_vectors.append(particle.get_feature_vector('TEC'))\n",
    "    local_env_calculator.compute_local_environments(particle)\n",
    "    local_feature_classifier.compute_feature_vector(particle)\n",
    "    feature_vectors_recomp.append(particle.get_feature_vector('TEC'))\n",
    "\n",
    "    tot = 0\n",
    "    for index in exchange_indices:\n",
    "        flip = 0\n",
    "        if particle.get_symbol(index) == 'Au':\n",
    "            i = -1\n",
    "            g = -1\n",
    "        else:\n",
    "            i = 1\n",
    "            g = 0\n",
    "        #print(featuers[index], particle.get_local_environment(index), exchange_operator.env_energy_differences[exchange_operator.env_from_feature(featuers[index])])\n",
    "        flip += exchange_operator.env_energy_differences[exchange_operator.env_from_feature(featuers[index])] * i\n",
    "        for neigh in particle.neighbor_list[index]:\n",
    "            #print(featuers[neigh], particle.get_local_environment(neigh), exchange_operator.neigh_energy_difference[featuers[neigh]])\n",
    "            flip += exchange_operator.neigh_energy_difference[featuers[neigh]+g] * i\n",
    "        #print(flip)\n",
    "        tot += flip\n",
    "\n",
    "    energy_calculator.compute_energy(particle)\n",
    "    final_energy = particle.get_energy('BRR')\n",
    "    #print(initial_energy - final_energy)\n",
    "\n",
    "    particle, neighborhood = update_atomic_features(symbol1_index, symbol2_index, local_env_calculator, local_feature_classifier, particle)\n",
    "    exchange_operator.update(particle, neighborhood, exchange_indices)\n",
    "    print(tot - (initial_energy - final_energy))\n",
    "    "
   ]
  },
  {
   "cell_type": "code",
   "execution_count": 164,
   "metadata": {},
   "outputs": [
    {
     "name": "stdout",
     "output_type": "stream",
     "text": [
      "0.0\n",
      "0.0\n",
      "0.0\n"
     ]
    }
   ],
   "source": [
    "for not_rec, rec in zip(feature_vectors, feature_vectors_recomp):\n",
    "    print(sum(not_rec-rec))"
   ]
  },
  {
   "cell_type": "code",
   "execution_count": 150,
   "metadata": {},
   "outputs": [
    {
     "name": "stdout",
     "output_type": "stream",
     "text": [
      "122 [3 4] -0.0840886793034629\n",
      "49 [4 5] -0.0008764468990414831\n",
      "142 [6 3] 0.00888576266289881\n",
      "117 [5 1] 0.017906718644403574\n",
      "84 [6 6] -0.0012520023403504998\n",
      "114 [2 4] 0.013953451829155555\n",
      "83 [5 7] -0.004343318877934377\n",
      "132 [5 3] 0.007150331029852533\n",
      "-0.04266418325447878\n",
      "30 [2 5] -0.05712894127454171\n",
      "141 [5 4] 0.0082829596557224\n",
      "131 [4 4] 0.009484371885910808\n",
      "174 [5 7] 0.006826096515411384\n",
      "113 [1 5] 0.03256736685433745\n",
      "117 [5 1] 0.017906718644403574\n",
      "51 [6 3] -0.001955290106560481\n",
      "85 [7 5] 0.0006729459370793389\n",
      "0.00318090042661906\n",
      "-0.03948328282786662\n"
     ]
    }
   ],
   "source": [
    "particle.swap_symbols([exchange_indices])\n",
    "\n",
    "for index in exchange_indices:\n",
    "    local_env_calculator.compute_local_environment(particle, index)\n",
    "    local_feature_classifier.compute_atom_feature(particle, index)\n",
    "    for neigh in particle.neighbor_list[index]:\n",
    "        local_env_calculator.compute_local_environment(particle, neigh)\n",
    "        local_feature_classifier.compute_atom_feature(particle, neigh)\n",
    "    \n",
    "local_feature_classifier.compute_feature_vector(particle, recompute_atom_features=False)\n",
    "\n",
    "for index in exchange_indices:\n",
    "    flip = 0\n",
    "    if particle.get_symbol(index) == 'Au':\n",
    "        i = -1\n",
    "        g = -1\n",
    "    else:\n",
    "        i = 1\n",
    "        g = 0\n",
    "    print(featuers[index], particle.get_local_environment(index), exchange_operator.env_energy_differences[exchange_operator.env_from_feature(featuers[index])])\n",
    "    flip += exchange_operator.env_energy_differences[exchange_operator.env_from_feature(featuers[index])] * i\n",
    "    for neigh in particle.neighbor_list[index]:\n",
    "        print(featuers[neigh], particle.get_local_environment(neigh), exchange_operator.neigh_energy_difference[featuers[neigh]])\n",
    "        flip += exchange_operator.neigh_energy_difference[featuers[neigh]+g] * i\n",
    "    print(flip)\n",
    "\n",
    "energy_calculator.compute_energy(particle)\n",
    "final_energy = particle.get_energy('BRR')\n",
    "print(initial_energy - final_energy)"
   ]
  },
  {
   "cell_type": "code",
   "execution_count": 142,
   "metadata": {},
   "outputs": [
    {
     "name": "stdout",
     "output_type": "stream",
     "text": [
      "122 [3 4] -0.0840886793034629\n",
      "49 [4 5] -0.0008764468990414831\n",
      "142 [6 3] 0.00888576266289881\n",
      "117 [5 1] 0.017906718644403574\n",
      "84 [6 6] -0.0012520023403504998\n",
      "114 [2 4] 0.013953451829155555\n",
      "83 [5 7] -0.004343318877934377\n",
      "132 [5 3] 0.007150331029852533\n",
      "-0.04266418325447878\n",
      "30 [2 5] -0.05712894127454171\n",
      "141 [5 4] 0.0082829596557224\n",
      "131 [4 4] 0.009484371885910808\n",
      "174 [5 7] 0.006826096515411384\n",
      "113 [1 5] 0.03256736685433745\n",
      "117 [5 1] 0.017906718644403574\n",
      "51 [6 3] -0.001955290106560481\n",
      "85 [7 5] 0.0006729459370793389\n",
      "0.00318090042661906\n",
      "-0.03948328282786662\n"
     ]
    }
   ],
   "source": [
    "particle.swap_symbols([exchange_indices])\n",
    "\n",
    "for index in exchange_indices:\n",
    "    local_env_calculator.compute_local_environment(particle, index)\n",
    "    local_feature_classifier.compute_atom_feature(particle, index)\n",
    "    for neigh in particle.neighbor_list[index]:\n",
    "        local_env_calculator.compute_local_environment(particle, neigh)\n",
    "        local_feature_classifier.compute_atom_feature(particle, neigh)\n",
    "    \n",
    "local_feature_classifier.compute_feature_vector(particle, recompute_atom_features=False)\n",
    "\n",
    "for index in exchange_indices:\n",
    "    flip = 0\n",
    "    if particle.get_symbol(index) == 'Au':\n",
    "        i = -1\n",
    "        g = -1\n",
    "    else:\n",
    "        i = 1\n",
    "        g = 0\n",
    "    print(featuers[index], particle.get_local_environment(index), exchange_operator.env_energy_differences[exchange_operator.env_from_feature(featuers[index])])\n",
    "    flip += exchange_operator.env_energy_differences[exchange_operator.env_from_feature(featuers[index])] * i\n",
    "    for neigh in particle.neighbor_list[index]:\n",
    "        print(featuers[neigh], particle.get_local_environment(neigh), exchange_operator.neigh_energy_difference[featuers[neigh]])\n",
    "        flip += exchange_operator.neigh_energy_difference[featuers[neigh]+g] * i\n",
    "    print(flip)\n",
    "\n",
    "energy_calculator.compute_energy(particle)\n",
    "final_energy = particle.get_energy('BRR')\n",
    "print(initial_energy - final_energy)"
   ]
  },
  {
   "cell_type": "code",
   "execution_count": 100,
   "metadata": {},
   "outputs": [
    {
     "name": "stdout",
     "output_type": "stream",
     "text": [
      "nada\n",
      "-0.4614984126518692 -0.46149841265187774 [34, 163]\n",
      "nada\n",
      "-0.40619632711146236 -0.4099221493285796 [32, 170]\n",
      "nada\n",
      "-0.3938189538930364 -0.366952635913286 [96, 139]\n"
     ]
    }
   ],
   "source": [
    "start_particle = copy.deepcopy(initial_p)\n",
    "exchange_operator = GuidedExchangeOperator(coefficients, 'TEC')\n",
    "exchange_operator.bind_particle(start_particle)\n",
    "flips = []\n",
    "permutations = []\n",
    "particle_list = []\n",
    "\n",
    "already_seen = set()\n",
    "\n",
    "for i in range(3):\n",
    "    energy_calculator.compute_energy(start_particle)\n",
    "    start_energy = start_particle.get_energy('BRR')\n",
    "    particle_list.append([copy.deepcopy(start_particle)])\n",
    "    \n",
    "    i1, i2 = exchange_operator.guided_exchange(start_particle)\n",
    "\n",
    "    exchange_indices = [i1, i2]\n",
    "\n",
    "    flip_energy = exchange_operator.symbol1_exchange_energies[i1] + exchange_operator.symbol2_exchange_energies[i2]\n",
    "    \n",
    "    start_particle, neighborhood = update_atomic_features(i1, i2, local_env_calculator,\n",
    "                                                                 local_feature_classifier, start_particle)\n",
    "\n",
    "    \n",
    "    exchange_operator.update(start_particle, neighborhood, exchange_indices)\n",
    "\n",
    "    energy_calculator.compute_energy(start_particle)\n",
    "    final_energy = start_particle.get_energy('BRR')\n",
    "\n",
    "    features = start_particle.get_atom_features('TEC')\n",
    "    \n",
    "    local_feature_classifier.compute_feature_vector(start_particle, recompute_atom_features=True)\n",
    "    particle_list[i].append(start_particle.get_feature_vector('TEC'))\n",
    "    \n",
    "\n",
    "    flips.append(flip_energy)\n",
    "    permutations.append(final_energy - start_energy)\n",
    "    print(flip_energy,final_energy - start_energy, exchange_indices)"
   ]
  },
  {
   "cell_type": "code",
   "execution_count": 101,
   "metadata": {},
   "outputs": [
    {
     "name": "stdout",
     "output_type": "stream",
     "text": [
      "New Flip \t old flip \t old permutation \t new permutation\n",
      "15\n",
      "nada\n",
      "-0.4615 \t -0.4615 \t -0.4615 \t 0.0 \t [34, 163]\n",
      "29\n",
      "nada\n",
      "-0.4099 \t -0.4062 \t -0.4099 \t 0.0 \t [32, 170]\n",
      "24\n",
      "nada\n",
      "-0.3812 \t -0.3938 \t -0.367 \t 0.0 \t [158, 139]\n"
     ]
    }
   ],
   "source": [
    "print('New Flip \\t old flip \\t old permutation \\t new permutation')\n",
    "for i,f in enumerate(particle_list):\n",
    "    local_feature_classifier.compute_feature_vector(f[0], recompute_atom_features=False)\n",
    "    energy_calculator.compute_energy(f[0])\n",
    "    i_en = f[0].get_energy('BRR')\n",
    "    \n",
    "    print(count)\n",
    "    exchange_operator = GuidedExchangeOperator(coefficients, 'TEC')\n",
    "    exchange_operator.bind_particle(f[0])\n",
    "    i1, i2 = exchange_operator.guided_exchange(f[0])\n",
    "    \n",
    "    exchange_indices = [i1, i2]\n",
    "    flip_energy = exchange_operator.symbol1_exchange_energies[i1] + exchange_operator.symbol2_exchange_energies[i2]\n",
    "\n",
    "    local_feature_classifier.compute_feature_vector(f[0], recompute_atom_features=False)\n",
    "    energy_calculator.compute_energy(f[0])\n",
    "    f_en = f[0].get_energy('BRR')\n",
    "\n",
    "    count = 0\n",
    "    for n,o in zip(f[1], f[0].get_feature_vector('TEC')):\n",
    "        if n != o:\n",
    "            count += 1\n",
    "    \n",
    "    print('{:.4} \\t {:.4} \\t {:.4} \\t {:.4} \\t'.format(flip_energy, flips[i], permutations[i], f_en-i_en), exchange_indices)\n"
   ]
  },
  {
   "cell_type": "code",
   "execution_count": 21,
   "metadata": {},
   "outputs": [
    {
     "data": {
      "text/plain": [
       "(array([ 0.,  0.,  0.,  0.,  0.,  0.,  0.,  0.,  0.,  0.,  0.,  0.,  0.,\n",
       "         0.,  0.,  0.,  0.,  0.,  0.,  0.,  0.,  0.,  0.,  3.,  3.,  2.,\n",
       "         2.,  0.,  0.,  0.,  4.,  5.,  7.,  2.,  0.,  0.,  0.,  0.,  2.,\n",
       "         0.,  1.,  2.,  0.,  0.,  0.,  0.,  0.,  1.,  7.,  6.,  9.,  4.,\n",
       "         0.,  0.,  0.,  0.,  0.,  0.,  0.,  0.,  0.,  0.,  0.,  0.,  0.,\n",
       "         0.,  0.,  0.,  0.,  0.,  0.,  0.,  0.,  0.,  0.,  0.,  0.,  0.,\n",
       "         0.,  0.,  0.,  1.,  6., 13., 14.,  4.,  3.,  0.,  0.,  0.,  0.,\n",
       "         0.,  0.,  0.,  0.,  0.,  0.,  0.,  0.,  0.,  0.,  0.,  0.,  0.,\n",
       "         0.,  0.,  0.,  0.,  0.,  0.,  0.,  0.,  0.,  1.,  6.,  5.,  2.,\n",
       "         0.,  0.,  0.,  2.,  1.,  5.,  6.,  3.,  1.,  0.,  0.,  0.,  0.,\n",
       "         0.,  1.,  0.,  0.,  0.,  0.,  0.,  0.,  2.,  3.,  8.,  3., 10.,\n",
       "         3.,  0.,  0.,  0.,  0.,  0.,  0.,  0.,  0.,  0.,  0.,  0.,  0.,\n",
       "         0.,  0.,  0.,  0.,  0.,  0.,  0.,  0.,  0.,  0.,  0.,  0.,  0.,\n",
       "         0.,  0.,  0.,  0.,  0.,  4., 11., 13.,  8.,  1.,  1.,  0.,  0.]),\n",
       " array([ 0.,  0.,  0.,  0.,  0.,  0.,  0.,  0.,  0.,  0.,  0.,  0.,  0.,\n",
       "         0.,  0.,  0.,  0.,  0.,  0.,  0.,  0.,  0.,  0.,  2.,  4.,  2.,\n",
       "         2.,  0.,  0.,  0.,  4.,  5.,  7.,  2.,  0.,  0.,  0.,  0.,  2.,\n",
       "         0.,  1.,  2.,  0.,  0.,  0.,  0.,  0.,  1.,  5.,  9.,  8.,  5.,\n",
       "         0.,  0.,  0.,  0.,  0.,  0.,  0.,  0.,  0.,  0.,  0.,  0.,  0.,\n",
       "         0.,  0.,  0.,  0.,  0.,  0.,  0.,  0.,  0.,  0.,  0.,  0.,  0.,\n",
       "         0.,  0.,  0.,  1.,  6., 13., 13.,  4.,  3.,  0.,  0.,  0.,  0.,\n",
       "         0.,  0.,  0.,  0.,  0.,  0.,  0.,  0.,  0.,  0.,  0.,  0.,  0.,\n",
       "         0.,  0.,  0.,  0.,  0.,  0.,  0.,  0.,  0.,  1.,  6.,  5.,  2.,\n",
       "         0.,  0.,  0.,  2.,  1.,  5.,  4.,  5.,  1.,  0.,  0.,  0.,  0.,\n",
       "         0.,  1.,  0.,  0.,  0.,  0.,  0.,  0.,  2.,  3.,  8.,  4.,  8.,\n",
       "         3.,  0.,  0.,  0.,  0.,  0.,  0.,  0.,  0.,  0.,  0.,  0.,  0.,\n",
       "         0.,  0.,  0.,  0.,  0.,  0.,  0.,  0.,  0.,  0.,  0.,  0.,  0.,\n",
       "         0.,  0.,  0.,  0.,  0.,  6., 13., 11.,  7.,  1.,  1.,  0.,  0.]))"
      ]
     },
     "execution_count": 21,
     "metadata": {},
     "output_type": "execute_result"
    }
   ],
   "source": [
    "f[1], f[0].get_feature_vector('TEC')"
   ]
  },
  {
   "cell_type": "code",
   "execution_count": 67,
   "metadata": {},
   "outputs": [
    {
     "data": {
      "text/plain": [
       "(-1.0, 0.2)"
      ]
     },
     "execution_count": 67,
     "metadata": {},
     "output_type": "execute_result"
    },
    {
     "data": {
      "image/png": "[encoded data removed]",
      "text/plain": [
       "<Figure size 360x360 with 1 Axes>"
      ]
     },
     "metadata": {
      "needs_background": "light"
     },
     "output_type": "display_data"
    }
   ],
   "source": [
    "import matplotlib.pyplot as plt\n",
    "\n",
    "fig, ax = plt.subplots(figsize=(5, 5))\n",
    "ax.scatter(flips, permutations)\n",
    "ax.set_xlabel('Flips')\n",
    "ax.set_ylabel('permutations')\n",
    "ax.plot([0, 1], [0, 1], transform=ax.transAxes, ls=\"--\", c=\"red\")\n",
    "ax.set_xlim(-1, .2)\n",
    "ax.set_ylim(-1, .2)"
   ]
  },
  {
   "cell_type": "code",
   "execution_count": null,
   "metadata": {},
   "outputs": [],
   "source": []
  }
 ],
 "metadata": {
  "interpreter": {
   "hash": "9bbf539494eec5075113a93f4ea6e0e910eb7706ccd7c3e2c78481c269c9c2ea"
  },
  "kernelspec": {
   "display_name": "Python 3.9.7 ('base')",
   "language": "python",
   "name": "python3"
  },
  "language_info": {
   "codemirror_mode": {
    "name": "ipython",
    "version": 3
   },
   "file_extension": ".py",
   "mimetype": "text/x-python",
   "name": "python",
   "nbconvert_exporter": "python",
   "pygments_lexer": "ipython3",
   "version": "3.9.7"
  },
  "orig_nbformat": 4
 },
 "nbformat": 4,
 "nbformat_minor": 2
}
