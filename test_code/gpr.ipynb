{
 "cells": [
  {
   "cell_type": "code",
   "execution_count": 24,
   "metadata": {},
   "outputs": [],
   "source": [
    "from Core.Nanoparticle import Nanoparticle\n",
    "from Core.EnergyCalculator import EMTCalculator\n",
    "from Core.GlobalFeatureClassifier import ExtendedTopologicalFeaturesClassifier as ETOP\n",
    "\n",
    "def create_start_particle(stoichiometry = {'Pt':0.5,'Au':0.5}):\n",
    "    p = Nanoparticle()\n",
    "    p.truncated_octahedron(5,1,stoichiometry)\n",
    "    EMTCalculator().compute_energy(p)\n",
    "    ETOP(p.get_all_symbols()).compute_feature_vector(p)\n",
    "    return p\n",
    "\n",
    "\n",
    "def get_training_set(create_start_particle, training_set_size):\n",
    "    training_set = []\n",
    "    for i in range(training_set_size):\n",
    "        p = create_start_particle()\n",
    "        training_set.append(p)\n",
    "\n",
    "    return training_set"
   ]
  },
  {
   "cell_type": "code",
   "execution_count": null,
   "metadata": {},
   "outputs": [],
   "source": [
    "training_set = get_training_set(create_start_particle, 50)"
   ]
  },
  {
   "cell_type": "code",
   "execution_count": 13,
   "metadata": {},
   "outputs": [],
   "source": [
    "from sklearn.datasets import make_friedman2\n",
    "from sklearn.gaussian_process import GaussianProcessRegressor\n",
    "from sklearn.gaussian_process.kernels import DotProduct, WhiteKernel\n",
    "\n",
    "\n",
    "X = [x.get_feature_vector('ETOP') for x in training_set]\n",
    "y = [x.get_energy('EMT') for x in training_set]\n",
    "\n",
    "kernel = DotProduct() + WhiteKernel()\n",
    "gpr = GaussianProcessRegressor(kernel=kernel,\n",
    "        random_state=0).fit(X, y)"
   ]
  },
  {
   "cell_type": "code",
   "execution_count": 27,
   "metadata": {},
   "outputs": [
    {
     "name": "stdout",
     "output_type": "stream",
     "text": [
      "Resulting stoichiometry: {'Au': 40, 'Pt': 39}\n",
      "Resulting stoichiometry: {'Au': 40, 'Pt': 39}\n",
      "Resulting stoichiometry: {'Au': 40, 'Pt': 39}\n",
      "Resulting stoichiometry: {'Au': 40, 'Pt': 39}\n",
      "Resulting stoichiometry: {'Au': 40, 'Pt': 39}\n",
      "Resulting stoichiometry: {'Au': 40, 'Pt': 39}\n",
      "Resulting stoichiometry: {'Au': 40, 'Pt': 39}\n",
      "Resulting stoichiometry: {'Au': 40, 'Pt': 39}\n",
      "Resulting stoichiometry: {'Au': 40, 'Pt': 39}\n",
      "Resulting stoichiometry: {'Au': 40, 'Pt': 39}\n"
     ]
    }
   ],
   "source": [
    "test_set = get_training_set(create_start_particle, 10)"
   ]
  },
  {
   "cell_type": "code",
   "execution_count": 28,
   "metadata": {},
   "outputs": [
    {
     "data": {
      "text/plain": [
       "(array([27.01192368, 26.75676575, 26.69088305, 27.44755367, 27.18683999,\n",
       "        27.894157  , 26.33447665, 27.77525147, 27.33611655, 27.36238745]),\n",
       " array([0.04362055, 0.04516963, 0.04468456, 0.04538597, 0.04582123,\n",
       "        0.04561375, 0.04789271, 0.04583438, 0.0441117 , 0.04325941]))"
      ]
     },
     "execution_count": 28,
     "metadata": {},
     "output_type": "execute_result"
    }
   ],
   "source": [
    "X_test = [x.get_feature_vector('ETOP') for x in test_set]\n",
    "\n",
    "gpr.predict(X_test, return_std=True)"
   ]
  },
  {
   "cell_type": "code",
   "execution_count": 31,
   "metadata": {},
   "outputs": [
    {
     "ename": "AttributeError",
     "evalue": "'GaussianProcessRegressor' object has no attribute 'fit_incremental'",
     "output_type": "error",
     "traceback": [
      "\u001b[0;31m---------------------------------------------------------------------------\u001b[0m",
      "\u001b[0;31mAttributeError\u001b[0m                            Traceback (most recent call last)",
      "Cell \u001b[0;32mIn [31], line 1\u001b[0m\n\u001b[0;32m----> 1\u001b[0m \u001b[43mgpr\u001b[49m\u001b[38;5;241;43m.\u001b[39;49m\u001b[43mfit_incremental\u001b[49m()\n",
      "\u001b[0;31mAttributeError\u001b[0m: 'GaussianProcessRegressor' object has no attribute 'fit_incremental'"
     ]
    }
   ],
   "source": [
    "gpr.fit_incremental()"
   ]
  },
  {
   "cell_type": "code",
   "execution_count": 29,
   "metadata": {},
   "outputs": [
    {
     "data": {
      "text/plain": [
       "[27.055889745786892,\n",
       " 26.773951935763222,\n",
       " 26.74902791175479,\n",
       " 27.437559639589967,\n",
       " 27.138796709212492,\n",
       " 27.817412316208035,\n",
       " 26.375965101190218,\n",
       " 27.83481519162085,\n",
       " 27.350686204485026,\n",
       " 27.32715676373482]"
      ]
     },
     "execution_count": 29,
     "metadata": {},
     "output_type": "execute_result"
    }
   ],
   "source": [
    "[x.get_energy('EMT') for x in test_set]"
   ]
  },
  {
   "cell_type": "code",
   "execution_count": null,
   "metadata": {},
   "outputs": [],
   "source": []
  }
 ],
 "metadata": {
  "interpreter": {
   "hash": "645f062300639a3c4348335670837863458b35828caf59ffdbd68be33120118b"
  },
  "kernelspec": {
   "display_name": "Python 3.10.4 ('npl_v1')",
   "language": "python",
   "name": "python3"
  },
  "language_info": {
   "codemirror_mode": {
    "name": "ipython",
    "version": 3
   },
   "file_extension": ".py",
   "mimetype": "text/x-python",
   "name": "python",
   "nbconvert_exporter": "python",
   "pygments_lexer": "ipython3",
   "version": "3.10.6"
  },
  "orig_nbformat": 4
 },
 "nbformat": 4,
 "nbformat_minor": 2
}
