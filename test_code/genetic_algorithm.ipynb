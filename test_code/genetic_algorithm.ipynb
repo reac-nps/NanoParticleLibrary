{
 "cells": [
  {
   "cell_type": "code",
   "execution_count": 74,
   "metadata": {},
   "outputs": [],
   "source": [
    "from Core.Nanoparticle import Nanoparticle\n",
    "from Core.EnergyCalculator import EMTCalculator\n",
    "from Core.EnergyCalculator import BayesianRRCalculator\n",
    "from Core.LocalEnvironmentCalculator import NeighborCountingEnvironmentCalculator as NCEC\n",
    "from Core.LocalEnvironmentFeatureClassifier import TopologicalEnvironmentClassifier as TEC\n",
    "from Core.GlobalFeatureClassifier import testTopologicalFeatureClassifier as TFC\n",
    "from Core.EnergyCalculator import compute_coefficients_for_linear_topological_model\n",
    "\n",
    "from GA.NichedPopulation import NichedPopulation\n",
    "from GA.SingleParticleGA import run_single_particle_ga\n"
   ]
  },
  {
   "cell_type": "code",
   "execution_count": 60,
   "metadata": {},
   "outputs": [],
   "source": [
    "local_env_calculator = NCEC(['Au','Pt'])\n",
    "local_feature_classifier = TEC(local_env_calculator, ['Au','Pt'])"
   ]
  },
  {
   "cell_type": "code",
   "execution_count": 87,
   "metadata": {},
   "outputs": [],
   "source": [
    "def create_start_particle(stoichiometry = {'Pt':0.5,'Au':0.5}):\n",
    "    p = Nanoparticle()\n",
    "    p.truncated_octahedron(9,3,stoichiometry)\n",
    "    EMTCalculator().compute_energy(p)\n",
    "    TFC(p.get_all_symbols()).compute_feature_vector(p)\n",
    "    return p\n",
    "\n",
    "\n",
    "def get_population(create_start_particle, training_set_size):\n",
    "    start_population = []\n",
    "    for i in range(training_set_size):\n",
    "        p = create_start_particle()\n",
    "        start_population.append(p)\n",
    "    return start_population"
   ]
  },
  {
   "cell_type": "code",
   "execution_count": 88,
   "metadata": {},
   "outputs": [
    {
     "name": "stdout",
     "output_type": "stream",
     "text": [
      "Resulting stoichiometry: {'Au': 203, 'Pt': 202}\n",
      "Resulting stoichiometry: {'Au': 203, 'Pt': 202}\n",
      "Resulting stoichiometry: {'Au': 203, 'Pt': 202}\n",
      "Resulting stoichiometry: {'Au': 203, 'Pt': 202}\n",
      "Resulting stoichiometry: {'Au': 203, 'Pt': 202}\n",
      "Resulting stoichiometry: {'Au': 203, 'Pt': 202}\n",
      "Resulting stoichiometry: {'Au': 203, 'Pt': 202}\n",
      "Resulting stoichiometry: {'Au': 203, 'Pt': 202}\n",
      "Resulting stoichiometry: {'Au': 203, 'Pt': 202}\n",
      "Resulting stoichiometry: {'Au': 203, 'Pt': 202}\n",
      "Resulting stoichiometry: {'Au': 203, 'Pt': 202}\n",
      "Resulting stoichiometry: {'Au': 203, 'Pt': 202}\n",
      "Resulting stoichiometry: {'Au': 203, 'Pt': 202}\n",
      "Resulting stoichiometry: {'Au': 203, 'Pt': 202}\n",
      "Resulting stoichiometry: {'Au': 203, 'Pt': 202}\n",
      "Resulting stoichiometry: {'Au': 203, 'Pt': 202}\n",
      "Resulting stoichiometry: {'Au': 203, 'Pt': 202}\n",
      "Resulting stoichiometry: {'Au': 203, 'Pt': 202}\n",
      "Resulting stoichiometry: {'Au': 203, 'Pt': 202}\n",
      "Resulting stoichiometry: {'Au': 203, 'Pt': 202}\n",
      "Resulting stoichiometry: {'Au': 203, 'Pt': 202}\n",
      "Resulting stoichiometry: {'Au': 203, 'Pt': 202}\n",
      "Resulting stoichiometry: {'Au': 203, 'Pt': 202}\n",
      "Resulting stoichiometry: {'Au': 203, 'Pt': 202}\n",
      "Resulting stoichiometry: {'Au': 203, 'Pt': 202}\n",
      "Resulting stoichiometry: {'Au': 203, 'Pt': 202}\n",
      "Resulting stoichiometry: {'Au': 203, 'Pt': 202}\n",
      "Resulting stoichiometry: {'Au': 203, 'Pt': 202}\n",
      "Resulting stoichiometry: {'Au': 203, 'Pt': 202}\n",
      "Resulting stoichiometry: {'Au': 203, 'Pt': 202}\n"
     ]
    }
   ],
   "source": [
    "start_population = get_population(create_start_particle, 30)"
   ]
  },
  {
   "cell_type": "code",
   "execution_count": 89,
   "metadata": {},
   "outputs": [
    {
     "name": "stdout",
     "output_type": "stream",
     "text": [
      "Coef symbol_a: Au\n"
     ]
    }
   ],
   "source": [
    "energy_calculator = BayesianRRCalculator('TFC')\n",
    "energy_calculator.fit(start_population, 'EMT')\n",
    "tfc_coeff = energy_calculator.get_coefficients()\n",
    "a, b = compute_coefficients_for_linear_topological_model(tfc_coeff, ['Au','Pt'], 405)\n",
    "energy_calculator.set_coefficients(a)\n",
    "energy_calculator.set_feature_key('TEC')"
   ]
  },
  {
   "cell_type": "code",
   "execution_count": 90,
   "metadata": {},
   "outputs": [
    {
     "name": "stdout",
     "output_type": "stream",
     "text": [
      "Generation: 0\n",
      "30\n",
      "New best energy: 63.398034297897325\n",
      "Generation: 1\n",
      "222\n",
      "Generation: 2\n",
      "1060\n",
      "Generation: 3\n",
      "44762\n",
      "Generation: 4\n",
      "45674\n",
      "Generation: 5\n",
      "45956\n",
      "Generation: 6\n",
      "47130\n",
      "Generation: 7\n",
      "50852\n",
      "Generation: 8\n",
      "50858\n",
      "Generation: 9\n",
      "50866\n",
      "Generation: 10\n",
      "51908\n",
      "Generation: 11\n",
      "55346\n",
      "Generation: 12\n",
      "56472\n",
      "Generation: 13\n",
      "56496\n",
      "Generation: 14\n",
      "59836\n",
      "Generation: 15\n",
      "59892\n",
      "Generation: 16\n",
      "60004\n",
      "Generation: 17\n",
      "61392\n",
      "Generation: 18\n",
      "62020\n",
      "Generation: 19\n",
      "62072\n",
      "Generation: 20\n",
      "62856\n"
     ]
    }
   ],
   "source": [
    "[best_energies, p, energy_evaluations] = run_single_particle_ga(start_population, 20, energy_calculator, local_env_calculator, local_feature_classifier, b)"
   ]
  },
  {
   "cell_type": "code",
   "execution_count": 91,
   "metadata": {},
   "outputs": [
    {
     "data": {
      "text/plain": [
       "<Popen: returncode: None args: ['/home/riccardo/python_venvs/npl_v1/bin/pyth...>"
      ]
     },
     "execution_count": 91,
     "metadata": {},
     "output_type": "execute_result"
    }
   ],
   "source": [
    "from ase.visualize import view\n",
    "\n",
    "view(p.get_ase_atoms())\n"
   ]
  },
  {
   "cell_type": "code",
   "execution_count": 69,
   "metadata": {},
   "outputs": [
    {
     "data": {
      "text/plain": [
       "796"
      ]
     },
     "execution_count": 69,
     "metadata": {},
     "output_type": "execute_result"
    }
   ],
   "source": [
    "energy_evaluations"
   ]
  },
  {
   "cell_type": "code",
   "execution_count": null,
   "metadata": {},
   "outputs": [],
   "source": []
  }
 ],
 "metadata": {
  "interpreter": {
   "hash": "645f062300639a3c4348335670837863458b35828caf59ffdbd68be33120118b"
  },
  "kernelspec": {
   "display_name": "Python 3.10.4 ('npl_v1')",
   "language": "python",
   "name": "python3"
  },
  "language_info": {
   "codemirror_mode": {
    "name": "ipython",
    "version": 3
   },
   "file_extension": ".py",
   "mimetype": "text/x-python",
   "name": "python",
   "nbconvert_exporter": "python",
   "pygments_lexer": "ipython3",
   "version": "3.10.4"
  },
  "orig_nbformat": 4
 },
 "nbformat": 4,
 "nbformat_minor": 2
}
