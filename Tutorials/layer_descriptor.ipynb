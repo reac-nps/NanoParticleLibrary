{
 "cells": [
  {
   "cell_type": "code",
   "execution_count": 1,
   "metadata": {},
   "outputs": [
    {
     "name": "stdout",
     "output_type": "stream",
     "text": [
      "Resulting stoichiometry: {'Pt': 140}\n"
     ]
    }
   ],
   "source": [
    "from Core import Nanoparticle as NP \n",
    "import numpy as np\n",
    "\n",
    "p = NP.Nanoparticle()\n",
    "p.truncated_octahedron(6,1,{'Pt':1})"
   ]
  },
  {
   "cell_type": "code",
   "execution_count": 48,
   "metadata": {},
   "outputs": [],
   "source": [
    "from Core.GlobalFeatureClassifier import SimpleFeatureClassifier\n",
    "from Core.GlobalFeatureClassifier import TopologicalFeatureClassifier\n",
    "\n",
    "class LayererTopologicalDescriptors(SimpleFeatureClassifier):\n",
    "\n",
    "    def __init__(self, symbols, particle):\n",
    "        SimpleFeatureClassifier.__init__(self, symbols)\n",
    "        self.feature_key = 'LTOP'       \n",
    "        self.top =  TopologicalFeatureClassifier(symbols)\n",
    "        self.layers = self.get_layer_indices(particle)\n",
    "        self.n1, self.n2 = np.unique(particle.atoms.atoms.numbers)\n",
    "    \n",
    "    def compute_layers(self, particle):\n",
    "        positions = particle.atoms.atoms.get_positions()\n",
    "        x_layer, y_layer, z_layer = [np.unique(p.atoms.atoms.positions[:,coord]) for coord in range(3)]\n",
    "        return x_layer, y_layer, z_layer\n",
    "\n",
    "    def get_layer_indices(self, particle):\n",
    "        positions = particle.atoms.atoms.get_positions()\n",
    "        x_layer, y_layer, z_layer = self.compute_layers(particle)\n",
    "\n",
    "        x_layer_indices = {x : np.where(positions[:,0] == x)[0] for x in x_layer}\n",
    "        y_layer_indices = {y : np.where(positions[:,1] == y)[0] for y in y_layer}\n",
    "        z_layer_indices = {z : np.where(positions[:,2] == z)[0] for z in z_layer}\n",
    "\n",
    "        return x_layer_indices, y_layer_indices, z_layer_indices\n",
    "\n",
    "    def get_layers_occupacy(self, particle):\n",
    "        x_layer_indices, y_layer_indices, z_layer_indices = self.layers\n",
    "\n",
    "        layers_occupacy_x = 0\n",
    "        layers_occupacy_y = 0\n",
    "        layers_occupacy_z = 0\n",
    "\n",
    "        for layer in x_layer_indices.values():\n",
    "            n_a = np.where(p.atoms.atoms.numbers[layer]==self.n1)[0]\n",
    "            n_b = np.where(p.atoms.atoms.numbers[layer]==self.n2)[0]\n",
    "            layers_occupacy_x += abs(len(n_a) - len(n_b))\n",
    "\n",
    "        for layer in y_layer_indices.values():\n",
    "            n_a = np.where(p.atoms.atoms.numbers[layer]==self.n1)[0]\n",
    "            n_b = np.where(p.atoms.atoms.numbers[layer]==self.n2)[0]\n",
    "            layers_occupacy_y += abs(len(n_a) - len(n_b))\n",
    "\n",
    "        for layer in z_layer_indices.values():\n",
    "            n_a = np.where(p.atoms.atoms.numbers[layer]==self.n1)[0]\n",
    "            n_b = np.where(p.atoms.atoms.numbers[layer]==self.n2)[0]\n",
    "            layers_occupacy_z += abs(len(n_a) - len(n_b))\n",
    "\n",
    "        return np.array([layers_occupacy_x, layers_occupacy_y, layers_occupacy_z])\n",
    "\n",
    "    def compute_feature_vector(self, particle):\n",
    "        self.top.compute_feature_vector(particle)\n",
    "        layericity = np.array(self.get_layers_occupacy(particle))\n",
    "        return np.append(particle.get_feature_vector(self.top.feature_key), layericity)\n",
    "            "
   ]
  },
  {
   "cell_type": "code",
   "execution_count": 2,
   "metadata": {},
   "outputs": [
    {
     "data": {
      "text/plain": [
       "array([108., 104., 424.,   0.,   0.,   0.,   0.,   0.,   0.,  16.,  16.,\n",
       "         0.,  16.,   0.,   0.,  24.,   0.,   0.,   0.,   0.,   0.,   0.,\n",
       "         8.,   8.,   0.,  32.,   0.,   0.,  20., 140.,   4.,   4.])"
      ]
     },
     "execution_count": 2,
     "metadata": {},
     "output_type": "execute_result"
    }
   ],
   "source": [
    "from Core.GlobalFeatureClassifier import LayererTopologicalDescriptors\n",
    "from Core import Nanoparticle as NP \n",
    "\n",
    "p = NP.Nanoparticle()\n",
    "p.read('/home/riccardo/Scientific_Projects/ETOP_paper_figures/xyz/Pd72Zn68_ETOP.xyz')\n",
    "#p.random_ordering({'Pt':69,'Au':71})\n",
    "ltop = LayererTopologicalDescriptors(p.get_all_symbols(), p)\n",
    "ltop.compute_feature_vector(p)\n",
    "p.get_feature_vector('LTOP')"
   ]
  },
  {
   "cell_type": "code",
   "execution_count": 61,
   "metadata": {},
   "outputs": [
    {
     "data": {
      "text/plain": [
       "array([6.92770194e-310, 6.92770194e-310, 0.00000000e+000, 0.00000000e+000,\n",
       "       0.00000000e+000, 5.02034658e+175, 3.92841766e-061, 1.91620945e-076,\n",
       "       1.58821150e-047, 6.23174874e+174, 3.40473612e-057, 2.16385130e+190,\n",
       "       1.94918964e-153, 5.30581644e+180, 4.32453723e-096, 2.14027814e+161,\n",
       "       8.67509195e+199, 4.31536478e-096, 4.82337723e+228, 4.79408759e+174,\n",
       "       1.10684325e-047, 9.95692492e-043, 3.50295081e-033, 4.26032547e-096,\n",
       "       1.16097020e-028, 8.26219736e-072, 2.54867591e-028, 5.93051569e-038,\n",
       "       1.04917183e-153, 9.08366791e+223, 6.14415221e-144, 6.17582057e-322])"
      ]
     },
     "execution_count": 61,
     "metadata": {},
     "output_type": "execute_result"
    }
   ],
   "source": [
    "feature_vector = np.empty(32)\n",
    "feature_vector[:29] \n",
    "feature_vector[29:] "
   ]
  },
  {
   "cell_type": "code",
   "execution_count": 43,
   "metadata": {},
   "outputs": [],
   "source": [
    "a, b, = np.unique(p.atoms.atoms.numbers)"
   ]
  },
  {
   "cell_type": "code",
   "execution_count": 44,
   "metadata": {},
   "outputs": [
    {
     "data": {
      "text/plain": [
       "30"
      ]
     },
     "execution_count": 44,
     "metadata": {},
     "output_type": "execute_result"
    }
   ],
   "source": [
    "a"
   ]
  },
  {
   "cell_type": "code",
   "execution_count": 30,
   "metadata": {},
   "outputs": [
    {
     "data": {
      "text/plain": [
       "array([[-7.8 , -1.95,  0.  ],\n",
       "       [-7.8 , -0.  , -1.95],\n",
       "       [-7.8 , -0.  ,  1.95],\n",
       "       [-7.8 ,  1.95,  0.  ],\n",
       "       [-5.85, -3.9 ,  0.  ],\n",
       "       [-3.9 , -5.85,  0.  ],\n",
       "       [-3.9 , -3.9 , -1.95],\n",
       "       [-3.9 , -3.9 ,  1.95],\n",
       "       [-5.85, -0.  , -3.9 ],\n",
       "       [-3.9 , -1.95, -3.9 ],\n",
       "       [-3.9 , -0.  , -5.85],\n",
       "       [-5.85, -1.95, -1.95],\n",
       "       [-5.85, -0.  ,  0.  ],\n",
       "       [-3.9 , -1.95,  0.  ],\n",
       "       [-3.9 , -0.  , -1.95],\n",
       "       [-5.85, -1.95,  1.95],\n",
       "       [-5.85, -0.  ,  3.9 ],\n",
       "       [-3.9 , -1.95,  3.9 ],\n",
       "       [-3.9 , -0.  ,  1.95],\n",
       "       [-3.9 , -0.  ,  5.85],\n",
       "       [-3.9 ,  1.95, -3.9 ],\n",
       "       [-5.85,  1.95, -1.95],\n",
       "       [-5.85,  3.9 ,  0.  ],\n",
       "       [-3.9 ,  1.95,  0.  ],\n",
       "       [-3.9 ,  3.9 , -1.95],\n",
       "       [-5.85,  1.95,  1.95],\n",
       "       [-3.9 ,  1.95,  3.9 ],\n",
       "       [-3.9 ,  3.9 ,  1.95],\n",
       "       [-3.9 ,  5.85,  0.  ],\n",
       "       [-1.95, -7.8 ,  0.  ],\n",
       "       [ 0.  , -7.8 , -1.95],\n",
       "       [ 0.  , -7.8 ,  1.95],\n",
       "       [-1.95, -3.9 , -3.9 ],\n",
       "       [ 0.  , -5.85, -3.9 ],\n",
       "       [ 0.  , -3.9 , -5.85],\n",
       "       [-1.95, -5.85, -1.95],\n",
       "       [-1.95, -3.9 ,  0.  ],\n",
       "       [ 0.  , -5.85,  0.  ],\n",
       "       [ 0.  , -3.9 , -1.95],\n",
       "       [-1.95, -5.85,  1.95],\n",
       "       [-1.95, -3.9 ,  3.9 ],\n",
       "       [ 0.  , -5.85,  3.9 ],\n",
       "       [ 0.  , -3.9 ,  1.95],\n",
       "       [ 0.  , -3.9 ,  5.85],\n",
       "       [-1.95, -0.  , -7.8 ],\n",
       "       [ 0.  , -1.95, -7.8 ],\n",
       "       [-1.95, -1.95, -5.85],\n",
       "       [-1.95, -0.  , -3.9 ],\n",
       "       [ 0.  , -1.95, -3.9 ],\n",
       "       [ 0.  , -0.  , -5.85],\n",
       "       [-1.95, -1.95, -1.95],\n",
       "       [-1.95, -0.  ,  0.  ],\n",
       "       [ 0.  , -1.95,  0.  ],\n",
       "       [ 0.  , -0.  , -1.95],\n",
       "       [-1.95, -1.95,  1.95],\n",
       "       [-1.95, -0.  ,  3.9 ],\n",
       "       [ 0.  , -1.95,  3.9 ],\n",
       "       [ 0.  , -0.  ,  1.95],\n",
       "       [-1.95, -1.95,  5.85],\n",
       "       [-1.95, -0.  ,  7.8 ],\n",
       "       [ 0.  , -1.95,  7.8 ],\n",
       "       [ 0.  , -0.  ,  5.85],\n",
       "       [ 0.  ,  1.95, -7.8 ],\n",
       "       [-1.95,  1.95, -5.85],\n",
       "       [-1.95,  3.9 , -3.9 ],\n",
       "       [ 0.  ,  1.95, -3.9 ],\n",
       "       [ 0.  ,  3.9 , -5.85],\n",
       "       [-1.95,  1.95, -1.95],\n",
       "       [-1.95,  3.9 ,  0.  ],\n",
       "       [ 0.  ,  1.95,  0.  ],\n",
       "       [ 0.  ,  3.9 , -1.95],\n",
       "       [-1.95,  1.95,  1.95],\n",
       "       [-1.95,  3.9 ,  3.9 ],\n",
       "       [ 0.  ,  1.95,  3.9 ],\n",
       "       [ 0.  ,  3.9 ,  1.95],\n",
       "       [-1.95,  1.95,  5.85],\n",
       "       [ 0.  ,  1.95,  7.8 ],\n",
       "       [ 0.  ,  3.9 ,  5.85],\n",
       "       [ 0.  ,  5.85, -3.9 ],\n",
       "       [-1.95,  5.85, -1.95],\n",
       "       [-1.95,  7.8 ,  0.  ],\n",
       "       [ 0.  ,  5.85,  0.  ],\n",
       "       [ 0.  ,  7.8 , -1.95],\n",
       "       [-1.95,  5.85,  1.95],\n",
       "       [ 0.  ,  5.85,  3.9 ],\n",
       "       [ 0.  ,  7.8 ,  1.95],\n",
       "       [ 1.95, -7.8 ,  0.  ],\n",
       "       [ 1.95, -3.9 , -3.9 ],\n",
       "       [ 1.95, -5.85, -1.95],\n",
       "       [ 1.95, -3.9 ,  0.  ],\n",
       "       [ 3.9 , -5.85,  0.  ],\n",
       "       [ 3.9 , -3.9 , -1.95],\n",
       "       [ 1.95, -5.85,  1.95],\n",
       "       [ 1.95, -3.9 ,  3.9 ],\n",
       "       [ 3.9 , -3.9 ,  1.95],\n",
       "       [ 1.95, -0.  , -7.8 ],\n",
       "       [ 1.95, -1.95, -5.85],\n",
       "       [ 1.95, -0.  , -3.9 ],\n",
       "       [ 3.9 , -1.95, -3.9 ],\n",
       "       [ 3.9 , -0.  , -5.85],\n",
       "       [ 1.95, -1.95, -1.95],\n",
       "       [ 1.95, -0.  ,  0.  ],\n",
       "       [ 3.9 , -1.95,  0.  ],\n",
       "       [ 3.9 , -0.  , -1.95],\n",
       "       [ 1.95, -1.95,  1.95],\n",
       "       [ 1.95, -0.  ,  3.9 ],\n",
       "       [ 3.9 , -1.95,  3.9 ],\n",
       "       [ 3.9 , -0.  ,  1.95],\n",
       "       [ 1.95, -1.95,  5.85],\n",
       "       [ 1.95, -0.  ,  7.8 ],\n",
       "       [ 3.9 , -0.  ,  5.85],\n",
       "       [ 1.95,  1.95, -5.85],\n",
       "       [ 1.95,  3.9 , -3.9 ],\n",
       "       [ 3.9 ,  1.95, -3.9 ],\n",
       "       [ 1.95,  1.95, -1.95],\n",
       "       [ 1.95,  3.9 ,  0.  ],\n",
       "       [ 3.9 ,  1.95,  0.  ],\n",
       "       [ 3.9 ,  3.9 , -1.95],\n",
       "       [ 1.95,  1.95,  1.95],\n",
       "       [ 1.95,  3.9 ,  3.9 ],\n",
       "       [ 3.9 ,  1.95,  3.9 ],\n",
       "       [ 3.9 ,  3.9 ,  1.95],\n",
       "       [ 1.95,  1.95,  5.85],\n",
       "       [ 1.95,  5.85, -1.95],\n",
       "       [ 1.95,  7.8 ,  0.  ],\n",
       "       [ 3.9 ,  5.85,  0.  ],\n",
       "       [ 1.95,  5.85,  1.95],\n",
       "       [ 5.85, -3.9 ,  0.  ],\n",
       "       [ 5.85, -0.  , -3.9 ],\n",
       "       [ 5.85, -1.95, -1.95],\n",
       "       [ 5.85, -0.  ,  0.  ],\n",
       "       [ 7.8 , -1.95,  0.  ],\n",
       "       [ 7.8 , -0.  , -1.95],\n",
       "       [ 5.85, -1.95,  1.95],\n",
       "       [ 5.85, -0.  ,  3.9 ],\n",
       "       [ 7.8 , -0.  ,  1.95],\n",
       "       [ 5.85,  1.95, -1.95],\n",
       "       [ 5.85,  3.9 ,  0.  ],\n",
       "       [ 7.8 ,  1.95,  0.  ],\n",
       "       [ 5.85,  1.95,  1.95]])"
      ]
     },
     "execution_count": 30,
     "metadata": {},
     "output_type": "execute_result"
    }
   ],
   "source": [
    "p.atoms.atoms.positions"
   ]
  },
  {
   "cell_type": "code",
   "execution_count": 126,
   "metadata": {},
   "outputs": [
    {
     "data": {
      "text/plain": [
       "array([10, 20, 20])"
      ]
     },
     "execution_count": 126,
     "metadata": {},
     "output_type": "execute_result"
    }
   ],
   "source": [
    "a1 = np.array([10,20])\n",
    "a2 = np.array([20])\n",
    "np.append(a1,a2)"
   ]
  },
  {
   "cell_type": "code",
   "execution_count": 76,
   "metadata": {},
   "outputs": [
    {
     "name": "stdout",
     "output_type": "stream",
     "text": [
      "[0 1 2 3]\n",
      "[ 4  8 11 12 15 16 21 22 25]\n",
      "[ 5  6  7  9 10 13 14 17 18 19 20 23 24 26 27 28]\n",
      "[29 32 35 36 39 40 44 46 47 50 51 54 55 58 59 63 64 67 68 71 72 75 79 80\n",
      " 83]\n",
      "[30 31 33 34 37 38 41 42 43 45 48 49 52 53 56 57 60 61 62 65 66 69 70 73\n",
      " 74 76 77 78 81 82 84 85]\n",
      "[ 86  87  88  89  92  93  95  96  97 100 101 104 105 108 109 111 112 114\n",
      " 115 118 119 122 123 124 126]\n",
      "[ 90  91  94  98  99 102 103 106 107 110 113 116 117 120 121 125]\n",
      "[127 128 129 130 133 134 136 137 139]\n",
      "[131 132 135 138]\n"
     ]
    }
   ],
   "source": [
    "ltop = LayererTopologicalDescriptors(['Pt'])\n",
    "x_layer_indices, _, _ = ltop.get_layer_indices(p)\n",
    "\n",
    "#layers_occupacy = ltop.get_layers_occupacy(p)\n",
    "for x in x_layer_indices.values():\n",
    "    print(x)\n"
   ]
  },
  {
   "cell_type": "code",
   "execution_count": 80,
   "metadata": {},
   "outputs": [
    {
     "data": {
      "text/plain": [
       "array([4.33333333, 4.33333333, 4.33333333, 4.33333333])"
      ]
     },
     "execution_count": 80,
     "metadata": {},
     "output_type": "execute_result"
    }
   ],
   "source": [
    "p.atoms.atoms.numbers[x]/18"
   ]
  },
  {
   "cell_type": "code",
   "execution_count": null,
   "metadata": {},
   "outputs": [],
   "source": []
  }
 ],
 "metadata": {
  "interpreter": {
   "hash": "9bbf539494eec5075113a93f4ea6e0e910eb7706ccd7c3e2c78481c269c9c2ea"
  },
  "kernelspec": {
   "display_name": "Python 3.9.7 ('base')",
   "language": "python",
   "name": "python3"
  },
  "language_info": {
   "codemirror_mode": {
    "name": "ipython",
    "version": 3
   },
   "file_extension": ".py",
   "mimetype": "text/x-python",
   "name": "python",
   "nbconvert_exporter": "python",
   "pygments_lexer": "ipython3",
   "version": "3.9.7"
  },
  "orig_nbformat": 4
 },
 "nbformat": 4,
 "nbformat_minor": 2
}
