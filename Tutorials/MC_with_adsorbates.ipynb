{
 "cells": [
  {
   "cell_type": "code",
   "execution_count": 1,
   "id": "f720c93f-0f2e-4382-9650-fe02a906cd6a",
   "metadata": {},
   "outputs": [],
   "source": [
    "%load_ext autoreload"
   ]
  },
  {
   "cell_type": "code",
   "execution_count": 2,
   "id": "a312463a-b479-454f-801f-29f84ab55e0a",
   "metadata": {},
   "outputs": [],
   "source": [
    "%autoreload 2"
   ]
  },
  {
   "cell_type": "code",
   "execution_count": 4,
   "id": "042e71ae-6603-41d7-9f5e-0cf6c4728279",
   "metadata": {},
   "outputs": [],
   "source": [
    "from Core import Nanoparticle as NP\n",
    "from MCMC import MonteCarlo\n",
    "from Core import EnergyCalculator as EC"
   ]
  },
  {
   "cell_type": "code",
   "execution_count": 37,
   "id": "816a0b3a-6cdc-4d88-a89a-68424524dc44",
   "metadata": {},
   "outputs": [
    {
     "name": "stdout",
     "output_type": "stream",
     "text": [
      "Resulting stoichiometry: {'Ag': 79}\n"
     ]
    }
   ],
   "source": [
    "start_particle = NP.Nanoparticle()\n",
    "start_particle.truncated_octahedron(5,1,{'Ag':1})\n",
    "\n",
    "adsorbate_calculator = EC.BayesianRRCalculator('ADS')\n",
    "top, bridge, hollow = -1, -2, -3\n",
    "adsorbate_calculator.set_coefficients([top, bridge, hollow])"
   ]
  },
  {
   "cell_type": "code",
   "execution_count": 49,
   "id": "bb3e6a25-b198-481b-876b-a99118c971bf",
   "metadata": {},
   "outputs": [
    {
     "name": "stdout",
     "output_type": "stream",
     "text": [
      "Step: 2000\n",
      "Lowest energy: -26.236630996540107\n",
      "Step: 4000\n",
      "Lowest energy: -26.4129303396021\n"
     ]
    }
   ],
   "source": [
    "kwargs = {\n",
    "    'beta' : 200,\n",
    "    'max_steps' : 2000,\n",
    "    'start_particle' : start_particle,\n",
    "    'adsorbates_energy' : adsorbate_calculator,\n",
    "    'n_adsorbates' : 10}\n",
    "\n",
    "[best_particle, accepted_energies] = MonteCarlo.run_monte_carlo_for_adsorbates(**kwargs)"
   ]
  },
  {
   "cell_type": "code",
   "execution_count": 50,
   "id": "bb9da81d-92ff-4d8a-a4fc-446e23943e55",
   "metadata": {},
   "outputs": [
    {
     "name": "stdout",
     "output_type": "stream",
     "text": [
      "6.273602464580096\n",
      "-30\n"
     ]
    }
   ],
   "source": [
    "print(best_particle['lateral_interaction'])\n",
    "print(best_particle['adsorbates_energy'])"
   ]
  },
  {
   "cell_type": "code",
   "execution_count": 51,
   "id": "78c86dd3-ed5d-407a-8152-f0150c80e1a3",
   "metadata": {},
   "outputs": [
    {
     "data": {
      "text/plain": [
       "<Core.Nanoparticle.Nanoparticle at 0x7efbb7e0ab20>"
      ]
     },
     "execution_count": 51,
     "metadata": {},
     "output_type": "execute_result"
    }
   ],
   "source": [
    "from Core import Adsorption\n",
    "from ase.visualize import view\n",
    "\n",
    "ads_placer = Adsorption.PlaceAddAtoms(start_particle.get_all_symbols())\n",
    "ads_placer.bind_particle(start_particle)\n",
    "ads_site_list = start_particle.get_adsorption_list()\n",
    "\n",
    "ads_positions = [ads_site_list[site] for site in best_particle['ads']] \n",
    "ads_placer.place_add_atom(start_particle, 'O', ads_positions)\n",
    "view(start_particle.get_ase_atoms())"
   ]
  },
  {
   "cell_type": "code",
   "execution_count": null,
   "id": "0f93a0fe-07c3-4ab9-8b13-c537a9893a80",
   "metadata": {},
   "outputs": [],
   "source": []
  }
 ],
 "metadata": {
  "kernelspec": {
   "display_name": "Python 3 (ipykernel)",
   "language": "python",
   "name": "python3"
  },
  "language_info": {
   "codemirror_mode": {
    "name": "ipython",
    "version": 3
   },
   "file_extension": ".py",
   "mimetype": "text/x-python",
   "name": "python",
   "nbconvert_exporter": "python",
   "pygments_lexer": "ipython3",
   "version": "3.9.7"
  }
 },
 "nbformat": 4,
 "nbformat_minor": 5
}
