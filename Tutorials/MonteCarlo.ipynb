{
 "cells": [
  {
   "cell_type": "code",
   "execution_count": 2,
   "metadata": {},
   "outputs": [],
   "source": [
    "import sys\n",
    "sys.path.append('../')"
   ]
  },
  {
   "cell_type": "code",
   "execution_count": 2,
   "metadata": {
    "scrolled": true,
    "tags": []
   },
   "outputs": [
    {
     "ename": "FileNotFoundError",
     "evalue": "[Errno 2] No such file or directory: '/home/g15farris/NPLtest/training_set/'",
     "output_type": "error",
     "traceback": [
      "\u001b[0;31m---------------------------------------------------------------------------\u001b[0m",
      "\u001b[0;31mFileNotFoundError\u001b[0m                         Traceback (most recent call last)",
      "Input \u001b[0;32mIn [2]\u001b[0m, in \u001b[0;36m<module>\u001b[0;34m\u001b[0m\n\u001b[1;32m      7\u001b[0m calc_EMT \u001b[38;5;241m=\u001b[39m EMTCalculator()\n\u001b[1;32m      9\u001b[0m training_set \u001b[38;5;241m=\u001b[39m []\n\u001b[0;32m---> 10\u001b[0m \u001b[38;5;28;01mfor\u001b[39;00m glo \u001b[38;5;129;01min\u001b[39;00m \u001b[43mos\u001b[49m\u001b[38;5;241;43m.\u001b[39;49m\u001b[43mlistdir\u001b[49m\u001b[43m(\u001b[49m\u001b[38;5;124;43m'\u001b[39;49m\u001b[38;5;124;43m/home/g15farris/NPLtest/training_set/\u001b[39;49m\u001b[38;5;124;43m'\u001b[39;49m\u001b[43m)\u001b[49m:\n\u001b[1;32m     11\u001b[0m     nano \u001b[38;5;241m=\u001b[39m BaseNP()\n\u001b[1;32m     12\u001b[0m     nano\u001b[38;5;241m.\u001b[39mread(\u001b[38;5;124m'\u001b[39m\u001b[38;5;124m/home/g15farris/NPLtest/training_set/\u001b[39m\u001b[38;5;124m'\u001b[39m\u001b[38;5;241m+\u001b[39m glo)\n",
      "\u001b[0;31mFileNotFoundError\u001b[0m: [Errno 2] No such file or directory: '/home/g15farris/NPLtest/training_set/'"
     ]
    }
   ],
   "source": [
    "import os\n",
    "from Core.BaseNanoparticle import BaseNanoparticle as BaseNP\n",
    "from Core.EnergyCalculator import BayesianRRCalculator\n",
    "from Core.GlobalFeatureClassifier import TopologicalFeatureClassifier as TFC\n",
    "from Core.EnergyCalculator import  EMTCalculator\n",
    "\n",
    "calc_EMT = EMTCalculator()\n",
    "\n",
    "training_set = []\n",
    "for glo in os.listdir('/home/g15farris/NPLtest/training_set/'):\n",
    "    nano = BaseNP()\n",
    "    nano.read('/home/g15farris/NPLtest/training_set/'+ glo)\n",
    "    TFC(['Au','Pt']).compute_feature_vector(nano)\n",
    "    calc_EMT.compute_energy(nano)\n",
    "    training_set.append(nano)"
   ]
  },
  {
   "cell_type": "code",
   "execution_count": null,
   "metadata": {},
   "outputs": [],
   "source": [
    "from MCMC.MonteCarlo import setup_monte_carlo, run_monte_carlo\n",
    "from Core.LocalEnvironmentFeatureClassifier import TopologicalEnvironmentClassifier\n",
    "from Core.LocalEnvironmentCalculator import LocalEnvironmentCalculator\n",
    "\n",
    "\n",
    "local_environment_calculator = LocalEnvironmentCalculator()\n",
    "local_feature_classifier = TopologicalEnvironmentClassifier(local_environment_calculator\n",
    "                                                            , ['Au', 'Pt'])\n",
    "calc_BRR = BayesianRRCalculator('TFC')\n",
    "calc_BRR.fit(training_set, 'EMT')\n",
    "coef = calc_BRR.get_coefficients()\n",
    "\n",
    "\"\"\"Generate local feature vector from Global feature vector. Produce the coefficients and the \n",
    "enviromental energies\"\"\"\n",
    "from Core.EnergyCalculator import compute_coefficients_for_linear_topological_model as LTM\n",
    "\n",
    "coefficents, total_energies = LTM(coef, ['Au', 'Pt'], 201)\n",
    "calc_BRR.set_coefficients(coefficents)\n",
    "calc_BRR.set_feature_key('TEC')\n",
    "\n",
    "\n",
    "start_particle = training_set[1]\n",
    "energy_calculator = calc_BRR\n",
    "beta = 0.0001\n",
    "max_steps = 10000\n",
    "\n",
    "final_MC = run_monte_carlo(beta, max_steps, start_particle,\n",
    "                           energy_calculator,local_feature_classifier)\n"
   ]
  },
  {
   "cell_type": "code",
   "execution_count": 1,
   "metadata": {},
   "outputs": [],
   "source": [
    "import sys\n",
    "sys.path.append('../')"
   ]
  },
  {
   "cell_type": "code",
   "execution_count": 15,
   "metadata": {},
   "outputs": [],
   "source": [
    "n12 = [-0.001, -0.05075, -0.1005, -0.15025, -0.2]\n",
    "n16 = [-0.593, -0.41175, -0.2305, -0.04925, 0.132]\n",
    "n17 = [-0.448, -0.28675, -0.1255, 0.03575, 0.197]\n",
    "n19 = [-0.324, -0.18675, -0.0495, 0.08775, 0.225]"
   ]
  },
  {
   "cell_type": "code",
   "execution_count": 17,
   "metadata": {},
   "outputs": [],
   "source": [
    "from Core import Nanoparticle as NP\n",
    "from Core import EnergyCalculator as EC\n",
    "\n",
    "energy_calculator = EC.BayesianRRCalculator('TFC')\n",
    "c = [0 for _ in range(17)]\n",
    "c[2], c[10], c[11], c[13] = n12[0], n16[0], n17[0], n19[0]\n",
    "energy_calculator.set_coefficients(c)"
   ]
  },
  {
   "cell_type": "code",
   "execution_count": 23,
   "metadata": {},
   "outputs": [
    {
     "name": "stdout",
     "output_type": "stream",
     "text": [
      "Step: 2000\n",
      "Lowest energy: -32.1137\n",
      "Step: 4000\n",
      "Lowest energy: -32.1137\n",
      "Step: 6000\n",
      "Lowest energy: -32.1137\n"
     ]
    }
   ],
   "source": [
    "from Core.GlobalFeatureClassifier import TopologicalFeatureClassifier\n",
    "from MCMC.MonteCarloGlobalFeatures import run_monte_carlo\n",
    "\n",
    "p = NP.Nanoparticle()\n",
    "p.truncated_octahedron(6,1,{'Pd':70,'Zn':70})\n",
    "\n",
    "[best_particle, accepted_energies, accepted_structures] = run_monte_carlo(200, 5000, p,\n",
    "                                                                 energy_calculator,\n",
    "                                                                 TopologicalFeatureClassifier)"
   ]
  },
  {
   "cell_type": "code",
   "execution_count": 24,
   "metadata": {},
   "outputs": [
    {
     "data": {
      "text/plain": [
       "63"
      ]
     },
     "execution_count": 24,
     "metadata": {},
     "output_type": "execute_result"
    }
   ],
   "source": [
    "len(accepted_structures)"
   ]
  },
  {
   "cell_type": "code",
   "execution_count": 25,
   "metadata": {},
   "outputs": [
    {
     "data": {
      "text/plain": [
       "<Popen: returncode: None args: ['/home/riccardo/anaconda3/bin/python3.9', '-...>"
      ]
     },
     "execution_count": 25,
     "metadata": {},
     "output_type": "execute_result"
    }
   ],
   "source": [
    "from ase.visualize import view\n",
    "p = NP.Nanoparticle()\n",
    "p.build_from_dictionary(best_particle)\n",
    "\n",
    "view(p.get_ase_atoms())"
   ]
  },
  {
   "cell_type": "code",
   "execution_count": 16,
   "metadata": {},
   "outputs": [
    {
     "name": "stdout",
     "output_type": "stream",
     "text": [
      "Resulting stoichiometry: {'Pd': 70, 'Zn': 70}\n"
     ]
    },
    {
     "data": {
      "text/plain": [
       "-11.864285714285714"
      ]
     },
     "execution_count": 16,
     "metadata": {},
     "output_type": "execute_result"
    }
   ],
   "source": [
    "\n",
    "p = NP.Nanoparticle()\n",
    "p.truncated_octahedron(6,1,{'Pd':0.5,'Zn':0.5})\n",
    "TopologicalFeatureClassifier(p.get_all_symbols()).compute_feature_vector(p)\n",
    "p.get_feature_vector('TFC')\n",
    "energy_calculator.compute_energy(p)\n",
    "p.get_energy('BRR')"
   ]
  },
  {
   "cell_type": "code",
   "execution_count": 13,
   "metadata": {},
   "outputs": [
    {
     "data": {
      "text/plain": [
       "<Popen: returncode: None args: ['/home/riccardo/anaconda3/bin/python3.9', '-...>"
      ]
     },
     "execution_count": 13,
     "metadata": {},
     "output_type": "execute_result"
    }
   ],
   "source": [
    "view(p.get_ase_atoms())"
   ]
  },
  {
   "cell_type": "code",
   "execution_count": null,
   "metadata": {},
   "outputs": [],
   "source": []
  }
 ],
 "metadata": {
  "kernelspec": {
   "display_name": "Python 3 (ipykernel)",
   "language": "python",
   "name": "python3"
  },
  "language_info": {
   "codemirror_mode": {
    "name": "ipython",
    "version": 3
   },
   "file_extension": ".py",
   "mimetype": "text/x-python",
   "name": "python",
   "nbconvert_exporter": "python",
   "pygments_lexer": "ipython3",
   "version": "3.9.7"
  }
 },
 "nbformat": 4,
 "nbformat_minor": 4
}
