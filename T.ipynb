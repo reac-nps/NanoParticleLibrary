{
 "cells": [
  {
   "cell_type": "code",
   "execution_count": 3,
   "id": "f2d63829-c216-49fd-aab4-37573fd4120d",
   "metadata": {},
   "outputs": [
    {
     "name": "stdout",
     "output_type": "stream",
     "text": [
      "Resulting stoichiometry: {'Cu': 201}\n"
     ]
    },
    {
     "data": {
      "text/plain": [
       "[4.5]"
      ]
     },
     "execution_count": 3,
     "metadata": {},
     "output_type": "execute_result"
    }
   ],
   "source": [
    "from Core import Nanoparticle as NP\n",
    "from Core import Adsorption as ADS\n",
    "from ase.visualize import view\n",
    "\n",
    "particle = NP.Nanoparticle()\n",
    "particle.truncated_octahedron(7,2,{'Cu':1})\n",
    "particle.construct_adsorption_list()\n",
    "ads_list = particle.get_adsorption_list()\n",
    "f_h_site = [list(ads_list[x]) for x in range(particle.get_total_number_of_sites()) if len(ads_list[x])==4]\n",
    "#ads = ADS.PlaceAddAtoms(particle.get_all_symbols())\n",
    "#ads.bind_particle(particle)\n",
    "#   \n",
    "#ads.place_add_atom(particle, 'O', f_h_site)\n",
    "#\n",
    "#\n",
    "#atoms = particle.get_ase_atoms()\n",
    "#view(atoms)\n",
    "GCNs = particle.get_generalized_coordination_numbers(f_h_site)\n",
    "sorted(GCNs.keys())"
   ]
  },
  {
   "cell_type": "code",
   "execution_count": 4,
   "id": "00dc7e22-b580-42af-8fb6-6b5680418cf7",
   "metadata": {},
   "outputs": [
    {
     "data": {
      "text/plain": [
       "[]"
      ]
     },
     "execution_count": 4,
     "metadata": {},
     "output_type": "execute_result"
    }
   ],
   "source": [
    "particle.get_atom_indices_from_coordination_number([10])"
   ]
  },
  {
   "cell_type": "code",
   "execution_count": null,
   "id": "f56f66b4-487b-4283-a3a0-a38990d378e5",
   "metadata": {},
   "outputs": [],
   "source": []
  },
  {
   "cell_type": "code",
   "execution_count": null,
   "id": "89c76227-9e15-4ea5-b2b5-b9102b6bf0aa",
   "metadata": {},
   "outputs": [],
   "source": [
    "def put_atom_in_ceter(atoms, site):\n",
    "    from ase import Atoms\n",
    "    o = Atoms('O')\n",
    "    o.translate(sum(atoms[list(site)].get_positions())/4)\n",
    "    atoms += o\n",
    "    return atoms"
   ]
  },
  {
   "cell_type": "code",
   "execution_count": null,
   "id": "b9782cda-afe0-40c4-b34c-c72cd66d498c",
   "metadata": {},
   "outputs": [
    {
     "data": {
      "text/plain": [
       "<Popen: returncode: None args: ['/home/riccardo/anaconda3/bin/python3.9', '-...>"
      ]
     },
     "execution_count": 5,
     "metadata": {},
     "output_type": "execute_result"
    }
   ],
   "source": [
    "atoms = particle.get_ase_atoms()\n",
    "for i in four_fold_hollow_sites:\n",
    "    for f in i:\n",
    "        atoms[f].symbol = 'Au'\n",
    "    put_atom_in_ceter(atoms, i)\n",
    "view(atoms)"
   ]
  },
  {
   "cell_type": "code",
   "execution_count": null,
   "id": "d8a4f8b3-bfa4-4851-80c0-33417458173d",
   "metadata": {},
   "outputs": [
    {
     "ename": "SyntaxError",
     "evalue": "unexpected EOF while parsing (3075996061.py, line 4)",
     "output_type": "error",
     "traceback": [
      "\u001b[0;36m  Input \u001b[0;32mIn [6]\u001b[0;36m\u001b[0m\n\u001b[0;31m    \u001b[0m\n\u001b[0m    ^\u001b[0m\n\u001b[0;31mSyntaxError\u001b[0m\u001b[0;31m:\u001b[0m unexpected EOF while parsing\n"
     ]
    }
   ],
   "source": [
    "def shared_central_atoms(indices):\n",
    "    import numpy as np\n",
    "    single_atom = np.intersect1d(\n",
    "    "
   ]
  },
  {
   "cell_type": "code",
   "execution_count": null,
   "id": "b8cabdf2-69d1-4a81-b96e-21db41d2175c",
   "metadata": {},
   "outputs": [],
   "source": [
    "ciao = [[10,20],[10,20]]"
   ]
  },
  {
   "cell_type": "code",
   "execution_count": null,
   "id": "7463bd18-54f0-4867-b850-6e55d40a7488",
   "metadata": {},
   "outputs": [],
   "source": [
    "set([atom_idx])"
   ]
  },
  {
   "cell_type": "code",
   "execution_count": null,
   "id": "64feaaf8-ce85-4200-87ef-e06d5bf3b6b3",
   "metadata": {},
   "outputs": [
    {
     "name": "stderr",
     "output_type": "stream",
     "text": [
      "/home/riccardo/Projects/NanoParticleLibrary/MCMC/MonteCarloGlobalFeatures.py:51: RuntimeWarning: overflow encountered in exp\n",
      "  acceptance_rate = min(1, np.exp(-beta * delta_e))\n",
      "/home/riccardo/Projects/NanoParticleLibrary/MCMC/MonteCarloGlobalFeatures.py:51: RuntimeWarning: overflow encountered in exp\n",
      "  acceptance_rate = min(1, np.exp(-beta * delta_e))\n"
     ]
    },
    {
     "name": "stdout",
     "output_type": "stream",
     "text": [
      "ERROR! Session/line number was not unique in database. History logging moved to new session 82\n"
     ]
    }
   ],
   "source": [
    "import sys\n",
    "sys.path.append('/home/g15farris/NanoParticleLibrary/')\n",
    "from ase.db import connect\n",
    "import concurrent.futures\n",
    "from Core import Nanoparticle as NP\n",
    "from Core import EnergyCalculator as EC\n",
    "from Core.GlobalFeatureClassifier import TopologicalFeatureClassifier\n",
    "from MCMC.MonteCarloGlobalFeatures import run_monte_carlo\n",
    "\n",
    "n12 = [-0.001, -0.05075, -0.1005, -0.15025, -0.2]\n",
    "n16 = [-0.593, -0.41175, -0.2305, -0.04925, 0.132]\n",
    "n17 = [-0.448, -0.28675, -0.1255, 0.03575, 0.197]\n",
    "n19 = [-0.324, -0.18675, -0.0495, 0.08775, 0.225]\n",
    "\n",
    "def dataset_generation(n):\n",
    "    dataset_stoichiometry = []\n",
    "    energy_calculator = EC.BayesianRRCalculator('TFC')\n",
    "    c = [0 for _ in range(17)]\n",
    "    c[2], c[10], c[11], c[13] = 1,2,3,4\n",
    "    energy_calculator.set_coefficients(c)\n",
    "\n",
    "    p = NP.Nanoparticle()\n",
    "    p.truncated_octahedron(6,1,{'Pd':140-n,'Zn':n})\n",
    "\n",
    "    [_, _, accepted_structures] = run_monte_carlo(200, 10, p, energy_calculator, TopologicalFeatureClassifier)\n",
    "    dataset_stoichiometry =+ accepted_structures\n",
    "\n",
    "\n",
    "with connect('Pd_Zn_140Atoms.db') as db:\n",
    "    with concurrent.futures.ProcessPoolExecutor() as executor:\n",
    "        pool = executor.map(dataset_generation, range(1,4))\n",
    "        for res in pool:\n",
    "            for atoms in res:\n",
    "                db.write(atoms.get_ase_atoms())\n"
   ]
  },
  {
   "cell_type": "code",
   "execution_count": null,
   "id": "32bd42ad-1ab9-46e4-bae5-d61dc7006e4d",
   "metadata": {},
   "outputs": [],
   "source": []
  }
 ],
 "metadata": {
  "kernelspec": {
   "display_name": "Python 3 (ipykernel)",
   "language": "python",
   "name": "python3"
  },
  "language_info": {
   "codemirror_mode": {
    "name": "ipython",
    "version": 3
   },
   "file_extension": ".py",
   "mimetype": "text/x-python",
   "name": "python",
   "nbconvert_exporter": "python",
   "pygments_lexer": "ipython3",
   "version": "3.9.7"
  }
 },
 "nbformat": 4,
 "nbformat_minor": 5
}
