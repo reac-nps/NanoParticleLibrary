{
 "cells": [
  {
   "cell_type": "code",
   "execution_count": 94,
   "metadata": {},
   "outputs": [
    {
     "name": "stdout",
     "output_type": "stream",
     "text": [
      "Resulting stoichiometry: {'Cu': 146}\n"
     ]
    }
   ],
   "source": [
    "from Core import Nanoparticle as NP\n",
    "\n",
    "p = NP.Nanoparticle()\n",
    "p.truncated_octahedron(6,0,{'Cu':1})\n",
    "p.construct_adsorption_list()"
   ]
  },
  {
   "cell_type": "code",
   "execution_count": 95,
   "metadata": {},
   "outputs": [],
   "source": [
    "index_to_change = []\n",
    "for atom in p.get_indices():\n",
    "    if p.get_position(atom)[0] < 0:\n",
    "        index_to_change.append(atom)"
   ]
  },
  {
   "cell_type": "code",
   "execution_count": 99,
   "metadata": {},
   "outputs": [],
   "source": [
    "metal_to_test = 'Sc Ti V Cr Mn Fe Co Ni Zn Y Zr Nb Mo Tc Ru Rh Pd Ag Cd Ir Pt Au Hf Os'.split()\n",
    "\n",
    "for metal in metal_to_test:\n",
    "    for atom in index_to_change:\n",
    "        p.get_atoms(atom).symbol = metal\n",
    "        p.write('/home/riccardo/Stuff_toPass/xyz/Cu{}.xyz'.format(metal))"
   ]
  },
  {
   "cell_type": "code",
   "execution_count": 76,
   "metadata": {},
   "outputs": [
    {
     "data": {
      "text/plain": [
       "<Core.Nanoparticle.Nanoparticle at 0x7f0654128250>"
      ]
     },
     "execution_count": 76,
     "metadata": {},
     "output_type": "execute_result"
    }
   ],
   "source": [
    "from Core.Adsorption import PlaceAddAtoms\n",
    "\n",
    "ads = PlaceAddAtoms(p.get_all_symbols())\n",
    "ads.bind_particle(p)\n",
    "c = p.get_adsorption_list()\n",
    "x = 0\n",
    "for f in c.list:\n",
    "    if len(c.list[f]) == 1:\n",
    "        f = list(c.list[f])[0]\n",
    "        cn = p.get_coordination_number(f)\n",
    "        symbol = p.get_symbol(f)\n",
    "        gcn = p.get_generalized_coordination_number([f])\n",
    "        if cn == 9 and symbol == 'Cu':\n",
    "            if p.get_position(f)[0] > x:\n",
    "                good = f\n",
    "                x = p.get_position(f)[0]\n",
    "                \n",
    "ads.place_add_atom(p, 'O', [[good]])"
   ]
  },
  {
   "cell_type": "code",
   "execution_count": 80,
   "metadata": {},
   "outputs": [],
   "source": [
    "for atom in index_to_change:\n",
    "    p.get_atoms(atom).symbol = 'Pt'"
   ]
  },
  {
   "cell_type": "code",
   "execution_count": 81,
   "metadata": {},
   "outputs": [
    {
     "data": {
      "text/plain": [
       "<Popen: returncode: None args: ['/home/riccardo/anaconda3/bin/python', '-m',...>"
      ]
     },
     "execution_count": 81,
     "metadata": {},
     "output_type": "execute_result"
    }
   ],
   "source": [
    "from ase.visualize import view\n",
    "\n",
    "view(p.get_ase_atoms())"
   ]
  },
  {
   "cell_type": "code",
   "execution_count": 63,
   "metadata": {},
   "outputs": [
    {
     "data": {
      "text/plain": [
       "[0]"
      ]
     },
     "execution_count": 63,
     "metadata": {},
     "output_type": "execute_result"
    }
   ],
   "source": [
    "list(c.list[f])"
   ]
  },
  {
   "cell_type": "code",
   "execution_count": null,
   "metadata": {},
   "outputs": [],
   "source": [
    "p.get_atom"
   ]
  }
 ],
 "metadata": {
  "kernelspec": {
   "display_name": "Python 3",
   "language": "python",
   "name": "python3"
  },
  "language_info": {
   "codemirror_mode": {
    "name": "ipython",
    "version": 3
   },
   "file_extension": ".py",
   "mimetype": "text/x-python",
   "name": "python",
   "nbconvert_exporter": "python",
   "pygments_lexer": "ipython3",
   "version": "3.8.5"
  }
 },
 "nbformat": 4,
 "nbformat_minor": 5
}
