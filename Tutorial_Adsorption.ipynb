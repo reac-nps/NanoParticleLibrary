{
 "cells": [
  {
   "cell_type": "code",
   "execution_count": null,
   "metadata": {},
   "outputs": [],
   "source": [
    "%load_ext autoreload"
   ]
  },
  {
   "cell_type": "code",
   "execution_count": null,
   "metadata": {},
   "outputs": [],
   "source": [
    "%autoreload 2"
   ]
  },
  {
   "cell_type": "code",
   "execution_count": null,
   "metadata": {},
   "outputs": [],
   "source": [
    "# Import some modules from ase and Nanoparticle Library\n",
    "from ase.visualize import view\n",
    "from Core import Nanoparticle as NP\n",
    "from Core.Adsorption import PlaceAddAtoms"
   ]
  },
  {
   "cell_type": "code",
   "execution_count": 222,
   "metadata": {},
   "outputs": [
    {
     "name": "stdout",
     "output_type": "stream",
     "text": [
      "Resulting stoichiometry: {'Ag': 664}\n",
      "Your structure has 1892 adsorption sites\n"
     ]
    }
   ],
   "source": [
    "p = NP.Nanoparticle()\n",
    "p.truncated_octahedron(10,1,{'Ag':1})\n",
    "p.construct_adsorption_list()\n",
    "n_sites = p.get_total_number_of_sites()\n",
    "print('Your structure has {} adsorption sites'.format(n_sites))"
   ]
  },
  {
   "cell_type": "code",
   "execution_count": null,
   "metadata": {},
   "outputs": [],
   "source": [
    "len(p.get_atom_indices_from_coordination_number([7]))"
   ]
  },
  {
   "cell_type": "code",
   "execution_count": 223,
   "metadata": {},
   "outputs": [
    {
     "name": "stdout",
     "output_type": "stream",
     "text": [
      "Resulting stoichiometry: {'Ag': 664}\n"
     ]
    },
    {
     "data": {
      "text/plain": [
       "<subprocess.Popen at 0x7f3733e43f70>"
      ]
     },
     "execution_count": 223,
     "metadata": {},
     "output_type": "execute_result"
    }
   ],
   "source": [
    "p = NP.Nanoparticle()\n",
    "p.truncated_octahedron(10,1,{'Ag':1})\n",
    "p.construct_adsorption_list()\n",
    "# Place Add atoms\n",
    "ads_site_list = p.get_adsorption_list()\n",
    "#on_top = [list(x) for x in ads_site_list if len(x) == 1]\n",
    "ads_placer = PlaceAddAtoms(p.get_all_symbols())\n",
    "ads_placer.bind_particle(p)\n",
    "for f in range(0, 1892):\n",
    "    p_with_adsorbates = ads_placer.place_add_atom(p, 'O', [list(ads_site_list.list[f])])\n",
    "    \n",
    "view(p_with_adsorbates.get_ase_atoms())"
   ]
  },
  {
   "cell_type": "code",
   "execution_count": 216,
   "metadata": {},
   "outputs": [
    {
     "data": {
      "text/plain": [
       "[0, 31, 48, 65, 90, 145]"
      ]
     },
     "execution_count": 216,
     "metadata": {},
     "output_type": "execute_result"
    }
   ],
   "source": [
    "p.get_atom_indices_from_coordination_number([4,6])"
   ]
  },
  {
   "cell_type": "code",
   "execution_count": 206,
   "metadata": {},
   "outputs": [
    {
     "name": "stderr",
     "output_type": "stream",
     "text": [
      "<ipython-input-206-cf11689ee016>:7: RuntimeWarning: divide by zero encountered in double_scalars\n",
      "  plt.scatter(f, 1/f)\n"
     ]
    },
    {
     "data": {
      "text/plain": [
       "Text(0, 0.5, 'correction')"
      ]
     },
     "execution_count": 206,
     "metadata": {},
     "output_type": "execute_result"
    },
    {
     "data": {
      "image/png": "[encoded data removed]",
      "text/plain": [
       "<Figure size 432x288 with 1 Axes>"
      ]
     },
     "metadata": {
      "needs_background": "light"
     },
     "output_type": "display_data"
    }
   ],
   "source": [
    "import matplotlib.pyplot as plt\n",
    "atoms = p_with_adsorbates.get_ase_atoms()\n",
    "D = atoms.get_all_distances()[146:]\n",
    "Di = np.array([row[146:] for row in D])\n",
    "\n",
    "for f in Di[0]:\n",
    "    plt.scatter(f, 1/f)\n",
    "plt.xlabel('distance')\n",
    "plt.ylabel('correction')"
   ]
  },
  {
   "cell_type": "code",
   "execution_count": 173,
   "metadata": {},
   "outputs": [
    {
     "data": {
      "text/plain": [
       "<subprocess.Popen at 0x7f381e328b20>"
      ]
     },
     "execution_count": 173,
     "metadata": {},
     "output_type": "execute_result"
    }
   ],
   "source": [
    "for atom in p_with_adsorbates.get_atom_indices_from_coordination_number([7]):\n",
    "    p.get_atoms(atom).symbol = 'Au'\n",
    "    \n",
    "view(p_with_adsorbates.get_ase_atoms())"
   ]
  },
  {
   "cell_type": "code",
   "execution_count": null,
   "metadata": {},
   "outputs": [],
   "source": [
    "from Core import MathModules as math\n",
    "positions = []\n",
    "for edge in p.get_atom_indices_from_coordination_number([7]):\n",
    "    positions = [p.get_position(edge)]\n",
    "    for neighbor in p.get_coordination_atoms(edge):\n",
    "        if p.get_coordination_number(neighbor) == 7:\n",
    "            positions.append(p.get_position(neighbor))\n",
    "            print(math.get_bridge_perpendicular_line(positions, p.atoms.atoms.get_center_of_mass())  )    \n",
    "            break\n",
    "    else:\n",
    "        print('no tiene')      "
   ]
  },
  {
   "cell_type": "code",
   "execution_count": null,
   "metadata": {},
   "outputs": [],
   "source": [
    "import itertools \n",
    "import numpy as np\n",
    "\n",
    "p = NP.Nanoparticle()\n",
    "p.truncated_octahedron(6,0,{'Ag':1})\n",
    "\n",
    "for atom in p.get_atom_indices_from_coordination_number(range(12)):\n",
    "    for surface in [[1,0,0], [-1,0,0], [0,1,0], [0,-1,0], [0,0,1], [0,0,1]]:\n",
    "        mi_vec = surface / np.linalg.norm(surface)\n",
    "        pos_vec = p.get_position(atom)/ np.linalg.norm(p.get_position(atom))\n",
    "        if np.dot(mi_vec, pos_vec) > 0.99:\n",
    "            p.get_atoms(atom).symbol = 'Au'\n",
    "view(p.get_ase_atoms())        "
   ]
  },
  {
   "cell_type": "code",
   "execution_count": null,
   "metadata": {},
   "outputs": [],
   "source": [
    "planes = [plane for plane in itertools.product([1,-1],3)]\n",
    "planes"
   ]
  },
  {
   "cell_type": "code",
   "execution_count": null,
   "metadata": {},
   "outputs": [],
   "source": [
    "import itertools\n",
    "\n",
    "planes = [plane for plane in itertools.combinations_with_replacement([1,-1],3) if plane != (0,0,0)]\n",
    "for f in itertools.combinations_with_replacement([-1,1],3):\n",
    "    if f not in planes:\n",
    "        planes.append(f)\n",
    "        \n",
    "planes"
   ]
  },
  {
   "cell_type": "code",
   "execution_count": null,
   "metadata": {},
   "outputs": [],
   "source": [
    "import copy\n",
    "\n",
    "def find_atom_plane_vec(particle, atom_idx):\n",
    "    normal_vector = 0\n",
    "    pos_vec = particle.get_position(atom_idx)/ np.linalg.norm(particle.get_position(atom_idx))\n",
    "    planes = [plane for plane in itertools.combinations_with_replacement([1,-1,0],3) if plane != (0,0,0)]\n",
    "    for plane in planes:\n",
    "        mi_vec = plane / np.linalg.norm(plane)\n",
    "        dot_prod = np.dot(mi_vec, pos_vec)\n",
    "        if dot_prod > normal_vector:\n",
    "            normal_vector = dot_prod\n",
    "            direction = copy.copy(mi_vec)\n",
    "    return direction\n",
    "        "
   ]
  },
  {
   "cell_type": "code",
   "execution_count": null,
   "metadata": {},
   "outputs": [],
   "source": [
    "for atom in p.get_atom_indices_from_coordination_number(range(12)):\n",
    "    print(find_atom_plane_vec(p, atom))"
   ]
  },
  {
   "cell_type": "code",
   "execution_count": null,
   "metadata": {},
   "outputs": [],
   "source": [
    "[0,0,0] / np.linalg.norm([0,0,0])"
   ]
  },
  {
   "cell_type": "code",
   "execution_count": null,
   "metadata": {},
   "outputs": [],
   "source": []
  }
 ],
 "metadata": {
  "kernelspec": {
   "display_name": "Python 3",
   "language": "python",
   "name": "python3"
  },
  "language_info": {
   "codemirror_mode": {
    "name": "ipython",
    "version": 3
   },
   "file_extension": ".py",
   "mimetype": "text/x-python",
   "name": "python",
   "nbconvert_exporter": "python",
   "pygments_lexer": "ipython3",
   "version": "3.8.5"
  }
 },
 "nbformat": 4,
 "nbformat_minor": 4
}
