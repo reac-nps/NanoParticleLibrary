{
 "cells": [
  {
   "cell_type": "code",
   "execution_count": 1,
   "metadata": {},
   "outputs": [],
   "source": [
    "%load_ext autoreload"
   ]
  },
  {
   "cell_type": "code",
   "execution_count": 2,
   "metadata": {},
   "outputs": [],
   "source": [
    "%autoreload 2"
   ]
  },
  {
   "cell_type": "code",
   "execution_count": 3,
   "metadata": {},
   "outputs": [],
   "source": [
    "# Import some modules from ase and Nanoparticle Library\n",
    "from ase.visualize import view\n",
    "from Core import Nanoparticle as NP\n",
    "from Core.Adsorption import PlaceAddAtoms"
   ]
  },
  {
   "cell_type": "code",
   "execution_count": 25,
   "metadata": {},
   "outputs": [
    {
     "name": "stdout",
     "output_type": "stream",
     "text": [
      "Resulting stoichiometry: {'Ag': 85}\n",
      "Your structure has 386 adsorption sites\n"
     ]
    }
   ],
   "source": [
    "p = NP.Nanoparticle()\n",
    "p.truncated_octahedron(5,0,{'Ag':1})\n",
    "p.construct_adsorption_list()\n",
    "n_sites = p.get_total_number_of_sites()\n",
    "print('Your structure has {} adsorption sites'.format(n_sites))"
   ]
  },
  {
   "cell_type": "code",
   "execution_count": 26,
   "metadata": {},
   "outputs": [
    {
     "data": {
      "text/plain": [
       "<subprocess.Popen at 0x7f0d7a604370>"
      ]
     },
     "execution_count": 26,
     "metadata": {},
     "output_type": "execute_result"
    }
   ],
   "source": [
    "# Place Add atoms\n",
    "ads_site_list = p.get_adsorption_list()\n",
    "#on_top = [list(x) for x in ads_site_list if len(x) == 1]\n",
    "ads_placer = PlaceAddAtoms(p.get_all_symbols())\n",
    "ads_placer.bind_particle(p)\n",
    "for f in range(0, n_sites):\n",
    "    p_with_adsorbates = ads_placer.place_add_atom(p, 'O', [list(ads_site_list[f])])\n",
    "    \n",
    "view(p_with_adsorbates.get_ase_atoms())"
   ]
  },
  {
   "cell_type": "code",
   "execution_count": 246,
   "metadata": {},
   "outputs": [
    {
     "name": "stdout",
     "output_type": "stream",
     "text": [
      "Resulting stoichiometry: {'Ag': 85}\n"
     ]
    }
   ],
   "source": [
    "from Core.EnergyCalculator import LateralInteractionCalculator\n",
    "p = NP.Nanoparticle()\n",
    "p.truncated_octahedron(5,0,{'Ag':1})\n",
    "\n",
    "lateral_interaction_calculator = LateralInteractionCalculator()\n",
    "lateral_interaction_calculator.bind_grid(p)"
   ]
  },
  {
   "cell_type": "code",
   "execution_count": 247,
   "metadata": {},
   "outputs": [
    {
     "data": {
      "text/plain": [
       "(386, 386)"
      ]
     },
     "execution_count": 247,
     "metadata": {},
     "output_type": "execute_result"
    }
   ],
   "source": [
    "lateral_interaction_calculator.interaction_matrix.shape"
   ]
  },
  {
   "cell_type": "code",
   "execution_count": 248,
   "metadata": {},
   "outputs": [
    {
     "data": {
      "text/plain": [
       "array([], dtype=int64)"
      ]
     },
     "execution_count": 248,
     "metadata": {},
     "output_type": "execute_result"
    }
   ],
   "source": [
    "p.get_occupation_status_by_indices(1)"
   ]
  },
  {
   "cell_type": "code",
   "execution_count": 250,
   "metadata": {},
   "outputs": [
    {
     "name": "stdout",
     "output_type": "stream",
     "text": [
      "0.03569614030473832\n",
      "0.042362144917654755\n",
      "0.45083122006198945\n",
      "0.4508312200619896\n",
      "0.7889546351084817\n",
      "3.155818540433924\n",
      "3.1558185404339243\n",
      "3.155818540433927\n",
      "3.15581854043393\n",
      "3.155818540433931\n",
      "3.155818540433937\n"
     ]
    }
   ],
   "source": [
    "p.construct_adsorption_list()\n",
    "test = 0\n",
    "for _ in range(10000):\n",
    "    p.random_occupation(2)\n",
    "    lateral_interaction_calculator.compute_energy(p)\n",
    "    energy = p.get_energy(lateral_interaction_calculator.energy_key)\n",
    "    if energy > test:\n",
    "        test = energy\n",
    "        good = p.get_occupation_status_by_indices(1)\n",
    "        print(energy)"
   ]
  },
  {
   "cell_type": "code",
   "execution_count": 251,
   "metadata": {},
   "outputs": [],
   "source": [
    "ads_site_list = p.get_adsorption_list()\n",
    "for f in good:\n",
    "    p_with_adsorbates = ads_placer.place_add_atom(p, 'O', [list(ads_site_list[f])])"
   ]
  },
  {
   "cell_type": "code",
   "execution_count": 252,
   "metadata": {},
   "outputs": [
    {
     "data": {
      "text/plain": [
       "<subprocess.Popen at 0x7f0d5b489220>"
      ]
     },
     "execution_count": 252,
     "metadata": {},
     "output_type": "execute_result"
    }
   ],
   "source": [
    "view(p_with_adsorbates.get_ase_atoms())"
   ]
  },
  {
   "cell_type": "code",
   "execution_count": 54,
   "metadata": {},
   "outputs": [],
   "source": [
    "import numpy as np\n",
    "\n",
    "def construct_adsorbate_grid(particle):\n",
    "    from Core.Adsorption import PlaceAddAtoms\n",
    "    particle.construct_adsorption_list()\n",
    "    n_sites = particle.get_total_number_of_sites()\n",
    "    ads_site_list = particle.get_adsorption_list()\n",
    "    ads_placer = PlaceAddAtoms(particle.get_all_symbols())\n",
    "    ads_placer.bind_particle(particle)\n",
    "    for f in range(0, n_sites):\n",
    "        particle = ads_placer.place_add_atom(particle, 'O', [list(ads_site_list[f])])\n",
    "    return particle\n",
    "\n",
    "def get_adsorbate_distance_matrix(particle, n_atoms_np):\n",
    "    ase_atoms = particle.get_ase_atoms()\n",
    "    adsorbate_all_distances = ase_atoms.get_all_distances()[n_atoms_np:]\n",
    "    distance_matrix = np.array([row[n_atoms_np:] for row in adsorbate_all_distances])\n",
    "    return distance_matrix\n",
    "\n",
    "def construct_interatomic_potential_matrix(particle):\n",
    "    n_atoms_np = particle.get_n_atoms()\n",
    "    particle = construct_adsorbate_grid(particle)\n",
    "    distance_matrix = get_adsorbate_distance_matrix(p_with_adsorbates, 85)\n",
    "    interaction_matrix = np.zeros(distance_matrix.shape)\n",
    "    interaction_matrix = 2/distance_matrix**2\n",
    "    return interaction_matrix\n",
    "\n",
    "def calculate_lateral_interaction(particle):\n",
    "    energy = 0\n",
    "    I = construct_interatomic_potential_matrix(particle)\n",
    "    particle.random_occupation(10)\n",
    "    sites_occupied = particle.get_occupation_status_by_indices(1)\n",
    "    for index, site in enumerate(sites_occupied):\n",
    "        for other_site in sites_occupied[index+1:]:\n",
    "            energy += I[site][other_site]\n",
    "    return energy\n",
    "        "
   ]
  },
  {
   "cell_type": "code",
   "execution_count": 55,
   "metadata": {},
   "outputs": [
    {
     "name": "stdout",
     "output_type": "stream",
     "text": [
      "Resulting stoichiometry: {'Ag': 85}\n"
     ]
    },
    {
     "name": "stderr",
     "output_type": "stream",
     "text": [
      "<ipython-input-54-2d08d901f6a5>:25: RuntimeWarning: divide by zero encountered in true_divide\n",
      "  interaction_matrix = 2/distance_matrix**2\n"
     ]
    },
    {
     "data": {
      "text/plain": [
       "2.4064912968435914"
      ]
     },
     "execution_count": 55,
     "metadata": {},
     "output_type": "execute_result"
    }
   ],
   "source": [
    "p = NP.Nanoparticle()\n",
    "p.truncated_octahedron(5,0,{'Ag':1})\n",
    "calculate_lateral_interaction(p)"
   ]
  },
  {
   "cell_type": "code",
   "execution_count": 61,
   "metadata": {},
   "outputs": [
    {
     "data": {
      "text/plain": [
       "<subprocess.Popen at 0x7f0d6921c6a0>"
      ]
     },
     "execution_count": 61,
     "metadata": {},
     "output_type": "execute_result"
    }
   ],
   "source": [
    "p.get_ase_atoms()[85].symbol = 'C'\n",
    "p.get_ase_atoms()[0].symbol = 'C'\n",
    "view(p.get_ase_atoms())"
   ]
  },
  {
   "cell_type": "code",
   "execution_count": 15,
   "metadata": {},
   "outputs": [
    {
     "name": "stderr",
     "output_type": "stream",
     "text": [
      "<ipython-input-10-6629cb63a205>:12: RuntimeWarning: divide by zero encountered in true_divide\n",
      "  interaction_matrix = 2/distance_matrix**2\n"
     ]
    },
    {
     "data": {
      "image/png": "[encoded data removed]",
      "text/plain": [
       "<Figure size 432x288 with 2 Axes>"
      ]
     },
     "metadata": {
      "needs_background": "light"
     },
     "output_type": "display_data"
    }
   ],
   "source": [
    "import matplotlib.pyplot as plt\n",
    "I = constructu_interatomic_potential_matrix(p_with_adsorbates, 85)\n",
    "\n",
    "plt.imshow(I)\n",
    "plt.colorbar()\n",
    "plt.show()"
   ]
  },
  {
   "cell_type": "code",
   "execution_count": 12,
   "metadata": {},
   "outputs": [
    {
     "data": {
      "text/plain": [
       "[<matplotlib.lines.Line2D at 0x7f0d7a586c70>]"
      ]
     },
     "execution_count": 12,
     "metadata": {},
     "output_type": "execute_result"
    },
    {
     "data": {
      "image/png": "[encoded data removed]",
      "text/plain": [
       "<Figure size 432x288 with 1 Axes>"
      ]
     },
     "metadata": {
      "needs_background": "light"
     },
     "output_type": "display_data"
    }
   ],
   "source": [
    "import matplotlib.pyplot as plt\n",
    "\n",
    "def f(x):\n",
    "    return a/x**2\n",
    "    \n",
    "    \n",
    "distance = np.linspace(1.5,10,1000)\n",
    "energy = np.zeros((len(distance),1))\n",
    "energy = 0.1/distance**2\n",
    "\n",
    "plt.plot(distance, energy)"
   ]
  },
  {
   "cell_type": "code",
   "execution_count": 22,
   "metadata": {},
   "outputs": [
    {
     "name": "stderr",
     "output_type": "stream",
     "text": [
      "<ipython-input-22-cf11689ee016>:7: RuntimeWarning: divide by zero encountered in double_scalars\n",
      "  plt.scatter(f, 1/f)\n"
     ]
    },
    {
     "data": {
      "text/plain": [
       "Text(0, 0.5, 'correction')"
      ]
     },
     "execution_count": 22,
     "metadata": {},
     "output_type": "execute_result"
    },
    {
     "data": {
      "image/png": "[encoded data removed]",
      "text/plain": [
       "<Figure size 432x288 with 1 Axes>"
      ]
     },
     "metadata": {
      "needs_background": "light"
     },
     "output_type": "display_data"
    }
   ],
   "source": [
    "import matplotlib.pyplot as plt\n",
    "atoms = p_with_adsorbates.get_ase_atoms()\n",
    "D = atoms.get_all_distances()[146:]\n",
    "Di = np.array([row[146:] for row in D])\n",
    "\n",
    "for f in Di[0]:\n",
    "    plt.scatter(f, 1/f)\n",
    "plt.xlabel('distance')\n",
    "plt.ylabel('correction')"
   ]
  },
  {
   "cell_type": "code",
   "execution_count": 173,
   "metadata": {},
   "outputs": [
    {
     "data": {
      "text/plain": [
       "<subprocess.Popen at 0x7f381e328b20>"
      ]
     },
     "execution_count": 173,
     "metadata": {},
     "output_type": "execute_result"
    }
   ],
   "source": [
    "for atom in p_with_adsorbates.get_atom_indices_from_coordination_number([7]):\n",
    "    p.get_atoms(atom).symbol = 'Au'\n",
    "    \n",
    "view(p_with_adsorbates.get_ase_atoms())"
   ]
  },
  {
   "cell_type": "code",
   "execution_count": null,
   "metadata": {},
   "outputs": [],
   "source": [
    "from Core import MathModules as math\n",
    "positions = []\n",
    "for edge in p.get_atom_indices_from_coordination_number([7]):\n",
    "    positions = [p.get_position(edge)]\n",
    "    for neighbor in p.get_coordination_atoms(edge):\n",
    "        if p.get_coordination_number(neighbor) == 7:\n",
    "            positions.append(p.get_position(neighbor))\n",
    "            print(math.get_bridge_perpendicular_line(positions, p.atoms.atoms.get_center_of_mass())  )    \n",
    "            break\n",
    "    else:\n",
    "        print('no tiene')      "
   ]
  },
  {
   "cell_type": "code",
   "execution_count": null,
   "metadata": {},
   "outputs": [],
   "source": [
    "import itertools \n",
    "import numpy as np\n",
    "\n",
    "p = NP.Nanoparticle()\n",
    "p.truncated_octahedron(6,0,{'Ag':1})\n",
    "\n",
    "for atom in p.get_atom_indices_from_coordination_number(range(12)):\n",
    "    for surface in [[1,0,0], [-1,0,0], [0,1,0], [0,-1,0], [0,0,1], [0,0,1]]:\n",
    "        mi_vec = surface / np.linalg.norm(surface)\n",
    "        pos_vec = p.get_position(atom)/ np.linalg.norm(p.get_position(atom))\n",
    "        if np.dot(mi_vec, pos_vec) > 0.99:\n",
    "            p.get_atoms(atom).symbol = 'Au'\n",
    "view(p.get_ase_atoms())        "
   ]
  },
  {
   "cell_type": "code",
   "execution_count": null,
   "metadata": {},
   "outputs": [],
   "source": [
    "planes = [plane for plane in itertools.product([1,-1],3)]\n",
    "planes"
   ]
  },
  {
   "cell_type": "code",
   "execution_count": null,
   "metadata": {},
   "outputs": [],
   "source": [
    "import itertools\n",
    "\n",
    "planes = [plane for plane in itertools.combinations_with_replacement([1,-1],3) if plane != (0,0,0)]\n",
    "for f in itertools.combinations_with_replacement([-1,1],3):\n",
    "    if f not in planes:\n",
    "        planes.append(f)\n",
    "        \n",
    "planes"
   ]
  },
  {
   "cell_type": "code",
   "execution_count": null,
   "metadata": {},
   "outputs": [],
   "source": [
    "import copy\n",
    "\n",
    "def find_atom_plane_vec(particle, atom_idx):\n",
    "    normal_vector = 0\n",
    "    pos_vec = particle.get_position(atom_idx)/ np.linalg.norm(particle.get_position(atom_idx))\n",
    "    planes = [plane for plane in itertools.combinations_with_replacement([1,-1,0],3) if plane != (0,0,0)]\n",
    "    for plane in planes:\n",
    "        mi_vec = plane / np.linalg.norm(plane)\n",
    "        dot_prod = np.dot(mi_vec, pos_vec)\n",
    "        if dot_prod > normal_vector:\n",
    "            normal_vector = dot_prod\n",
    "            direction = copy.copy(mi_vec)\n",
    "    return direction\n",
    "        "
   ]
  },
  {
   "cell_type": "code",
   "execution_count": null,
   "metadata": {},
   "outputs": [],
   "source": [
    "for atom in p.get_atom_indices_from_coordination_number(range(12)):\n",
    "    print(find_atom_plane_vec(p, atom))"
   ]
  },
  {
   "cell_type": "code",
   "execution_count": null,
   "metadata": {},
   "outputs": [],
   "source": [
    "[0,0,0] / np.linalg.norm([0,0,0])"
   ]
  },
  {
   "cell_type": "code",
   "execution_count": null,
   "metadata": {},
   "outputs": [],
   "source": []
  }
 ],
 "metadata": {
  "kernelspec": {
   "display_name": "Python 3",
   "language": "python",
   "name": "python3"
  },
  "language_info": {
   "codemirror_mode": {
    "name": "ipython",
    "version": 3
   },
   "file_extension": ".py",
   "mimetype": "text/x-python",
   "name": "python",
   "nbconvert_exporter": "python",
   "pygments_lexer": "ipython3",
   "version": "3.8.5"
  }
 },
 "nbformat": 4,
 "nbformat_minor": 4
}
