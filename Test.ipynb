{
 "cells": [
  {
   "cell_type": "code",
   "execution_count": 1,
   "id": "70954c01-6376-4ecf-beba-27cc4896c6b1",
   "metadata": {},
   "outputs": [],
   "source": [
    "%load_ext autoreload"
   ]
  },
  {
   "cell_type": "code",
   "execution_count": 2,
   "id": "808455ad-3839-48db-bab7-4d660dd28da7",
   "metadata": {},
   "outputs": [],
   "source": [
    "%autoreload 2"
   ]
  },
  {
   "cell_type": "code",
   "execution_count": 3,
   "id": "a8a06d0e-6f17-48e9-a9b1-0ddd31a02374",
   "metadata": {},
   "outputs": [],
   "source": [
    "from ase.db import connect\n",
    "from Core import Nanoparticle as NP\n",
    "from Core import Adsorption as ADS\n",
    "from MCMC import MonteCarlo\n",
    "from Core import EnergyCalculator as EC\n",
    "from Core.LocalEnvironmentFeatureClassifier import TopologicalEnvironmentClassifier\n",
    "from Core.LocalEnvironmentCalculator import LocalEnvironmentCalculator\n",
    "import numpy as np\n",
    "\n",
    "db = connect('/home/g15farris/NiAu/NiAu_database.db')"
   ]
  },
  {
   "cell_type": "code",
   "execution_count": 4,
   "id": "fc36a665-8ac2-4b40-ad28-590d020647d1",
   "metadata": {},
   "outputs": [],
   "source": [
    "def get_TFC(top):\n",
    "    feature_vector = np.zeros(17)\n",
    "    i = 0\n",
    "    for f,n in zip([2, 10, 11, 13, 16],[0,24,24,44,48]):\n",
    "        feature_vector[f] = abs(n-top[i])\n",
    "        i += 1\n",
    "    return feature_vector"
   ]
  },
  {
   "cell_type": "code",
   "execution_count": 5,
   "id": "b8815d26-3827-494c-a89f-72c0fd572dd7",
   "metadata": {},
   "outputs": [
    {
     "ename": "OperationalError",
     "evalue": "unable to open database file",
     "output_type": "error",
     "traceback": [
      "\u001b[0;31m---------------------------------------------------------------------------\u001b[0m",
      "\u001b[0;31mOperationalError\u001b[0m                          Traceback (most recent call last)",
      "Input \u001b[0;32mIn [5]\u001b[0m, in \u001b[0;36m<module>\u001b[0;34m\u001b[0m\n\u001b[1;32m     10\u001b[0m         training_set\u001b[38;5;241m.\u001b[39mappend(p)\n\u001b[1;32m     11\u001b[0m     \u001b[38;5;28;01mreturn\u001b[39;00m training_set\n\u001b[0;32m---> 12\u001b[0m training_set \u001b[38;5;241m=\u001b[39m \u001b[43mget_training_set\u001b[49m\u001b[43m(\u001b[49m\u001b[43mdb\u001b[49m\u001b[43m)\u001b[49m\n",
      "Input \u001b[0;32mIn [5]\u001b[0m, in \u001b[0;36mget_training_set\u001b[0;34m(db)\u001b[0m\n\u001b[1;32m      2\u001b[0m \u001b[38;5;28;01mfrom\u001b[39;00m \u001b[38;5;21;01mCore\u001b[39;00m \u001b[38;5;28;01mimport\u001b[39;00m GlobalFeatureClassifier \u001b[38;5;28;01mas\u001b[39;00m GFC\n\u001b[1;32m      3\u001b[0m training_set \u001b[38;5;241m=\u001b[39m []\n\u001b[0;32m----> 4\u001b[0m \u001b[38;5;28;01mfor\u001b[39;00m row \u001b[38;5;129;01min\u001b[39;00m db\u001b[38;5;241m.\u001b[39mselect():\n\u001b[1;32m      5\u001b[0m     p \u001b[38;5;241m=\u001b[39m NP\u001b[38;5;241m.\u001b[39mNanoparticle()\n\u001b[1;32m      6\u001b[0m     p\u001b[38;5;241m.\u001b[39madd_atoms(row\u001b[38;5;241m.\u001b[39mtoatoms())\n",
      "File \u001b[0;32m~/anaconda3/lib/python3.9/site-packages/ase/parallel.py:275\u001b[0m, in \u001b[0;36mparallel_generator.<locals>.new_generator\u001b[0;34m(*args, **kwargs)\u001b[0m\n\u001b[1;32m    269\u001b[0m \u001b[38;5;129m@functools\u001b[39m\u001b[38;5;241m.\u001b[39mwraps(generator)\n\u001b[1;32m    270\u001b[0m \u001b[38;5;28;01mdef\u001b[39;00m \u001b[38;5;21mnew_generator\u001b[39m(\u001b[38;5;241m*\u001b[39margs, \u001b[38;5;241m*\u001b[39m\u001b[38;5;241m*\u001b[39mkwargs):\n\u001b[1;32m    271\u001b[0m     \u001b[38;5;28;01mif\u001b[39;00m (world\u001b[38;5;241m.\u001b[39msize \u001b[38;5;241m==\u001b[39m \u001b[38;5;241m1\u001b[39m \u001b[38;5;129;01mor\u001b[39;00m\n\u001b[1;32m    272\u001b[0m         args \u001b[38;5;129;01mand\u001b[39;00m \u001b[38;5;28mgetattr\u001b[39m(args[\u001b[38;5;241m0\u001b[39m], \u001b[38;5;124m'\u001b[39m\u001b[38;5;124mserial\u001b[39m\u001b[38;5;124m'\u001b[39m, \u001b[38;5;28;01mFalse\u001b[39;00m) \u001b[38;5;129;01mor\u001b[39;00m\n\u001b[1;32m    273\u001b[0m         \u001b[38;5;129;01mnot\u001b[39;00m kwargs\u001b[38;5;241m.\u001b[39mpop(\u001b[38;5;124m'\u001b[39m\u001b[38;5;124mparallel\u001b[39m\u001b[38;5;124m'\u001b[39m, \u001b[38;5;28;01mTrue\u001b[39;00m)):\n\u001b[1;32m    274\u001b[0m         \u001b[38;5;66;03m# Disable:\u001b[39;00m\n\u001b[0;32m--> 275\u001b[0m         \u001b[38;5;28;01mfor\u001b[39;00m result \u001b[38;5;129;01min\u001b[39;00m generator(\u001b[38;5;241m*\u001b[39margs, \u001b[38;5;241m*\u001b[39m\u001b[38;5;241m*\u001b[39mkwargs):\n\u001b[1;32m    276\u001b[0m             \u001b[38;5;28;01myield\u001b[39;00m result\n\u001b[1;32m    277\u001b[0m         \u001b[38;5;28;01mreturn\u001b[39;00m\n",
      "File \u001b[0;32m~/anaconda3/lib/python3.9/site-packages/ase/db/core.py:486\u001b[0m, in \u001b[0;36mDatabase.select\u001b[0;34m(self, selection, filter, explain, verbosity, limit, offset, sort, include_data, columns, **kwargs)\u001b[0m\n\u001b[1;32m    483\u001b[0m         sort \u001b[38;5;241m+\u001b[39m\u001b[38;5;241m=\u001b[39m \u001b[38;5;124m'\u001b[39m\u001b[38;5;124mname\u001b[39m\u001b[38;5;124m'\u001b[39m\n\u001b[1;32m    485\u001b[0m keys, cmps \u001b[38;5;241m=\u001b[39m parse_selection(selection, \u001b[38;5;241m*\u001b[39m\u001b[38;5;241m*\u001b[39mkwargs)\n\u001b[0;32m--> 486\u001b[0m \u001b[38;5;28;01mfor\u001b[39;00m row \u001b[38;5;129;01min\u001b[39;00m \u001b[38;5;28mself\u001b[39m\u001b[38;5;241m.\u001b[39m_select(keys, cmps, explain\u001b[38;5;241m=\u001b[39mexplain,\n\u001b[1;32m    487\u001b[0m                         verbosity\u001b[38;5;241m=\u001b[39mverbosity,\n\u001b[1;32m    488\u001b[0m                         limit\u001b[38;5;241m=\u001b[39mlimit, offset\u001b[38;5;241m=\u001b[39moffset, sort\u001b[38;5;241m=\u001b[39msort,\n\u001b[1;32m    489\u001b[0m                         include_data\u001b[38;5;241m=\u001b[39minclude_data,\n\u001b[1;32m    490\u001b[0m                         columns\u001b[38;5;241m=\u001b[39mcolumns):\n\u001b[1;32m    491\u001b[0m     \u001b[38;5;28;01mif\u001b[39;00m \u001b[38;5;28mfilter\u001b[39m \u001b[38;5;129;01mis\u001b[39;00m \u001b[38;5;28;01mNone\u001b[39;00m \u001b[38;5;129;01mor\u001b[39;00m \u001b[38;5;28mfilter\u001b[39m(row):\n\u001b[1;32m    492\u001b[0m         \u001b[38;5;28;01myield\u001b[39;00m row\n",
      "File \u001b[0;32m~/anaconda3/lib/python3.9/site-packages/ase/db/sqlite.py:688\u001b[0m, in \u001b[0;36mSQLite3Database._select\u001b[0;34m(self, keys, cmps, explain, verbosity, limit, offset, sort, include_data, columns)\u001b[0m\n\u001b[1;32m    685\u001b[0m \u001b[38;5;28;01mif\u001b[39;00m verbosity \u001b[38;5;241m==\u001b[39m \u001b[38;5;241m2\u001b[39m:\n\u001b[1;32m    686\u001b[0m     \u001b[38;5;28mprint\u001b[39m(sql, args)\n\u001b[0;32m--> 688\u001b[0m \u001b[38;5;28;01mwith\u001b[39;00m \u001b[38;5;28mself\u001b[39m\u001b[38;5;241m.\u001b[39mmanaged_connection() \u001b[38;5;28;01mas\u001b[39;00m con:\n\u001b[1;32m    689\u001b[0m     cur \u001b[38;5;241m=\u001b[39m con\u001b[38;5;241m.\u001b[39mcursor()\n\u001b[1;32m    690\u001b[0m     cur\u001b[38;5;241m.\u001b[39mexecute(sql, args)\n",
      "File \u001b[0;32m~/anaconda3/lib/python3.9/contextlib.py:119\u001b[0m, in \u001b[0;36m_GeneratorContextManager.__enter__\u001b[0;34m(self)\u001b[0m\n\u001b[1;32m    117\u001b[0m \u001b[38;5;28;01mdel\u001b[39;00m \u001b[38;5;28mself\u001b[39m\u001b[38;5;241m.\u001b[39margs, \u001b[38;5;28mself\u001b[39m\u001b[38;5;241m.\u001b[39mkwds, \u001b[38;5;28mself\u001b[39m\u001b[38;5;241m.\u001b[39mfunc\n\u001b[1;32m    118\u001b[0m \u001b[38;5;28;01mtry\u001b[39;00m:\n\u001b[0;32m--> 119\u001b[0m     \u001b[38;5;28;01mreturn\u001b[39;00m \u001b[38;5;28;43mnext\u001b[39;49m\u001b[43m(\u001b[49m\u001b[38;5;28;43mself\u001b[39;49m\u001b[38;5;241;43m.\u001b[39;49m\u001b[43mgen\u001b[49m\u001b[43m)\u001b[49m\n\u001b[1;32m    120\u001b[0m \u001b[38;5;28;01mexcept\u001b[39;00m \u001b[38;5;167;01mStopIteration\u001b[39;00m:\n\u001b[1;32m    121\u001b[0m     \u001b[38;5;28;01mraise\u001b[39;00m \u001b[38;5;167;01mRuntimeError\u001b[39;00m(\u001b[38;5;124m\"\u001b[39m\u001b[38;5;124mgenerator didn\u001b[39m\u001b[38;5;124m'\u001b[39m\u001b[38;5;124mt yield\u001b[39m\u001b[38;5;124m\"\u001b[39m) \u001b[38;5;28;01mfrom\u001b[39;00m \u001b[38;5;28mNone\u001b[39m\n",
      "File \u001b[0;32m~/anaconda3/lib/python3.9/site-packages/ase/db/sqlite.py:192\u001b[0m, in \u001b[0;36mSQLite3Database.managed_connection\u001b[0;34m(self, commit_frequency)\u001b[0m\n\u001b[1;32m    189\u001b[0m \u001b[38;5;129m@contextmanager\u001b[39m\n\u001b[1;32m    190\u001b[0m \u001b[38;5;28;01mdef\u001b[39;00m \u001b[38;5;21mmanaged_connection\u001b[39m(\u001b[38;5;28mself\u001b[39m, commit_frequency\u001b[38;5;241m=\u001b[39m\u001b[38;5;241m5000\u001b[39m):\n\u001b[1;32m    191\u001b[0m     \u001b[38;5;28;01mtry\u001b[39;00m:\n\u001b[0;32m--> 192\u001b[0m         con \u001b[38;5;241m=\u001b[39m \u001b[38;5;28mself\u001b[39m\u001b[38;5;241m.\u001b[39mconnection \u001b[38;5;129;01mor\u001b[39;00m \u001b[38;5;28;43mself\u001b[39;49m\u001b[38;5;241;43m.\u001b[39;49m\u001b[43m_connect\u001b[49m\u001b[43m(\u001b[49m\u001b[43m)\u001b[49m\n\u001b[1;32m    193\u001b[0m         \u001b[38;5;28mself\u001b[39m\u001b[38;5;241m.\u001b[39m_initialize(con)\n\u001b[1;32m    194\u001b[0m         \u001b[38;5;28;01myield\u001b[39;00m con\n",
      "File \u001b[0;32m~/anaconda3/lib/python3.9/site-packages/ase/db/sqlite.py:173\u001b[0m, in \u001b[0;36mSQLite3Database._connect\u001b[0;34m(self)\u001b[0m\n\u001b[1;32m    172\u001b[0m \u001b[38;5;28;01mdef\u001b[39;00m \u001b[38;5;21m_connect\u001b[39m(\u001b[38;5;28mself\u001b[39m):\n\u001b[0;32m--> 173\u001b[0m     \u001b[38;5;28;01mreturn\u001b[39;00m \u001b[43msqlite3\u001b[49m\u001b[38;5;241;43m.\u001b[39;49m\u001b[43mconnect\u001b[49m\u001b[43m(\u001b[49m\u001b[38;5;28;43mself\u001b[39;49m\u001b[38;5;241;43m.\u001b[39;49m\u001b[43mfilename\u001b[49m\u001b[43m,\u001b[49m\u001b[43m \u001b[49m\u001b[43mtimeout\u001b[49m\u001b[38;5;241;43m=\u001b[39;49m\u001b[38;5;241;43m20\u001b[39;49m\u001b[43m)\u001b[49m\n",
      "\u001b[0;31mOperationalError\u001b[0m: unable to open database file"
     ]
    }
   ],
   "source": [
    "def get_training_set(db):\n",
    "    from Core import GlobalFeatureClassifier as GFC\n",
    "    training_set = []\n",
    "    for row in db.select():\n",
    "        p = NP.Nanoparticle()\n",
    "        p.add_atoms(row.toatoms())\n",
    "        #GFC.TopologicalFeatureClassifier(p.get_all_symbols()).compute_feature_vector(p)\n",
    "        p.set_feature_vector('TFC', get_TFC(row.data.TOP))\n",
    "        p.set_energy('DFT', row.dft_energy)\n",
    "        training_set.append(p)\n",
    "    return training_set\n",
    "training_set = get_training_set(db)"
   ]
  },
  {
   "cell_type": "code",
   "execution_count": 41,
   "id": "ea56b0ae-3cef-46dc-9e41-91377b6a39cc",
   "metadata": {},
   "outputs": [
    {
     "name": "stdout",
     "output_type": "stream",
     "text": [
      "Coef symbol_a: Au\n"
     ]
    }
   ],
   "source": [
    "energy_calculator = EC.BayesianRRCalculator('TFC')\n",
    "energy_calculator.fit(training_set, 'DFT')\n",
    "coefficents, total_energies = EC.compute_coefficients_for_linear_topological_model(\n",
    "energy_calculator.get_coefficients(), ['Au', 'Ni'], 140)\n",
    "energy_calculator.set_coefficients(coefficents)\n",
    "energy_calculator.set_feature_key('TEC')"
   ]
  },
  {
   "cell_type": "code",
   "execution_count": 42,
   "id": "694b414b-172f-484e-a054-a1e3a9dc4d41",
   "metadata": {},
   "outputs": [
    {
     "name": "stderr",
     "output_type": "stream",
     "text": [
      "/home/g15farris/NanoParticleLibrary/MCMC/MonteCarlo.py:114: RuntimeWarning: overflow encountered in exp\n",
      "  acceptance_rate = min(1, np.exp(-beta * delta_e))\n"
     ]
    },
    {
     "name": "stdout",
     "output_type": "stream",
     "text": [
      "Step: 2000\n",
      "Lowest energy: -242.3930612296039\n"
     ]
    }
   ],
   "source": [
    "start_particle = NP.Nanoparticle()\n",
    "start_particle.truncated_octahedron(6,1,{'Au':84,'Ni':56})\n",
    "\n",
    "beta = 200\n",
    "max_steps = 1000\n",
    "\n",
    "adsorbate = None\n",
    "local_feature_classifier = TopologicalEnvironmentClassifier(LocalEnvironmentCalculator()\n",
    "                                                            , ['Au', 'Ni'])\n",
    "\n",
    "[best_particle, accepted_energies] = MonteCarlo.run_monte_carlo(\n",
    "                                            beta, max_steps, start_particle, energy_calculator,\n",
    "                                            local_feature_classifier, adsorbate\n",
    "                                                            )"
   ]
  },
  {
   "cell_type": "code",
   "execution_count": 43,
   "id": "fb1bef7e-e7c2-480f-914a-546056d812ec",
   "metadata": {},
   "outputs": [],
   "source": [
    "Au = 0\n",
    "Ni = 0\n",
    "Au2 = -0.28120172 \n",
    "Au2Ni = -1.00039431 \n",
    "Au3 = -0.35726243\n",
    "AuNi = -1.01410455\n",
    "AuNi2 = -2.08995281\n",
    "Ni2 = -2.23349599\n",
    "Ni3 = -2.40469383"
   ]
  },
  {
   "cell_type": "code",
   "execution_count": 67,
   "id": "c77d98d0-3008-46e8-bbc9-280692fba7d9",
   "metadata": {},
   "outputs": [
    {
     "name": "stdout",
     "output_type": "stream",
     "text": [
      "Step: 2000\n",
      "Lowest energy: -48.093876599999994\n",
      "Step: 4000\n",
      "Lowest energy: -48.093876599999994\n",
      "Step: 6000\n",
      "Lowest energy: -48.093876599999994\n"
     ]
    }
   ],
   "source": [
    "from MCMC import MonteCarlo as MC\n",
    "from Core.Nanoparticle import Nanoparticle\n",
    "from Core.GlobalFeatureClassifier import AdsorptionFeatureVector\n",
    "from Core.EnergyCalculator import BayesianRRCalculator\n",
    "\n",
    "best_p = Nanoparticle()\n",
    "best_p.build_from_dictionary(best_particle)\n",
    "best_p.construct_neighbor_list()\n",
    "best_p.construct_adsorption_list()\n",
    "\n",
    "\n",
    "beta = 200\n",
    "max_steps = 5000\n",
    "energy_calculator = BayesianRRCalculator('ADS')\n",
    "sergey_coefficients = [Au, Ni, Au2, AuNi, Ni2, Au3, Au2Ni, AuNi2, Ni3]\n",
    "energy_calculator.set_coefficients(sergey_coefficients)\n",
    "n_adsorbates = 20\n",
    "\n",
    "[best_particle, accepted_energies] = MC.run_monte_carlo_for_adsorbates(beta, max_steps, best_p, energy_calculator, n_adsorbates)"
   ]
  },
  {
   "cell_type": "code",
   "execution_count": 70,
   "id": "04614280-b544-4916-b4a8-ba09958b49ff",
   "metadata": {},
   "outputs": [
    {
     "data": {
      "application/vnd.jupyter.widget-view+json": {
       "model_id": "7c689af31a50423bbedd7ee9160235e7",
       "version_major": 2,
       "version_minor": 0
      },
      "text/plain": [
       "HBox(children=(NGLWidget(), VBox(children=(Dropdown(description='Show', options=('All', 'Ni', 'O', 'Au'), valu…"
      ]
     },
     "metadata": {},
     "output_type": "display_data"
    }
   ],
   "source": [
    "from ase.visualize import view\n",
    "from Core.Adsorption import PlaceAddAtoms\n",
    "\n",
    "#best_p = Nanoparticle()\n",
    "#best_p.build_from_dictionary(best_particle)\n",
    "#best_p.construct_neighbor_list()\n",
    "#best_p.construct_adsorption_list()\n",
    "ads = PlaceAddAtoms(best_p.get_all_symbols())\n",
    "ads.bind_particle(best_p)\n",
    "for f in best_particle['ads']:\n",
    "    site = list(best_p.get_site_atom_indices(f))\n",
    "    ads.place_add_atom(best_p, 'O', [site])\n",
    "\n",
    "\n",
    "view(best_p.get_ase_atoms(), viewer='ngl')"
   ]
  },
  {
   "cell_type": "code",
   "execution_count": 66,
   "id": "84290582-71d3-4c15-b00c-d48cba08578d",
   "metadata": {},
   "outputs": [
    {
     "data": {
      "text/plain": [
       "array([0, 0, 0, 0, 0, 0, 0, 0, 0])"
      ]
     },
     "execution_count": 66,
     "metadata": {},
     "output_type": "execute_result"
    }
   ],
   "source": [
    "best_p = Nanoparticle()\n",
    "best_p.build_from_dictionary(best_particle)\n",
    "best_p.construct_neighbor_list()\n",
    "best_p.construct_adsorption_list()\n",
    "AdsorptionFeatureVector(best_p.get_all_symbols()).compute_feature_vector(best_p)\n",
    "best_p.get_feature_vector('ADS')"
   ]
  },
  {
   "cell_type": "code",
   "execution_count": 64,
   "id": "fbbd2d96-3b96-47aa-b893-1c2ab1df620d",
   "metadata": {},
   "outputs": [
    {
     "data": {
      "text/plain": [
       "defaultdict(<function Core.GlobalFeatureClassifier.AdsorptionFeatureVector.__init__.<locals>.<lambda>()>,\n",
       "            {('Au',): 0,\n",
       "             ('Ni',): 1,\n",
       "             ('O',): 2,\n",
       "             ('Au', 'Au'): 3,\n",
       "             ('Au', 'Ni'): 4,\n",
       "             ('Au', 'O'): 5,\n",
       "             ('Ni', 'Ni'): 6,\n",
       "             ('Ni', 'O'): 7,\n",
       "             ('O', 'O'): 8,\n",
       "             ('Au', 'Au', 'Au'): 9,\n",
       "             ('Au', 'Au', 'Ni'): 10,\n",
       "             ('Au', 'Au', 'O'): 11,\n",
       "             ('Au', 'Ni', 'Ni'): 12,\n",
       "             ('Au', 'Ni', 'O'): 13,\n",
       "             ('Au', 'O', 'O'): 14,\n",
       "             ('Ni', 'Ni', 'Ni'): 15,\n",
       "             ('Ni', 'Ni', 'O'): 16,\n",
       "             ('Ni', 'O', 'O'): 17,\n",
       "             ('O', 'O', 'O'): 18})"
      ]
     },
     "execution_count": 64,
     "metadata": {},
     "output_type": "execute_result"
    }
   ],
   "source": [
    "AdsorptionFeatureVector(best_p.get_all_symbols()).features_type"
   ]
  },
  {
   "cell_type": "code",
   "execution_count": null,
   "id": "a1b5769a-fd31-4ff6-a81a-f2923a0667aa",
   "metadata": {},
   "outputs": [],
   "source": []
  }
 ],
 "metadata": {
  "kernelspec": {
   "display_name": "Python 3 (ipykernel)",
   "language": "python",
   "name": "python3"
  },
  "language_info": {
   "codemirror_mode": {
    "name": "ipython",
    "version": 3
   },
   "file_extension": ".py",
   "mimetype": "text/x-python",
   "name": "python",
   "nbconvert_exporter": "python",
   "pygments_lexer": "ipython3",
   "version": "3.9.7"
  }
 },
 "nbformat": 4,
 "nbformat_minor": 5
}
