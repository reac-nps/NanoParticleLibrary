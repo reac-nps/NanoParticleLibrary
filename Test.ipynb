{
 "cells": [
  {
   "cell_type": "code",
   "execution_count": 1,
   "metadata": {},
   "outputs": [],
   "source": [
    "%load_ext autoreload"
   ]
  },
  {
   "cell_type": "code",
   "execution_count": 2,
   "metadata": {},
   "outputs": [],
   "source": [
    "%autoreload 2"
   ]
  },
  {
   "cell_type": "code",
   "execution_count": 3,
   "metadata": {},
   "outputs": [],
   "source": [
    "from ase.db import connect\n",
    "from Core import Nanoparticle as NP\n",
    "from Core import Adsorption as ADS\n",
    "from MCMC import MonteCarlo\n",
    "from Core import EnergyCalculator as EC\n",
    "from Core.LocalEnvironmentFeatureClassifier import TopologicalEnvironmentClassifier\n",
    "from Core.LocalEnvironmentCalculator import LocalEnvironmentCalculator\n",
    "import numpy as np\n",
    "\n",
    "db = connect('/home/riccardo/Stuff_toPass/NiAu_database.db')"
   ]
  },
  {
   "cell_type": "code",
   "execution_count": 4,
   "metadata": {},
   "outputs": [],
   "source": [
    "def get_TFC(top):\n",
    "    feature_vector = np.zeros(17)\n",
    "    i = 0\n",
    "    for f,n in zip([2, 10, 11, 13, 16],[0,24,24,44,48]):\n",
    "        feature_vector[f] = abs(n-top[i])\n",
    "        i += 1\n",
    "    return feature_vector"
   ]
  },
  {
   "cell_type": "code",
   "execution_count": 5,
   "metadata": {},
   "outputs": [],
   "source": [
    "def get_training_set(db):\n",
    "    from Core import GlobalFeatureClassifier as GFC\n",
    "    training_set = []\n",
    "    for row in db.select():\n",
    "        p = NP.Nanoparticle()\n",
    "        p.add_atoms(row.toatoms())\n",
    "        #GFC.TopologicalFeatureClassifier(p.get_all_symbols()).compute_feature_vector(p)\n",
    "        p.set_feature_vector('TFC', get_TFC(row.data.TOP))\n",
    "        p.set_energy('DFT', row.dft_energy)\n",
    "        training_set.append(p)\n",
    "    return training_set\n",
    "training_set = get_training_set(db)"
   ]
  },
  {
   "cell_type": "code",
   "execution_count": 29,
   "metadata": {},
   "outputs": [
    {
     "name": "stdout",
     "output_type": "stream",
     "text": [
      "Coef symbol_a: Au\n"
     ]
    }
   ],
   "source": [
    "ordering_energy_calculator = EC.BayesianRRCalculator('TFC')\n",
    "ordering_energy_calculator.fit(training_set, 'DFT')\n",
    "coefficents, total_energies = EC.compute_coefficients_for_linear_topological_model(\n",
    "ordering_energy_calculator.get_coefficients(), ['Au', 'Ni'], 140)\n",
    "ordering_energy_calculator.set_coefficients(coefficents)\n",
    "ordering_energy_calculator.set_feature_key('TEC')"
   ]
  },
  {
   "cell_type": "code",
   "execution_count": 37,
   "metadata": {},
   "outputs": [],
   "source": [
    "ordering_energy_calculator.energy_key = 'BRRR'"
   ]
  },
  {
   "cell_type": "code",
   "execution_count": 102,
   "metadata": {},
   "outputs": [],
   "source": [
    "Au = 0\n",
    "Ni = 0\n",
    "Au2 = -0.28120172 \n",
    "Au2Ni = -1.00039431 \n",
    "Au3 = -0.35726243\n",
    "AuNi = -1.01410455\n",
    "AuNi2 = -2.08995281\n",
    "Ni2 = -2.23349599\n",
    "Ni3 = -2.40469383"
   ]
  },
  {
   "cell_type": "code",
   "execution_count": 146,
   "metadata": {},
   "outputs": [
    {
     "name": "stdout",
     "output_type": "stream",
     "text": [
      "Step: 2000\n",
      "Lowest energy: -4408.4283107507135\n",
      "Step: 4000\n",
      "Lowest energy: -4545.034102663515\n",
      "Step: 6000\n",
      "Lowest energy: -4609.742431180585\n",
      "Step: 8000\n",
      "Lowest energy: -4610.961822620585\n"
     ]
    }
   ],
   "source": [
    "from MCMC.MonteCarlo import run_monte_carlo_ordering_adsorbates\n",
    "\n",
    "start_particle = NP.Nanoparticle()\n",
    "start_particle.truncated_octahedron(6,1,{'Au':84,'Ni':56})\n",
    "\n",
    "beta = 200\n",
    "max_steps = 2000\n",
    "\n",
    "#ordering_energy_calculator = EC.BayesianRRCalculator('TEC')\n",
    "#ordering_energy_calculator.set_coefficients(coefficents)\n",
    "adsorbates_energy_calculator = EC.BayesianRRCalculator('ADS')\n",
    "sergey_coefficients = [Au, Ni, Au2, AuNi, Ni2, Au3, Au2Ni, AuNi2, Ni3]\n",
    "adsorbates_energy_calculator.set_coefficients(sergey_coefficients)\n",
    "n_adsorbates = 500\n",
    "local_feature_classifier = TopologicalEnvironmentClassifier(LocalEnvironmentCalculator(), ['Au', 'Ni'])\n",
    "\n",
    "[best_particle, accepted_energies] = run_monte_carlo_ordering_adsorbates(beta, max_steps, start_particle, ordering_energy_calculator, adsorbates_energy_calculator, n_adsorbates, local_feature_classifier)"
   ]
  },
  {
   "cell_type": "code",
   "execution_count": 149,
   "metadata": {},
   "outputs": [
    {
     "name": "stdout",
     "output_type": "stream",
     "text": [
      "132\n",
      "137\n",
      "170\n",
      "182\n",
      "197\n",
      "218\n",
      "226\n",
      "227\n"
     ]
    },
    {
     "name": "stderr",
     "output_type": "stream",
     "text": [
      "/home/riccardo/Projects/NanoParticleLibrary/Core/Adsorption.py:193: RuntimeWarning: invalid value encountered in double_scalars\n",
      "  direction = dot_prod/abs(dot_prod)\n"
     ]
    },
    {
     "name": "stdout",
     "output_type": "stream",
     "text": [
      "229\n",
      "235\n",
      "269\n",
      "289\n",
      "297\n",
      "300\n",
      "313\n",
      "332\n",
      "337\n",
      "344\n",
      "346\n",
      "349\n",
      "352\n",
      "356\n",
      "358\n",
      "360\n",
      "363\n",
      "369\n"
     ]
    },
    {
     "data": {
      "text/plain": [
       "<Popen: returncode: None args: ['/home/riccardo/anaconda3/bin/python3.9', '-...>"
      ]
     },
     "execution_count": 149,
     "metadata": {},
     "output_type": "execute_result"
    }
   ],
   "source": [
    "from ase.visualize import view\n",
    "from Core.Adsorption import PlaceAddAtoms\n",
    "\n",
    "best_p = NP.Nanoparticle()\n",
    "best_p.build_from_dictionary(best_particle)\n",
    "best_p.construct_neighbor_list()\n",
    "best_p.construct_adsorption_list()\n",
    "ads = PlaceAddAtoms(best_p.get_all_symbols())\n",
    "ads.bind_particle(best_p)\n",
    "for f in best_particle['ads']:\n",
    "    try:\n",
    "        site = list(best_p.get_site_atom_indices(f))\n",
    "        ads.place_add_atom(best_p, 'O', [site])\n",
    "    except:\n",
    "        print(f)\n",
    "\n",
    "\n",
    "view(best_p.get_ase_atoms())"
   ]
  },
  {
   "cell_type": "code",
   "execution_count": 152,
   "metadata": {},
   "outputs": [],
   "source": [
    "best_p.write('porcodio.xyz')"
   ]
  },
  {
   "cell_type": "code",
   "execution_count": null,
   "metadata": {},
   "outputs": [],
   "source": [
    "start_particle = NP.Nanoparticle()\n",
    "start_particle.truncated_octahedron(6,1,{'Au':84,'Ni':56})\n",
    "\n",
    "beta = 200\n",
    "max_steps = 1000\n",
    "\n",
    "adsorbate = None\n",
    "local_feature_classifier = TopologicalEnvironmentClassifier(LocalEnvironmentCalculator()\n",
    "                                                            , ['Au', 'Ni'])\n",
    "\n",
    "[best_particle, accepted_energies] = MonteCarlo.run_monte_carlo(\n",
    "                                            beta, max_steps, start_particle, energy_calculator,\n",
    "                                            local_feature_classifier, adsorbate\n",
    "                                                            )"
   ]
  },
  {
   "cell_type": "code",
   "execution_count": 76,
   "metadata": {},
   "outputs": [
    {
     "data": {
      "text/plain": [
       "1"
      ]
     },
     "execution_count": 76,
     "metadata": {},
     "output_type": "execute_result"
    }
   ],
   "source": [
    "np.random.randint(2)"
   ]
  },
  {
   "cell_type": "code",
   "execution_count": 74,
   "metadata": {},
   "outputs": [],
   "source": [
    "best_p.swap_symbols(list(np.random.choice(range(10),0)))"
   ]
  },
  {
   "cell_type": "code",
   "execution_count": 61,
   "metadata": {},
   "outputs": [
    {
     "name": "stdout",
     "output_type": "stream",
     "text": [
      "Step: 2000\n",
      "Lowest energy: -47.92267876\n",
      "Step: 4000\n",
      "Lowest energy: -48.093876599999994\n",
      "Step: 6000\n",
      "Lowest energy: -48.093876599999994\n"
     ]
    }
   ],
   "source": [
    "from MCMC import MonteCarlo as MC\n",
    "from Core.Nanoparticle import Nanoparticle\n",
    "from Core.GlobalFeatureClassifier import AdsorptionFeatureVector\n",
    "from Core.EnergyCalculator import BayesianRRCalculator\n",
    "\n",
    "best_p = Nanoparticle()\n",
    "best_p.build_from_dictionary(best_particle)\n",
    "best_p.construct_neighbor_list()\n",
    "best_p.construct_adsorption_list()\n",
    "\n",
    "\n",
    "beta = 200\n",
    "max_steps = 5000\n",
    "energy_calculator = BayesianRRCalculator('ADS')\n",
    "sergey_coefficients = [Au, Ni, Au2, AuNi, Ni2, Au3, Au2Ni, AuNi2, Ni3]\n",
    "energy_calculator.set_coefficients(sergey_coefficients)\n",
    "n_adsorbates = 20\n",
    "\n",
    "[best_particle, accepted_energies] = MC.run_monte_carlo_for_adsorbates(beta, max_steps, best_p, energy_calculator, n_adsorbates)"
   ]
  },
  {
   "cell_type": "code",
   "execution_count": 63,
   "metadata": {},
   "outputs": [
    {
     "data": {
      "text/plain": [
       "<Popen: returncode: None args: ['/home/riccardo/anaconda3/bin/python3.9', '-...>"
      ]
     },
     "execution_count": 63,
     "metadata": {},
     "output_type": "execute_result"
    }
   ],
   "source": [
    "from ase.visualize import view\n",
    "from Core.Adsorption import PlaceAddAtoms\n",
    "\n",
    "best_p = Nanoparticle()\n",
    "best_p.build_from_dictionary(best_particle)\n",
    "best_p.construct_neighbor_list()\n",
    "best_p.construct_adsorption_list()\n",
    "ads = PlaceAddAtoms(best_p.get_all_symbols())\n",
    "ads.bind_particle(best_p)\n",
    "for f in best_particle['ads']:\n",
    "    site = list(best_p.get_site_atom_indices(f))\n",
    "    ads.place_add_atom(best_p, 'O', [site])\n",
    "\n",
    "\n",
    "view(best_p.get_ase_atoms())"
   ]
  },
  {
   "cell_type": "code",
   "execution_count": null,
   "metadata": {},
   "outputs": [],
   "source": [
    "best_p = Nanoparticle()\n",
    "best_p.build_from_dictionary(best_particle)\n",
    "best_p.construct_neighbor_list()\n",
    "best_p.construct_adsorption_list()\n",
    "AdsorptionFeatureVector(best_p.get_all_symbols()).compute_feature_vector(best_p)\n",
    "best_p.get_feature_vector('ADS')"
   ]
  },
  {
   "cell_type": "code",
   "execution_count": null,
   "metadata": {},
   "outputs": [],
   "source": [
    "AdsorptionFeatureVector(best_p.get_all_symbols()).features_type"
   ]
  },
  {
   "cell_type": "code",
   "execution_count": 115,
   "metadata": {},
   "outputs": [
    {
     "data": {
      "text/plain": [
       "([(41, 58)], [])"
      ]
     },
     "execution_count": 115,
     "metadata": {},
     "output_type": "execute_result"
    }
   ],
   "source": [
    "from MCMC.RandomExchangeOperator import RandomExchangeOperator\n",
    "\n",
    "exchange_operator = RandomExchangeOperator(0.5)\n",
    "exchange_operator.bind_adsorbates(best_p,5)\n"
   ]
  },
  {
   "cell_type": "code",
   "execution_count": 131,
   "metadata": {},
   "outputs": [
    {
     "data": {
      "text/plain": [
       "([], [(541, 485)])"
      ]
     },
     "execution_count": 131,
     "metadata": {},
     "output_type": "execute_result"
    }
   ],
   "source": [
    "exchange_operator.coupled_random_exchange(best_p)"
   ]
  },
  {
   "cell_type": "code",
   "execution_count": 132,
   "metadata": {},
   "outputs": [
    {
     "data": {
      "text/plain": [
       "array([142, 199, 286, 393, 541])"
      ]
     },
     "execution_count": 132,
     "metadata": {},
     "output_type": "execute_result"
    }
   ],
   "source": [
    "best_p.get_indices_of_adsorbates()"
   ]
  },
  {
   "cell_type": "code",
   "execution_count": 133,
   "metadata": {},
   "outputs": [
    {
     "data": {
      "text/plain": [
       "array([142, 199, 286, 393, 541])"
      ]
     },
     "execution_count": 133,
     "metadata": {},
     "output_type": "execute_result"
    }
   ],
   "source": [
    "best_p.get_indices_of_adsorbates()"
   ]
  },
  {
   "cell_type": "code",
   "execution_count": null,
   "metadata": {},
   "outputs": [],
   "source": []
  }
 ],
 "metadata": {
  "kernelspec": {
   "display_name": "Python 3",
   "language": "python",
   "name": "python3"
  },
  "language_info": {
   "codemirror_mode": {
    "name": "ipython",
    "version": 3
   },
   "file_extension": ".py",
   "mimetype": "text/x-python",
   "name": "python",
   "nbconvert_exporter": "python",
   "pygments_lexer": "ipython3",
   "version": "3.8.5"
  }
 },
 "nbformat": 4,
 "nbformat_minor": 5
}
