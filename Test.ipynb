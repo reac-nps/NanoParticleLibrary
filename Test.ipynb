{
 "cells": [
  {
   "cell_type": "code",
   "execution_count": 36,
   "id": "70954c01-6376-4ecf-beba-27cc4896c6b1",
   "metadata": {},
   "outputs": [
    {
     "name": "stdout",
     "output_type": "stream",
     "text": [
      "The autoreload extension is already loaded. To reload it, use:\n",
      "  %reload_ext autoreload\n"
     ]
    }
   ],
   "source": [
    "%load_ext autoreload"
   ]
  },
  {
   "cell_type": "code",
   "execution_count": 37,
   "id": "808455ad-3839-48db-bab7-4d660dd28da7",
   "metadata": {},
   "outputs": [],
   "source": [
    "%autoreload 2"
   ]
  },
  {
   "cell_type": "code",
   "execution_count": 38,
   "id": "a8a06d0e-6f17-48e9-a9b1-0ddd31a02374",
   "metadata": {},
   "outputs": [],
   "source": [
    "from ase.db import connect\n",
    "from Core import Nanoparticle as NP\n",
    "from Core import Adsorption as ADS\n",
    "from MCMC import MonteCarlo\n",
    "from Core import EnergyCalculator as EC\n",
    "from Core.LocalEnvironmentFeatureClassifier import TopologicalEnvironmentClassifier\n",
    "from Core.LocalEnvironmentCalculator import LocalEnvironmentCalculator\n",
    "import numpy as np\n",
    "\n",
    "db = connect('/home/g15farris/NiAu/NiAu_database.db')"
   ]
  },
  {
   "cell_type": "code",
   "execution_count": 39,
   "id": "fc36a665-8ac2-4b40-ad28-590d020647d1",
   "metadata": {},
   "outputs": [],
   "source": [
    "def get_TFC(top):\n",
    "    feature_vector = np.zeros(17)\n",
    "    i = 0\n",
    "    for f,n in zip([2, 10, 11, 13, 16],[0,24,24,44,48]):\n",
    "        feature_vector[f] = abs(n-top[i])\n",
    "        i += 1\n",
    "    return feature_vector"
   ]
  },
  {
   "cell_type": "code",
   "execution_count": 40,
   "id": "b8815d26-3827-494c-a89f-72c0fd572dd7",
   "metadata": {},
   "outputs": [],
   "source": [
    "def get_training_set(db):\n",
    "    from Core import GlobalFeatureClassifier as GFC\n",
    "    training_set = []\n",
    "    for row in db.select():\n",
    "        p = NP.Nanoparticle()\n",
    "        p.add_atoms(row.toatoms())\n",
    "        #GFC.TopologicalFeatureClassifier(p.get_all_symbols()).compute_feature_vector(p)\n",
    "        p.set_feature_vector('TFC', get_TFC(row.data.TOP))\n",
    "        p.set_energy('DFT', row.dft_energy)\n",
    "        training_set.append(p)\n",
    "    return training_set\n",
    "training_set = get_training_set(db)"
   ]
  },
  {
   "cell_type": "code",
   "execution_count": 41,
   "id": "ea56b0ae-3cef-46dc-9e41-91377b6a39cc",
   "metadata": {},
   "outputs": [
    {
     "name": "stdout",
     "output_type": "stream",
     "text": [
      "Coef symbol_a: Au\n"
     ]
    }
   ],
   "source": [
    "energy_calculator = EC.BayesianRRCalculator('TFC')\n",
    "energy_calculator.fit(training_set, 'DFT')\n",
    "coefficents, total_energies = EC.compute_coefficients_for_linear_topological_model(\n",
    "energy_calculator.get_coefficients(), ['Au', 'Ni'], 140)\n",
    "energy_calculator.set_coefficients(coefficents)\n",
    "energy_calculator.set_feature_key('TEC')"
   ]
  },
  {
   "cell_type": "code",
   "execution_count": 42,
   "id": "694b414b-172f-484e-a054-a1e3a9dc4d41",
   "metadata": {},
   "outputs": [
    {
     "name": "stderr",
     "output_type": "stream",
     "text": [
      "/home/g15farris/NanoParticleLibrary/MCMC/MonteCarlo.py:114: RuntimeWarning: overflow encountered in exp\n",
      "  acceptance_rate = min(1, np.exp(-beta * delta_e))\n"
     ]
    },
    {
     "name": "stdout",
     "output_type": "stream",
     "text": [
      "Step: 2000\n",
      "Lowest energy: -242.3930612296039\n"
     ]
    }
   ],
   "source": [
    "start_particle = NP.Nanoparticle()\n",
    "start_particle.truncated_octahedron(6,1,{'Au':84,'Ni':56})\n",
    "\n",
    "beta = 200\n",
    "max_steps = 1000\n",
    "\n",
    "adsorbate = None\n",
    "local_feature_classifier = TopologicalEnvironmentClassifier(LocalEnvironmentCalculator()\n",
    "                                                            , ['Au', 'Ni'])\n",
    "\n",
    "[best_particle, accepted_energies] = MonteCarlo.run_monte_carlo(\n",
    "                                            beta, max_steps, start_particle, energy_calculator,\n",
    "                                            local_feature_classifier, adsorbate\n",
    "                                                            )"
   ]
  },
  {
   "cell_type": "code",
   "execution_count": 43,
   "id": "fb1bef7e-e7c2-480f-914a-546056d812ec",
   "metadata": {},
   "outputs": [],
   "source": [
    "Au = 0\n",
    "Ni = 0\n",
    "Au2 = -0.28120172 \n",
    "Au2Ni = -1.00039431 \n",
    "Au3 = -0.35726243\n",
    "AuNi = -1.01410455\n",
    "AuNi2 = -2.08995281\n",
    "Ni2 = -2.23349599\n",
    "Ni3 = -2.40469383"
   ]
  },
  {
   "cell_type": "code",
   "execution_count": 67,
   "id": "c77d98d0-3008-46e8-bbc9-280692fba7d9",
   "metadata": {},
   "outputs": [
    {
     "name": "stdout",
     "output_type": "stream",
     "text": [
      "Step: 2000\n",
      "Lowest energy: -48.093876599999994\n",
      "Step: 4000\n",
      "Lowest energy: -48.093876599999994\n",
      "Step: 6000\n",
      "Lowest energy: -48.093876599999994\n"
     ]
    }
   ],
   "source": [
    "from MCMC import MonteCarlo as MC\n",
    "from Core.Nanoparticle import Nanoparticle\n",
    "from Core.GlobalFeatureClassifier import AdsorptionFeatureVector\n",
    "from Core.EnergyCalculator import BayesianRRCalculator\n",
    "\n",
    "best_p = Nanoparticle()\n",
    "best_p.build_from_dictionary(best_particle)\n",
    "best_p.construct_neighbor_list()\n",
    "best_p.construct_adsorption_list()\n",
    "\n",
    "\n",
    "beta = 200\n",
    "max_steps = 5000\n",
    "energy_calculator = BayesianRRCalculator('ADS')\n",
    "sergey_coefficients = [Au, Ni, Au2, AuNi, Ni2, Au3, Au2Ni, AuNi2, Ni3]\n",
    "energy_calculator.set_coefficients(sergey_coefficients)\n",
    "n_adsorbates = 20\n",
    "\n",
    "[best_particle, accepted_energies] = MC.run_monte_carlo_for_adsorbates(beta, max_steps, best_p, energy_calculator, n_adsorbates)"
   ]
  },
  {
   "cell_type": "code",
   "execution_count": 70,
   "id": "04614280-b544-4916-b4a8-ba09958b49ff",
   "metadata": {},
   "outputs": [
    {
     "data": {
      "application/vnd.jupyter.widget-view+json": {
       "model_id": "7c689af31a50423bbedd7ee9160235e7",
       "version_major": 2,
       "version_minor": 0
      },
      "text/plain": [
       "HBox(children=(NGLWidget(), VBox(children=(Dropdown(description='Show', options=('All', 'Ni', 'O', 'Au'), valu…"
      ]
     },
     "metadata": {},
     "output_type": "display_data"
    }
   ],
   "source": [
    "from ase.visualize import view\n",
    "from Core.Adsorption import PlaceAddAtoms\n",
    "\n",
    "#best_p = Nanoparticle()\n",
    "#best_p.build_from_dictionary(best_particle)\n",
    "#best_p.construct_neighbor_list()\n",
    "#best_p.construct_adsorption_list()\n",
    "ads = PlaceAddAtoms(best_p.get_all_symbols())\n",
    "ads.bind_particle(best_p)\n",
    "for f in best_particle['ads']:\n",
    "    site = list(best_p.get_site_atom_indices(f))\n",
    "    ads.place_add_atom(best_p, 'O', [site])\n",
    "\n",
    "\n",
    "view(best_p.get_ase_atoms(), viewer='ngl')"
   ]
  },
  {
   "cell_type": "code",
   "execution_count": 66,
   "id": "84290582-71d3-4c15-b00c-d48cba08578d",
   "metadata": {},
   "outputs": [
    {
     "data": {
      "text/plain": [
       "array([0, 0, 0, 0, 0, 0, 0, 0, 0])"
      ]
     },
     "execution_count": 66,
     "metadata": {},
     "output_type": "execute_result"
    }
   ],
   "source": [
    "best_p = Nanoparticle()\n",
    "best_p.build_from_dictionary(best_particle)\n",
    "best_p.construct_neighbor_list()\n",
    "best_p.construct_adsorption_list()\n",
    "AdsorptionFeatureVector(best_p.get_all_symbols()).compute_feature_vector(best_p)\n",
    "best_p.get_feature_vector('ADS')"
   ]
  },
  {
   "cell_type": "code",
   "execution_count": 64,
   "id": "fbbd2d96-3b96-47aa-b893-1c2ab1df620d",
   "metadata": {},
   "outputs": [
    {
     "data": {
      "text/plain": [
       "defaultdict(<function Core.GlobalFeatureClassifier.AdsorptionFeatureVector.__init__.<locals>.<lambda>()>,\n",
       "            {('Au',): 0,\n",
       "             ('Ni',): 1,\n",
       "             ('O',): 2,\n",
       "             ('Au', 'Au'): 3,\n",
       "             ('Au', 'Ni'): 4,\n",
       "             ('Au', 'O'): 5,\n",
       "             ('Ni', 'Ni'): 6,\n",
       "             ('Ni', 'O'): 7,\n",
       "             ('O', 'O'): 8,\n",
       "             ('Au', 'Au', 'Au'): 9,\n",
       "             ('Au', 'Au', 'Ni'): 10,\n",
       "             ('Au', 'Au', 'O'): 11,\n",
       "             ('Au', 'Ni', 'Ni'): 12,\n",
       "             ('Au', 'Ni', 'O'): 13,\n",
       "             ('Au', 'O', 'O'): 14,\n",
       "             ('Ni', 'Ni', 'Ni'): 15,\n",
       "             ('Ni', 'Ni', 'O'): 16,\n",
       "             ('Ni', 'O', 'O'): 17,\n",
       "             ('O', 'O', 'O'): 18})"
      ]
     },
     "execution_count": 64,
     "metadata": {},
     "output_type": "execute_result"
    }
   ],
   "source": [
    "AdsorptionFeatureVector(best_p.get_all_symbols()).features_type"
   ]
  },
  {
   "cell_type": "code",
   "execution_count": null,
   "id": "a1b5769a-fd31-4ff6-a81a-f2923a0667aa",
   "metadata": {},
   "outputs": [],
   "source": []
  }
 ],
 "metadata": {
  "kernelspec": {
   "display_name": "Python 3",
   "language": "python",
   "name": "python3"
  },
  "language_info": {
   "codemirror_mode": {
    "name": "ipython",
    "version": 3
   },
   "file_extension": ".py",
   "mimetype": "text/x-python",
   "name": "python",
   "nbconvert_exporter": "python",
   "pygments_lexer": "ipython3",
   "version": "3.9.1"
  }
 },
 "nbformat": 4,
 "nbformat_minor": 5
}
