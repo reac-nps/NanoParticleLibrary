{
 "cells": [
  {
   "cell_type": "code",
   "execution_count": 15,
   "id": "70954c01-6376-4ecf-beba-27cc4896c6b1",
   "metadata": {},
   "outputs": [
    {
     "name": "stdout",
     "output_type": "stream",
     "text": [
      "The autoreload extension is already loaded. To reload it, use:\n",
      "  %reload_ext autoreload\n"
     ]
    }
   ],
   "source": [
    "%load_ext autoreload"
   ]
  },
  {
   "cell_type": "code",
   "execution_count": 18,
   "id": "808455ad-3839-48db-bab7-4d660dd28da7",
   "metadata": {},
   "outputs": [],
   "source": [
    "%autoreload 2"
   ]
  },
  {
   "cell_type": "code",
   "execution_count": 141,
   "id": "7075a3d6-920f-4960-874d-43e91f107355",
   "metadata": {},
   "outputs": [
    {
     "name": "stdout",
     "output_type": "stream",
     "text": [
      "Resulting stoichiometry: {'Au': 70, 'Pt': 70}\n"
     ]
    },
    {
     "data": {
      "text/plain": [
       "array([1, 1, 1, 3, 0, 0, 1, 3, 0])"
      ]
     },
     "execution_count": 141,
     "metadata": {},
     "output_type": "execute_result"
    }
   ],
   "source": [
    "from Core.Nanoparticle import Nanoparticle\n",
    "\n",
    "p = Nanoparticle()\n",
    "p.truncated_octahedron(6,1,{'Pt':0.5,'Au':0.5})\n",
    "\n",
    "p.construct_adsorption_list()\n",
    "p.random_occupation(10)\n",
    "ads = AdsorptionFeatureVector(symbols)\n",
    "ads.compute_feature_vector(p)\n",
    "p.get_feature_vector('ADS')\n"
   ]
  },
  {
   "cell_type": "code",
   "execution_count": 154,
   "id": "59084d77-a5e2-4c67-8190-54560c21ea76",
   "metadata": {},
   "outputs": [],
   "source": [
    "def random_ex():\n",
    "    status0_indices = np.random.choice(p.get_occupation_status_by_indices(0), 1, replace=False)\n",
    "    status1_indices = np.random.choice(p.get_occupation_status_by_indices(1), 1, replace=False)\n",
    "    p.swap_status(zip(status0_indices, status1_indices))"
   ]
  },
  {
   "cell_type": "code",
   "execution_count": 145,
   "id": "03f34f4c-24a5-4382-8a99-21d1b9f864ff",
   "metadata": {},
   "outputs": [
    {
     "data": {
      "text/plain": [
       "array([0, 1, 1, 3, 0, 0, 1, 4, 0])"
      ]
     },
     "execution_count": 145,
     "metadata": {},
     "output_type": "execute_result"
    }
   ],
   "source": [
    "ads.compute_feature_vector(p)\n",
    "p.get_feature_vector('ADS')"
   ]
  },
  {
   "cell_type": "code",
   "execution_count": 149,
   "id": "fb1bef7e-e7c2-480f-914a-546056d812ec",
   "metadata": {},
   "outputs": [],
   "source": [
    "Au = 0\n",
    "Ni = 0\n",
    "Au2 = -0.28120172 \n",
    "Au2Ni = -1.00039431 \n",
    "Au3 = -0.35726243\n",
    "AuNi = -1.01410455\n",
    "AuNi2 = -2.08995281\n",
    "Ni2 = -2.23349599\n",
    "Ni3 = -2.40469383"
   ]
  },
  {
   "cell_type": "code",
   "execution_count": 166,
   "id": "6eb641a5-be32-473e-9549-940e4e1f5e12",
   "metadata": {},
   "outputs": [
    {
     "name": "stdout",
     "output_type": "stream",
     "text": [
      "-11.156317430000001 10\n"
     ]
    }
   ],
   "source": [
    "from Core.GlobalFeatureClassifier import AdsorptionFeatureVector\n",
    "from Core.EnergyCalculator import BayesianRRCalculator\n",
    "\n",
    "energy_calculator = BayesianRRCalculator('ADS')\n",
    "sergey_coefficients = [Au, Ni, Au2, AuNi, Ni2, Au3, Au2Ni, AuNi2, Ni3]\n",
    "energy_calculator.set_coefficients(sergey_coefficients)\n",
    "ads = AdsorptionFeatureVector(symbols)\n",
    "random_ex()\n",
    "ads.compute_feature_vector(p)\n",
    "p.get_feature_vector('ADS')\n",
    "energy_calculator.compute_energy(p)\n",
    "print(p.get_energy('BRR'), p.get_number_of_adsorbates())\n"
   ]
  },
  {
   "cell_type": "code",
   "execution_count": 188,
   "id": "c77d98d0-3008-46e8-bbc9-280692fba7d9",
   "metadata": {},
   "outputs": [
    {
     "name": "stdout",
     "output_type": "stream",
     "text": [
      "Resulting stoichiometry: {'Au': 70, 'Ni': 70}\n"
     ]
    },
    {
     "name": "stderr",
     "output_type": "stream",
     "text": [
      "/home/riccardo/Projects/NPL/MCMC/MonteCarlo.py:204: RuntimeWarning: overflow encountered in exp\n",
      "  if np.random.random() < acceptance_rate:\n"
     ]
    }
   ],
   "source": [
    "from MCMC import MonteCarlo as MC\n",
    "\n",
    "start_particle = Nanoparticle()\n",
    "start_particle.truncated_octahedron(6,1,{'Au':0.5,'Ni':0.5})\n",
    "\n",
    "p.construct_adsorption_list()\n",
    "\n",
    "beta = 200\n",
    "max_steps = 500\n",
    "energy_calculator = BayesianRRCalculator('ADS')\n",
    "sergey_coefficients = [Au, Ni, Au2, AuNi, Ni2, Au3, Au2Ni, AuNi2, Ni3]\n",
    "energy_calculator.set_coefficients(sergey_coefficients)\n",
    "n_adsorbates = 10\n",
    "\n",
    "[best_particle, accepted_energies] = MC.run_monte_carlo_for_adsorbates(beta, max_steps, start_particle, energy_calculator, n_adsorbates)"
   ]
  },
  {
   "cell_type": "code",
   "execution_count": 187,
   "id": "d2112566-3710-4767-a5f9-399feb6ebbd1",
   "metadata": {},
   "outputs": [
    {
     "data": {
      "text/plain": [
       "{111, 112, 113}"
      ]
     },
     "execution_count": 187,
     "metadata": {},
     "output_type": "execute_result"
    }
   ],
   "source": [
    "start_particle.get_site_atom_indices(518)"
   ]
  },
  {
   "cell_type": "code",
   "execution_count": 218,
   "id": "04614280-b544-4916-b4a8-ba09958b49ff",
   "metadata": {},
   "outputs": [],
   "source": [
    "from ase.visualize import view\n",
    "from Core.Adsorption import PlaceAddAtoms\n",
    "\n",
    "best_p = Nanoparticle()\n",
    "best_p.build_from_dictionary(best_particle)\n",
    "best_p.construct_neighbor_list()\n",
    "best_p.construct_adsorption_list()\n",
    "ads = PlaceAddAtoms(best_p.get_all_symbols())\n",
    "ads.bind_particle(best_p)\n",
    "for f in best_particle['ads']:\n",
    "    site = list(best_p.get_site_atom_indices(f))\n",
    "    ads.place_add_atom(best_p, 'O', [site])\n",
    "\n",
    "#view(best_p.get_ase_atoms(), viewer='ngl')"
   ]
  },
  {
   "cell_type": "code",
   "execution_count": 217,
   "id": "3698703a-3738-42b1-90db-ac4a5cbca846",
   "metadata": {},
   "outputs": [
    {
     "data": {
      "text/plain": [
       "190"
      ]
     },
     "execution_count": 217,
     "metadata": {},
     "output_type": "execute_result"
    }
   ],
   "source": [
    "f"
   ]
  },
  {
   "cell_type": "code",
   "execution_count": null,
   "id": "84290582-71d3-4c15-b00c-d48cba08578d",
   "metadata": {},
   "outputs": [],
   "source": []
  }
 ],
 "metadata": {
  "kernelspec": {
   "display_name": "Python 3 (ipykernel)",
   "language": "python",
   "name": "python3"
  },
  "language_info": {
   "codemirror_mode": {
    "name": "ipython",
    "version": 3
   },
   "file_extension": ".py",
   "mimetype": "text/x-python",
   "name": "python",
   "nbconvert_exporter": "python",
   "pygments_lexer": "ipython3",
   "version": "3.9.7"
  }
 },
 "nbformat": 4,
 "nbformat_minor": 5
}
